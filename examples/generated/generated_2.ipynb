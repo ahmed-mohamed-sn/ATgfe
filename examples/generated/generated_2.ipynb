{
 "cells": [
  {
   "cell_type": "markdown",
   "metadata": {},
   "source": [
    "# Optimal expression to find"
   ]
  },
  {
   "cell_type": "markdown",
   "metadata": {},
   "source": [
    "$$Y = (X_1 - X_2) / (X_3 - X_4)$$"
   ]
  },
  {
   "cell_type": "markdown",
   "metadata": {},
   "source": [
    "# Import packages"
   ]
  },
  {
   "cell_type": "code",
   "execution_count": 1,
   "metadata": {},
   "outputs": [],
   "source": [
    "from atgfe.GeneticFeatureEngineer import GeneticFeatureEngineer\n",
    "import pandas as pd\n",
    "import numpy as np\n",
    "from sklearn.model_selection import train_test_split, cross_val_score\n",
    "from sklearn.linear_model import LinearRegression\n",
    "from sklearn.preprocessing import StandardScaler\n",
    "from sklearn.pipeline import make_pipeline\n",
    "from sklearn.metrics import mean_squared_error, make_scorer\n",
    "from yellowbrick.regressor import ResidualsPlot, PredictionError\n",
    "from lightgbm import LGBMRegressor"
   ]
  },
  {
   "cell_type": "code",
   "execution_count": 2,
   "metadata": {},
   "outputs": [
    {
     "data": {
      "text/html": [
       "<div>\n",
       "<style scoped>\n",
       "    .dataframe tbody tr th:only-of-type {\n",
       "        vertical-align: middle;\n",
       "    }\n",
       "\n",
       "    .dataframe tbody tr th {\n",
       "        vertical-align: top;\n",
       "    }\n",
       "\n",
       "    .dataframe thead th {\n",
       "        text-align: right;\n",
       "    }\n",
       "</style>\n",
       "<table border=\"1\" class=\"dataframe\">\n",
       "  <thead>\n",
       "    <tr style=\"text-align: right;\">\n",
       "      <th></th>\n",
       "      <th>X1</th>\n",
       "      <th>X2</th>\n",
       "      <th>X3</th>\n",
       "      <th>X4</th>\n",
       "      <th>Y</th>\n",
       "    </tr>\n",
       "  </thead>\n",
       "  <tbody>\n",
       "    <tr>\n",
       "      <th>0</th>\n",
       "      <td>833</td>\n",
       "      <td>1888</td>\n",
       "      <td>409</td>\n",
       "      <td>21</td>\n",
       "      <td>-2.719072</td>\n",
       "    </tr>\n",
       "    <tr>\n",
       "      <th>1</th>\n",
       "      <td>4439</td>\n",
       "      <td>4523</td>\n",
       "      <td>485</td>\n",
       "      <td>223</td>\n",
       "      <td>-0.320611</td>\n",
       "    </tr>\n",
       "    <tr>\n",
       "      <th>2</th>\n",
       "      <td>2758</td>\n",
       "      <td>2540</td>\n",
       "      <td>456</td>\n",
       "      <td>143</td>\n",
       "      <td>0.696486</td>\n",
       "    </tr>\n",
       "    <tr>\n",
       "      <th>3</th>\n",
       "      <td>2316</td>\n",
       "      <td>1854</td>\n",
       "      <td>500</td>\n",
       "      <td>180</td>\n",
       "      <td>1.443750</td>\n",
       "    </tr>\n",
       "    <tr>\n",
       "      <th>4</th>\n",
       "      <td>1540</td>\n",
       "      <td>2550</td>\n",
       "      <td>409</td>\n",
       "      <td>468</td>\n",
       "      <td>17.118644</td>\n",
       "    </tr>\n",
       "  </tbody>\n",
       "</table>\n",
       "</div>"
      ],
      "text/plain": [
       "     X1    X2   X3   X4          Y\n",
       "0   833  1888  409   21  -2.719072\n",
       "1  4439  4523  485  223  -0.320611\n",
       "2  2758  2540  456  143   0.696486\n",
       "3  2316  1854  500  180   1.443750\n",
       "4  1540  2550  409  468  17.118644"
      ]
     },
     "execution_count": 2,
     "metadata": {},
     "output_type": "execute_result"
    }
   ],
   "source": [
    "df = pd.read_csv('./data/generated_2.csv')\n",
    "df.head()"
   ]
  },
  {
   "cell_type": "code",
   "execution_count": 3,
   "metadata": {},
   "outputs": [],
   "source": [
    "target = 'Y'\n",
    "columns = df.drop(target, axis=1).columns.tolist()"
   ]
  },
  {
   "cell_type": "code",
   "execution_count": 4,
   "metadata": {},
   "outputs": [],
   "source": [
    "X = df.drop(target, axis=1).copy()\n",
    "Y = df.loc[:, target].copy()\n",
    "X_train, X_test, y_train, y_test = train_test_split(X, Y, test_size=0.3, random_state=77)"
   ]
  },
  {
   "cell_type": "code",
   "execution_count": 5,
   "metadata": {},
   "outputs": [],
   "source": [
    "def display_residual_plot(model):\n",
    "    visualizer = ResidualsPlot(model)\n",
    "    visualizer.fit(X_train, y_train)  \n",
    "    visualizer.score(X_test, y_test)  \n",
    "    visualizer.poof()                 "
   ]
  },
  {
   "cell_type": "code",
   "execution_count": 6,
   "metadata": {},
   "outputs": [],
   "source": [
    "def prediction_error_plot(model):\n",
    "    visualizer = PredictionError(model)\n",
    "    visualizer.fit(X_train, y_train)  \n",
    "    visualizer.score(X_test, y_test)  \n",
    "    visualizer.poof()     "
   ]
  },
  {
   "cell_type": "code",
   "execution_count": 7,
   "metadata": {},
   "outputs": [],
   "source": [
    "def rmse(y_true, y_pred):\n",
    "    return np.sqrt(mean_squared_error(y_true, y_pred))"
   ]
  },
  {
   "cell_type": "code",
   "execution_count": 8,
   "metadata": {},
   "outputs": [],
   "source": [
    "def score_model(model, X, y):\n",
    "    evaluation_metric_scorer = make_scorer(rmse, greater_is_better=True)\n",
    "    scores = cross_val_score(estimator=model, X=X, y=y, cv=10, scoring=evaluation_metric_scorer, n_jobs=-1)\n",
    "    scores_mean = scores.mean()\n",
    "    score_std = scores.std()\n",
    "    print('Mean of metric: {}, std: {}'.format(scores_mean, score_std))"
   ]
  },
  {
   "cell_type": "code",
   "execution_count": 9,
   "metadata": {},
   "outputs": [],
   "source": [
    "def create_new_model():\n",
    "    return make_pipeline(StandardScaler(), LinearRegression())"
   ]
  },
  {
   "cell_type": "markdown",
   "metadata": {},
   "source": [
    "# Using LightGBM"
   ]
  },
  {
   "cell_type": "code",
   "execution_count": 10,
   "metadata": {},
   "outputs": [],
   "source": [
    "lgbm_model = LGBMRegressor(random_state=7)"
   ]
  },
  {
   "cell_type": "code",
   "execution_count": 11,
   "metadata": {},
   "outputs": [
    {
     "name": "stdout",
     "output_type": "stream",
     "text": [
      "Mean of metric: 150.64248826152397, std: 65.20853946472674\n"
     ]
    }
   ],
   "source": [
    "score_model(lgbm_model, X, Y)"
   ]
  },
  {
   "cell_type": "code",
   "execution_count": 12,
   "metadata": {},
   "outputs": [
    {
     "data": {
      "image/png": "[encoded data removed]",
      "text/plain": [
       "<Figure size 432x288 with 2 Axes>"
      ]
     },
     "metadata": {
      "needs_background": "light"
     },
     "output_type": "display_data"
    }
   ],
   "source": [
    "display_residual_plot(lgbm_model)"
   ]
  },
  {
   "cell_type": "code",
   "execution_count": 13,
   "metadata": {},
   "outputs": [
    {
     "data": {
      "image/png": "[encoded data removed]",
      "text/plain": [
       "<Figure size 432x288 with 1 Axes>"
      ]
     },
     "metadata": {
      "needs_background": "light"
     },
     "output_type": "display_data"
    }
   ],
   "source": [
    "prediction_error_plot(lgbm_model)"
   ]
  },
  {
   "cell_type": "markdown",
   "metadata": {},
   "source": [
    "# Using Linear Regression"
   ]
  },
  {
   "cell_type": "code",
   "execution_count": 14,
   "metadata": {},
   "outputs": [],
   "source": [
    "model = create_new_model()"
   ]
  },
  {
   "cell_type": "code",
   "execution_count": 15,
   "metadata": {},
   "outputs": [
    {
     "name": "stdout",
     "output_type": "stream",
     "text": [
      "Mean of metric: 141.2618292515843, std: 71.71828825285208\n"
     ]
    }
   ],
   "source": [
    "score_model(model, X, Y)"
   ]
  },
  {
   "cell_type": "code",
   "execution_count": 16,
   "metadata": {},
   "outputs": [
    {
     "data": {
      "image/png": "[encoded data removed]",
      "text/plain": [
       "<Figure size 432x288 with 2 Axes>"
      ]
     },
     "metadata": {
      "needs_background": "light"
     },
     "output_type": "display_data"
    }
   ],
   "source": [
    "display_residual_plot(model)"
   ]
  },
  {
   "cell_type": "code",
   "execution_count": 17,
   "metadata": {},
   "outputs": [
    {
     "data": {
      "image/png": "[encoded data removed]",
      "text/plain": [
       "<Figure size 432x288 with 1 Axes>"
      ]
     },
     "metadata": {
      "needs_background": "light"
     },
     "output_type": "display_data"
    }
   ],
   "source": [
    "prediction_error_plot(model)"
   ]
  },
  {
   "cell_type": "markdown",
   "metadata": {},
   "source": [
    "# Using ATgfe"
   ]
  },
  {
   "cell_type": "code",
   "execution_count": 18,
   "metadata": {},
   "outputs": [
    {
     "name": "stderr",
     "output_type": "stream",
     "text": [
      "2019-11-26 22:37:26,245:INFO: New Engineer created with the following parameters: \n",
      "2019-11-26 22:37:26,246:INFO: \n",
      "Model type: <class 'sklearn.pipeline.Pipeline'>\n",
      "Numerical Features: ['X1', 'X2', 'X3', 'X4']\n",
      "Number of candidate features: 1\n",
      "Number of interacting features: 4\n",
      "Evaluation Metric: rmse\n",
      "Minimize metric is True \n"
     ]
    }
   ],
   "source": [
    "gfe = GeneticFeatureEngineer(model, x_train=X_train, y_train=y_train, numerical_features=columns,\n",
    "                             number_of_candidate_features=1,\n",
    "                             number_of_interacting_features=4,\n",
    "                             evaluation_metric=rmse, fit_wo_original_columns=True,\n",
    "                             shuffle_training_data_every_generation=True, n_jobs=16)"
   ]
  },
  {
   "cell_type": "code",
   "execution_count": 19,
   "metadata": {},
   "outputs": [
    {
     "name": "stdout",
     "output_type": "stream",
     "text": [
      "Start of evolution\n",
      "   \t      \t                                                            fitness                                                            \n",
      "   \t      \t-------------------------------------------------------------------------------------------------------------------------------\n",
      "gen\tnevals\tavg        \tbest_ind_in_gen_val_score\tbest_val_score\tgen\tmax  \tmin    \tnevals\tstd        \ttime_in_seconds\n",
      "0  \t5000  \t1.21704e+10\tnan                      \tnan           \t0  \t1e+11\t181.424\t5000  \t3.23742e+10\tnan            \n",
      "1  \t5200  \t154.202    \t136.315                  \t136.315       \t1  \t154.56\t127.039\t5200  \t2.02196    \t1.56228        \n",
      "2  \t5200  \t178.931    \t132.04                   \t132.04        \t2  \t180.101\t166.15 \t5200  \t2.71896    \t1.53612        \n",
      "3  \t5200  \t146.962    \t132.04                   \t132.04        \t3  \t148.839\t5.10112e-14\t5200  \t9.80675    \t1.62031        \n",
      "4  \t5200  \t179.895    \t9.1722e-14               \t9.1722e-14    \t4  \t185.51 \t1.77096e-13\t5200  \t31.1996    \t1.54155        \n",
      "5  \t5200  \t144.674    \t9.1722e-14               \t9.1722e-14    \t5  \t162.763\t8.04484e-14\t5200  \t49.9225    \t1.53126        \n",
      "6  \t5200  \t121.835    \t9.1722e-14               \t9.1722e-14    \t6  \t190.834\t9.80572e-14\t5200  \t91.3369    \t1.58121        \n",
      "7  \t5200  \t9.53895    \t9.1722e-14               \t9.1722e-14    \t7  \t137.047\t9.42725e-14\t5200  \t34.0371    \t1.51975        \n",
      "8  \t5200  \t9.38364e-14\t9.1722e-14               \t9.1722e-14    \t8  \t9.38364e-14\t9.38364e-14\t5200  \t1.26218e-29\t1.4927         \n",
      "9  \t5200  \t6.4413e-14 \t9.1722e-14               \t9.1722e-14    \t9  \t6.4413e-14 \t6.4413e-14 \t5200  \t1.26218e-29\t1.4969         \n",
      "10 \t5200  \t9.59049e-14\t9.1722e-14               \t9.1722e-14    \t10 \t9.59049e-14\t9.59049e-14\t5200  \t1.26218e-29\t1.50116        \n",
      "11 \t5200  \t6.35695e-14\t9.1722e-14               \t9.1722e-14    \t11 \t6.35695e-14\t6.35695e-14\t5200  \t0          \t1.57581        \n",
      "12 \t5200  \t7.90422e-14\t9.1722e-14               \t9.1722e-14    \t12 \t7.90422e-14\t7.90422e-14\t5200  \t0          \t1.5173         \n",
      "13 \t5200  \t6.04906e-14\t9.1722e-14               \t9.1722e-14    \t13 \t6.04906e-14\t6.04906e-14\t5200  \t0          \t1.53635        \n",
      "-- End of (successful) evolution --\n",
      "Best validation score: 9.172200378140347e-14\n",
      "All columns: ['(X1 - X2)/(-X3 + X4)']\n"
     ]
    }
   ],
   "source": [
    "gfe.fit(mu=5000, lambda_=5200, early_stopping_patience=10, mutation_probability=0.5, crossover_probability=0.5)"
   ]
  },
  {
   "cell_type": "markdown",
   "metadata": {},
   "source": [
    "# Use ATgfe"
   ]
  },
  {
   "cell_type": "markdown",
   "metadata": {},
   "source": [
    "# Apply GFE"
   ]
  },
  {
   "cell_type": "code",
   "execution_count": 20,
   "metadata": {},
   "outputs": [],
   "source": [
    "X = gfe.transform(X)"
   ]
  },
  {
   "cell_type": "code",
   "execution_count": 21,
   "metadata": {},
   "outputs": [
    {
     "data": {
      "text/html": [
       "<div>\n",
       "<style scoped>\n",
       "    .dataframe tbody tr th:only-of-type {\n",
       "        vertical-align: middle;\n",
       "    }\n",
       "\n",
       "    .dataframe tbody tr th {\n",
       "        vertical-align: top;\n",
       "    }\n",
       "\n",
       "    .dataframe thead th {\n",
       "        text-align: right;\n",
       "    }\n",
       "</style>\n",
       "<table border=\"1\" class=\"dataframe\">\n",
       "  <thead>\n",
       "    <tr style=\"text-align: right;\">\n",
       "      <th></th>\n",
       "      <th>X1</th>\n",
       "      <th>X2</th>\n",
       "      <th>X3</th>\n",
       "      <th>X4</th>\n",
       "      <th>(X1 - X2)/(-X3 + X4)</th>\n",
       "    </tr>\n",
       "  </thead>\n",
       "  <tbody>\n",
       "    <tr>\n",
       "      <th>0</th>\n",
       "      <td>833</td>\n",
       "      <td>1888</td>\n",
       "      <td>409</td>\n",
       "      <td>21</td>\n",
       "      <td>2.719072</td>\n",
       "    </tr>\n",
       "    <tr>\n",
       "      <th>1</th>\n",
       "      <td>4439</td>\n",
       "      <td>4523</td>\n",
       "      <td>485</td>\n",
       "      <td>223</td>\n",
       "      <td>0.320611</td>\n",
       "    </tr>\n",
       "    <tr>\n",
       "      <th>2</th>\n",
       "      <td>2758</td>\n",
       "      <td>2540</td>\n",
       "      <td>456</td>\n",
       "      <td>143</td>\n",
       "      <td>-0.696486</td>\n",
       "    </tr>\n",
       "    <tr>\n",
       "      <th>3</th>\n",
       "      <td>2316</td>\n",
       "      <td>1854</td>\n",
       "      <td>500</td>\n",
       "      <td>180</td>\n",
       "      <td>-1.443750</td>\n",
       "    </tr>\n",
       "    <tr>\n",
       "      <th>4</th>\n",
       "      <td>1540</td>\n",
       "      <td>2550</td>\n",
       "      <td>409</td>\n",
       "      <td>468</td>\n",
       "      <td>-17.118644</td>\n",
       "    </tr>\n",
       "    <tr>\n",
       "      <th>5</th>\n",
       "      <td>1931</td>\n",
       "      <td>2306</td>\n",
       "      <td>436</td>\n",
       "      <td>92</td>\n",
       "      <td>1.090116</td>\n",
       "    </tr>\n",
       "    <tr>\n",
       "      <th>6</th>\n",
       "      <td>707</td>\n",
       "      <td>4944</td>\n",
       "      <td>447</td>\n",
       "      <td>370</td>\n",
       "      <td>55.025974</td>\n",
       "    </tr>\n",
       "    <tr>\n",
       "      <th>7</th>\n",
       "      <td>2487</td>\n",
       "      <td>1459</td>\n",
       "      <td>475</td>\n",
       "      <td>320</td>\n",
       "      <td>-6.632258</td>\n",
       "    </tr>\n",
       "    <tr>\n",
       "      <th>8</th>\n",
       "      <td>1557</td>\n",
       "      <td>2779</td>\n",
       "      <td>447</td>\n",
       "      <td>370</td>\n",
       "      <td>15.870130</td>\n",
       "    </tr>\n",
       "    <tr>\n",
       "      <th>9</th>\n",
       "      <td>3913</td>\n",
       "      <td>1915</td>\n",
       "      <td>443</td>\n",
       "      <td>408</td>\n",
       "      <td>-57.085714</td>\n",
       "    </tr>\n",
       "    <tr>\n",
       "      <th>10</th>\n",
       "      <td>4079</td>\n",
       "      <td>4870</td>\n",
       "      <td>487</td>\n",
       "      <td>464</td>\n",
       "      <td>34.391304</td>\n",
       "    </tr>\n",
       "    <tr>\n",
       "      <th>11</th>\n",
       "      <td>3049</td>\n",
       "      <td>2201</td>\n",
       "      <td>474</td>\n",
       "      <td>32</td>\n",
       "      <td>-1.918552</td>\n",
       "    </tr>\n",
       "    <tr>\n",
       "      <th>12</th>\n",
       "      <td>3954</td>\n",
       "      <td>2275</td>\n",
       "      <td>406</td>\n",
       "      <td>146</td>\n",
       "      <td>-6.457692</td>\n",
       "    </tr>\n",
       "    <tr>\n",
       "      <th>13</th>\n",
       "      <td>4500</td>\n",
       "      <td>2631</td>\n",
       "      <td>441</td>\n",
       "      <td>238</td>\n",
       "      <td>-9.206897</td>\n",
       "    </tr>\n",
       "    <tr>\n",
       "      <th>14</th>\n",
       "      <td>4199</td>\n",
       "      <td>3804</td>\n",
       "      <td>465</td>\n",
       "      <td>122</td>\n",
       "      <td>-1.151603</td>\n",
       "    </tr>\n",
       "    <tr>\n",
       "      <th>15</th>\n",
       "      <td>1856</td>\n",
       "      <td>4431</td>\n",
       "      <td>447</td>\n",
       "      <td>310</td>\n",
       "      <td>18.795620</td>\n",
       "    </tr>\n",
       "    <tr>\n",
       "      <th>16</th>\n",
       "      <td>2345</td>\n",
       "      <td>2980</td>\n",
       "      <td>412</td>\n",
       "      <td>121</td>\n",
       "      <td>2.182131</td>\n",
       "    </tr>\n",
       "    <tr>\n",
       "      <th>17</th>\n",
       "      <td>2841</td>\n",
       "      <td>3082</td>\n",
       "      <td>477</td>\n",
       "      <td>107</td>\n",
       "      <td>0.651351</td>\n",
       "    </tr>\n",
       "    <tr>\n",
       "      <th>18</th>\n",
       "      <td>1342</td>\n",
       "      <td>2779</td>\n",
       "      <td>431</td>\n",
       "      <td>29</td>\n",
       "      <td>3.574627</td>\n",
       "    </tr>\n",
       "    <tr>\n",
       "      <th>19</th>\n",
       "      <td>4630</td>\n",
       "      <td>1704</td>\n",
       "      <td>427</td>\n",
       "      <td>343</td>\n",
       "      <td>-34.833333</td>\n",
       "    </tr>\n",
       "  </tbody>\n",
       "</table>\n",
       "</div>"
      ],
      "text/plain": [
       "      X1    X2   X3   X4  (X1 - X2)/(-X3 + X4)\n",
       "0    833  1888  409   21              2.719072\n",
       "1   4439  4523  485  223              0.320611\n",
       "2   2758  2540  456  143             -0.696486\n",
       "3   2316  1854  500  180             -1.443750\n",
       "4   1540  2550  409  468            -17.118644\n",
       "5   1931  2306  436   92              1.090116\n",
       "6    707  4944  447  370             55.025974\n",
       "7   2487  1459  475  320             -6.632258\n",
       "8   1557  2779  447  370             15.870130\n",
       "9   3913  1915  443  408            -57.085714\n",
       "10  4079  4870  487  464             34.391304\n",
       "11  3049  2201  474   32             -1.918552\n",
       "12  3954  2275  406  146             -6.457692\n",
       "13  4500  2631  441  238             -9.206897\n",
       "14  4199  3804  465  122             -1.151603\n",
       "15  1856  4431  447  310             18.795620\n",
       "16  2345  2980  412  121              2.182131\n",
       "17  2841  3082  477  107              0.651351\n",
       "18  1342  2779  431   29              3.574627\n",
       "19  4630  1704  427  343            -34.833333"
      ]
     },
     "execution_count": 21,
     "metadata": {},
     "output_type": "execute_result"
    }
   ],
   "source": [
    "X.head(20)"
   ]
  },
  {
   "cell_type": "code",
   "execution_count": 22,
   "metadata": {},
   "outputs": [],
   "source": [
    "model = create_new_model()"
   ]
  },
  {
   "cell_type": "code",
   "execution_count": 23,
   "metadata": {},
   "outputs": [
    {
     "name": "stdout",
     "output_type": "stream",
     "text": [
      "Mean of metric: 1.3390124513276298e-13, std: 5.545854458164717e-14\n"
     ]
    }
   ],
   "source": [
    "score_model(model, X, Y)"
   ]
  },
  {
   "cell_type": "code",
   "execution_count": 24,
   "metadata": {},
   "outputs": [],
   "source": [
    "X_train, X_test, y_train, y_test = train_test_split(X, Y, test_size=0.3, random_state=77)"
   ]
  },
  {
   "cell_type": "code",
   "execution_count": 25,
   "metadata": {},
   "outputs": [
    {
     "data": {
      "image/png": "[encoded data removed]",
      "text/plain": [
       "<Figure size 432x288 with 2 Axes>"
      ]
     },
     "metadata": {
      "needs_background": "light"
     },
     "output_type": "display_data"
    }
   ],
   "source": [
    "display_residual_plot(model)"
   ]
  },
  {
   "cell_type": "code",
   "execution_count": 26,
   "metadata": {},
   "outputs": [
    {
     "data": {
      "image/png": "[encoded data removed]",
      "text/plain": [
       "<Figure size 432x288 with 1 Axes>"
      ]
     },
     "metadata": {
      "needs_background": "light"
     },
     "output_type": "display_data"
    }
   ],
   "source": [
    "prediction_error_plot(model)"
   ]
  }
 ],
 "metadata": {
  "kernelspec": {
   "display_name": "Python 3",
   "language": "python",
   "name": "python3"
  },
  "language_info": {
   "codemirror_mode": {
    "name": "ipython",
    "version": 3
   },
   "file_extension": ".py",
   "mimetype": "text/x-python",
   "name": "python",
   "nbconvert_exporter": "python",
   "pygments_lexer": "ipython3",
   "version": "3.7.3"
  }
 },
 "nbformat": 4,
 "nbformat_minor": 4
}
