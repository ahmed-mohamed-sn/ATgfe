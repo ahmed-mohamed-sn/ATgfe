{
 "cells": [
  {
   "cell_type": "markdown",
   "metadata": {},
   "source": [
    "# Optimial expression to find"
   ]
  },
  {
   "cell_type": "markdown",
   "metadata": {},
   "source": [
    "$$Y = (Log_{10}(X_1) + Log_{10}(X_2))\\div X_5$$"
   ]
  },
  {
   "cell_type": "markdown",
   "metadata": {},
   "source": [
    "# Results summary"
   ]
  },
  {
   "cell_type": "markdown",
   "metadata": {},
   "source": [
    "| Linear Regression                                               | LightGBM Regressor                                             | Linear Regression + ATgfe                               |\n",
    "|-----------------------------------------------------------------|----------------------------------------------------------------|---------------------------------------------------------|\n",
    "| <ul>     <li>RMSE: 0.140</li>     <li>r^2: 0.899</li> </ul>     | <ul>     <li>RMSE: 0.102</li>     <li>r^2: 0.895</li> </ul>    | <ul>  <li>RMSE: **0.0**</li><li>r^2: **1.0**</li> </ul> |"
   ]
  },
  {
   "cell_type": "markdown",
   "metadata": {},
   "source": [
    "# Import packages"
   ]
  },
  {
   "cell_type": "code",
   "execution_count": 1,
   "metadata": {},
   "outputs": [],
   "source": [
    "from atgfe.GeneticFeatureEngineer import GeneticFeatureEngineer\n",
    "import pandas as pd\n",
    "import numpy as np\n",
    "from sklearn.model_selection import train_test_split, cross_val_score\n",
    "from sklearn.linear_model import LinearRegression\n",
    "from sklearn.preprocessing import StandardScaler\n",
    "from sklearn.pipeline import make_pipeline\n",
    "from sklearn.metrics import mean_squared_error, make_scorer\n",
    "from yellowbrick.regressor import ResidualsPlot, PredictionError\n",
    "from lightgbm import LGBMRegressor"
   ]
  },
  {
   "cell_type": "code",
   "execution_count": 2,
   "metadata": {},
   "outputs": [
    {
     "data": {
      "text/html": [
       "<div>\n",
       "<style scoped>\n",
       "    .dataframe tbody tr th:only-of-type {\n",
       "        vertical-align: middle;\n",
       "    }\n",
       "\n",
       "    .dataframe tbody tr th {\n",
       "        vertical-align: top;\n",
       "    }\n",
       "\n",
       "    .dataframe thead th {\n",
       "        text-align: right;\n",
       "    }\n",
       "</style>\n",
       "<table border=\"1\" class=\"dataframe\">\n",
       "  <thead>\n",
       "    <tr style=\"text-align: right;\">\n",
       "      <th></th>\n",
       "      <th>X1</th>\n",
       "      <th>X2</th>\n",
       "      <th>X3</th>\n",
       "      <th>X4</th>\n",
       "      <th>X5</th>\n",
       "      <th>X6</th>\n",
       "      <th>X7</th>\n",
       "      <th>Y</th>\n",
       "    </tr>\n",
       "  </thead>\n",
       "  <tbody>\n",
       "    <tr>\n",
       "      <th>0</th>\n",
       "      <td>2.985875</td>\n",
       "      <td>2.328380</td>\n",
       "      <td>2.477121</td>\n",
       "      <td>2.956649</td>\n",
       "      <td>2.997823</td>\n",
       "      <td>2.863917</td>\n",
       "      <td>2.559907</td>\n",
       "      <td>1.772705</td>\n",
       "    </tr>\n",
       "    <tr>\n",
       "      <th>1</th>\n",
       "      <td>2.012837</td>\n",
       "      <td>2.482874</td>\n",
       "      <td>2.686636</td>\n",
       "      <td>2.806180</td>\n",
       "      <td>2.662758</td>\n",
       "      <td>2.669317</td>\n",
       "      <td>2.902547</td>\n",
       "      <td>1.688366</td>\n",
       "    </tr>\n",
       "    <tr>\n",
       "      <th>2</th>\n",
       "      <td>2.324282</td>\n",
       "      <td>2.653213</td>\n",
       "      <td>2.627366</td>\n",
       "      <td>2.981819</td>\n",
       "      <td>2.617000</td>\n",
       "      <td>2.895423</td>\n",
       "      <td>2.898725</td>\n",
       "      <td>1.901985</td>\n",
       "    </tr>\n",
       "    <tr>\n",
       "      <th>3</th>\n",
       "      <td>1.579784</td>\n",
       "      <td>2.434569</td>\n",
       "      <td>2.794488</td>\n",
       "      <td>2.737193</td>\n",
       "      <td>2.957128</td>\n",
       "      <td>2.808886</td>\n",
       "      <td>2.431364</td>\n",
       "      <td>1.357517</td>\n",
       "    </tr>\n",
       "    <tr>\n",
       "      <th>4</th>\n",
       "      <td>1.778151</td>\n",
       "      <td>2.695482</td>\n",
       "      <td>2.514548</td>\n",
       "      <td>2.987219</td>\n",
       "      <td>2.641474</td>\n",
       "      <td>2.955688</td>\n",
       "      <td>2.872156</td>\n",
       "      <td>1.693612</td>\n",
       "    </tr>\n",
       "  </tbody>\n",
       "</table>\n",
       "</div>"
      ],
      "text/plain": [
       "         X1        X2        X3        X4        X5        X6        X7  \\\n",
       "0  2.985875  2.328380  2.477121  2.956649  2.997823  2.863917  2.559907   \n",
       "1  2.012837  2.482874  2.686636  2.806180  2.662758  2.669317  2.902547   \n",
       "2  2.324282  2.653213  2.627366  2.981819  2.617000  2.895423  2.898725   \n",
       "3  1.579784  2.434569  2.794488  2.737193  2.957128  2.808886  2.431364   \n",
       "4  1.778151  2.695482  2.514548  2.987219  2.641474  2.955688  2.872156   \n",
       "\n",
       "          Y  \n",
       "0  1.772705  \n",
       "1  1.688366  \n",
       "2  1.901985  \n",
       "3  1.357517  \n",
       "4  1.693612  "
      ]
     },
     "execution_count": 2,
     "metadata": {},
     "output_type": "execute_result"
    }
   ],
   "source": [
    "df = pd.read_csv('./data/generated_3.csv')\n",
    "df.head()"
   ]
  },
  {
   "cell_type": "code",
   "execution_count": 3,
   "metadata": {},
   "outputs": [],
   "source": [
    "target = 'Y'\n",
    "columns = df.drop(target, axis=1).columns.tolist()"
   ]
  },
  {
   "cell_type": "code",
   "execution_count": 4,
   "metadata": {},
   "outputs": [],
   "source": [
    "X = df.drop(target, axis=1).copy()\n",
    "Y = df.loc[:, target].copy()\n",
    "X_train, X_test, y_train, y_test = train_test_split(X, Y, test_size=0.3, random_state=77)"
   ]
  },
  {
   "cell_type": "code",
   "execution_count": 5,
   "metadata": {},
   "outputs": [],
   "source": [
    "def display_residual_plot(model):\n",
    "    visualizer = ResidualsPlot(model)\n",
    "    visualizer.fit(X_train, y_train)  \n",
    "    visualizer.score(X_test, y_test)  \n",
    "    visualizer.poof()                 "
   ]
  },
  {
   "cell_type": "code",
   "execution_count": 6,
   "metadata": {},
   "outputs": [],
   "source": [
    "def prediction_error_plot(model):\n",
    "    visualizer = PredictionError(model)\n",
    "    visualizer.fit(X_train, y_train)  \n",
    "    visualizer.score(X_test, y_test)  \n",
    "    visualizer.poof()     "
   ]
  },
  {
   "cell_type": "code",
   "execution_count": 7,
   "metadata": {},
   "outputs": [],
   "source": [
    "def rmse(y_true, y_pred):\n",
    "    return np.sqrt(mean_squared_error(y_true, y_pred))"
   ]
  },
  {
   "cell_type": "code",
   "execution_count": 8,
   "metadata": {},
   "outputs": [],
   "source": [
    "def score_model(model, X, y):\n",
    "    evaluation_metric_scorer = make_scorer(rmse, greater_is_better=True)\n",
    "    scores = cross_val_score(estimator=model, X=X, y=y, cv=10, scoring=evaluation_metric_scorer, n_jobs=-1)\n",
    "    scores_mean = scores.mean()\n",
    "    score_std = scores.std()\n",
    "    print('Mean of metric: {}, std: {}'.format(scores_mean, score_std))"
   ]
  },
  {
   "cell_type": "code",
   "execution_count": 9,
   "metadata": {},
   "outputs": [],
   "source": [
    "def create_new_model():\n",
    "    return make_pipeline(StandardScaler(), LinearRegression())"
   ]
  },
  {
   "cell_type": "markdown",
   "metadata": {},
   "source": [
    "# Using LightGBM"
   ]
  },
  {
   "cell_type": "code",
   "execution_count": 10,
   "metadata": {},
   "outputs": [],
   "source": [
    "lgbm_model = LGBMRegressor(random_state=7)"
   ]
  },
  {
   "cell_type": "code",
   "execution_count": 11,
   "metadata": {},
   "outputs": [
    {
     "name": "stdout",
     "output_type": "stream",
     "text": [
      "Mean of metric: 0.10208948453458995, std: 0.04861021818019637\n"
     ]
    }
   ],
   "source": [
    "score_model(lgbm_model, X, Y)"
   ]
  },
  {
   "cell_type": "code",
   "execution_count": 12,
   "metadata": {},
   "outputs": [
    {
     "data": {
      "image/png": "[encoded data removed]",
      "text/plain": [
       "<Figure size 432x288 with 2 Axes>"
      ]
     },
     "metadata": {
      "needs_background": "light"
     },
     "output_type": "display_data"
    }
   ],
   "source": [
    "display_residual_plot(lgbm_model)"
   ]
  },
  {
   "cell_type": "code",
   "execution_count": 13,
   "metadata": {},
   "outputs": [
    {
     "data": {
      "image/png": "[encoded data removed]",
      "text/plain": [
       "<Figure size 432x288 with 1 Axes>"
      ]
     },
     "metadata": {
      "needs_background": "light"
     },
     "output_type": "display_data"
    }
   ],
   "source": [
    "prediction_error_plot(lgbm_model)"
   ]
  },
  {
   "cell_type": "markdown",
   "metadata": {},
   "source": [
    "# Using Linear Regression"
   ]
  },
  {
   "cell_type": "code",
   "execution_count": 14,
   "metadata": {},
   "outputs": [],
   "source": [
    "model = create_new_model()"
   ]
  },
  {
   "cell_type": "code",
   "execution_count": 15,
   "metadata": {},
   "outputs": [
    {
     "name": "stdout",
     "output_type": "stream",
     "text": [
      "Mean of metric: 0.14059245610479723, std: 0.03965331155573807\n"
     ]
    }
   ],
   "source": [
    "score_model(model, X, Y)"
   ]
  },
  {
   "cell_type": "code",
   "execution_count": 16,
   "metadata": {},
   "outputs": [
    {
     "data": {
      "image/png": "[encoded data removed]",
      "text/plain": [
       "<Figure size 432x288 with 2 Axes>"
      ]
     },
     "metadata": {
      "needs_background": "light"
     },
     "output_type": "display_data"
    }
   ],
   "source": [
    "display_residual_plot(model)"
   ]
  },
  {
   "cell_type": "code",
   "execution_count": 17,
   "metadata": {},
   "outputs": [
    {
     "data": {
      "image/png": "[encoded data removed]",
      "text/plain": [
       "<Figure size 432x288 with 1 Axes>"
      ]
     },
     "metadata": {
      "needs_background": "light"
     },
     "output_type": "display_data"
    }
   ],
   "source": [
    "prediction_error_plot(model)"
   ]
  },
  {
   "cell_type": "markdown",
   "metadata": {},
   "source": [
    "# Using ATgfe"
   ]
  },
  {
   "cell_type": "code",
   "execution_count": 18,
   "metadata": {},
   "outputs": [
    {
     "name": "stderr",
     "output_type": "stream",
     "text": [
      "2019-11-26 22:29:43,760:INFO: New Engineer created with the following parameters: \n",
      "2019-11-26 22:29:43,761:INFO: \n",
      "Model type: <class 'sklearn.pipeline.Pipeline'>\n",
      "Numerical Features: ['X1', 'X2', 'X3', 'X4', 'X5', 'X6', 'X7']\n",
      "Number of candidate features: 1\n",
      "Number of interacting features: 3\n",
      "Evaluation Metric: rmse\n",
      "Minimize metric is True \n"
     ]
    }
   ],
   "source": [
    "gfe = GeneticFeatureEngineer(model, x_train=X_train, y_train=y_train, numerical_features=columns,\n",
    "                             number_of_candidate_features=1,\n",
    "                             number_of_interacting_features=3,\n",
    "                             evaluation_metric=rmse, fit_wo_original_columns=False,\n",
    "                             enable_feature_transformation_operations=True, shuffle_training_data_every_generation=True, n_jobs=16)"
   ]
  },
  {
   "cell_type": "code",
   "execution_count": 19,
   "metadata": {},
   "outputs": [
    {
     "name": "stdout",
     "output_type": "stream",
     "text": [
      "Start of evolution\n",
      "   \t      \t                                                            fitness                                                            \n",
      "   \t      \t-------------------------------------------------------------------------------------------------------------------------------\n",
      "gen\tnevals\tavg    \tbest_ind_in_gen_val_score\tbest_val_score\tgen\tmax  \tmin      \tnevals\tstd        \ttime_in_seconds\n",
      "0  \t2000  \t8.8e+09\tnan                      \tnan           \t0  \t1e+11\t0.0287684\t2000  \t2.83295e+10\tnan            \n",
      "1  \t2200  \t0.0934324\t0.0278351                \t0.0278351     \t1  \t0.170704\t0.0396474\t2200  \t0.0337855  \t1.28245        \n",
      "2  \t2200  \t0.0396133\t0.0278351                \t0.0278351     \t2  \t0.0514953\t0.0289921\t2200  \t0.00435606 \t1.38112        \n",
      "3  \t2200  \t0.0297013\t0.0299905                \t0.0278351     \t3  \t0.051485 \t0.0229622\t2200  \t0.00432593 \t1.21251        \n",
      "4  \t2200  \t0.026847 \t0.0238278                \t0.0238278     \t4  \t0.028197 \t0.0212235\t2200  \t0.00179455 \t1.30017        \n",
      "5  \t2200  \t0.025131 \t0.0226228                \t0.0226228     \t5  \t0.0303953\t4.44844e-15\t2200  \t0.00607492 \t1.29947        \n",
      "6  \t2200  \t0.0176463\t4.33977e-15              \t4.33977e-15   \t6  \t0.0339651\t4.23882e-15\t2200  \t0.0141191  \t1.28584        \n",
      "7  \t2200  \t0.000143242\t4.33977e-15              \t4.33977e-15   \t7  \t0.0248329\t4.31642e-15\t2200  \t0.00177247 \t1.55486        \n",
      "8  \t2200  \t4.18186e-15\t4.33977e-15              \t4.33977e-15   \t8  \t4.18186e-15\t4.18186e-15\t2200  \t7.88861e-31\t1.14414        \n",
      "9  \t2200  \t4.3827e-15 \t4.33977e-15              \t4.33977e-15   \t9  \t4.3827e-15 \t4.3827e-15 \t2200  \t0          \t1.28428        \n",
      "10 \t2200  \t4.47711e-15\t4.33977e-15              \t4.33977e-15   \t10 \t4.47711e-15\t4.47711e-15\t2200  \t7.88861e-31\t1.12853        \n",
      "-- End of (successful) evolution --\n",
      "Best validation score: 4.3397679960253175e-15\n",
      "All columns: ['X1', 'X2', 'X3', 'X4', 'X5', 'X6', 'X7', '(X1 + X2)/X5']\n"
     ]
    }
   ],
   "source": [
    "gfe.fit(mu=2000, lambda_=2200, early_stopping_patience=5, mutation_probability=0.5, crossover_probability=0.5)"
   ]
  },
  {
   "cell_type": "markdown",
   "metadata": {},
   "source": [
    "# Use ATgfe"
   ]
  },
  {
   "cell_type": "markdown",
   "metadata": {},
   "source": [
    "# Apply GFE"
   ]
  },
  {
   "cell_type": "code",
   "execution_count": 20,
   "metadata": {},
   "outputs": [],
   "source": [
    "X = gfe.transform(X)"
   ]
  },
  {
   "cell_type": "code",
   "execution_count": 21,
   "metadata": {},
   "outputs": [
    {
     "data": {
      "text/html": [
       "<div>\n",
       "<style scoped>\n",
       "    .dataframe tbody tr th:only-of-type {\n",
       "        vertical-align: middle;\n",
       "    }\n",
       "\n",
       "    .dataframe tbody tr th {\n",
       "        vertical-align: top;\n",
       "    }\n",
       "\n",
       "    .dataframe thead th {\n",
       "        text-align: right;\n",
       "    }\n",
       "</style>\n",
       "<table border=\"1\" class=\"dataframe\">\n",
       "  <thead>\n",
       "    <tr style=\"text-align: right;\">\n",
       "      <th></th>\n",
       "      <th>X1</th>\n",
       "      <th>X2</th>\n",
       "      <th>X3</th>\n",
       "      <th>X4</th>\n",
       "      <th>X5</th>\n",
       "      <th>X6</th>\n",
       "      <th>X7</th>\n",
       "      <th>(X1 + X2)/X5</th>\n",
       "    </tr>\n",
       "  </thead>\n",
       "  <tbody>\n",
       "    <tr>\n",
       "      <th>0</th>\n",
       "      <td>2.985875</td>\n",
       "      <td>2.328380</td>\n",
       "      <td>2.477121</td>\n",
       "      <td>2.956649</td>\n",
       "      <td>2.997823</td>\n",
       "      <td>2.863917</td>\n",
       "      <td>2.559907</td>\n",
       "      <td>1.772705</td>\n",
       "    </tr>\n",
       "    <tr>\n",
       "      <th>1</th>\n",
       "      <td>2.012837</td>\n",
       "      <td>2.482874</td>\n",
       "      <td>2.686636</td>\n",
       "      <td>2.806180</td>\n",
       "      <td>2.662758</td>\n",
       "      <td>2.669317</td>\n",
       "      <td>2.902547</td>\n",
       "      <td>1.688366</td>\n",
       "    </tr>\n",
       "    <tr>\n",
       "      <th>2</th>\n",
       "      <td>2.324282</td>\n",
       "      <td>2.653213</td>\n",
       "      <td>2.627366</td>\n",
       "      <td>2.981819</td>\n",
       "      <td>2.617000</td>\n",
       "      <td>2.895423</td>\n",
       "      <td>2.898725</td>\n",
       "      <td>1.901985</td>\n",
       "    </tr>\n",
       "    <tr>\n",
       "      <th>3</th>\n",
       "      <td>1.579784</td>\n",
       "      <td>2.434569</td>\n",
       "      <td>2.794488</td>\n",
       "      <td>2.737193</td>\n",
       "      <td>2.957128</td>\n",
       "      <td>2.808886</td>\n",
       "      <td>2.431364</td>\n",
       "      <td>1.357517</td>\n",
       "    </tr>\n",
       "    <tr>\n",
       "      <th>4</th>\n",
       "      <td>1.778151</td>\n",
       "      <td>2.695482</td>\n",
       "      <td>2.514548</td>\n",
       "      <td>2.987219</td>\n",
       "      <td>2.641474</td>\n",
       "      <td>2.955688</td>\n",
       "      <td>2.872156</td>\n",
       "      <td>1.693612</td>\n",
       "    </tr>\n",
       "    <tr>\n",
       "      <th>5</th>\n",
       "      <td>2.666518</td>\n",
       "      <td>2.993436</td>\n",
       "      <td>2.842609</td>\n",
       "      <td>2.509203</td>\n",
       "      <td>2.751279</td>\n",
       "      <td>2.930440</td>\n",
       "      <td>2.828015</td>\n",
       "      <td>2.057208</td>\n",
       "    </tr>\n",
       "    <tr>\n",
       "      <th>6</th>\n",
       "      <td>2.827369</td>\n",
       "      <td>2.187521</td>\n",
       "      <td>2.783189</td>\n",
       "      <td>2.949390</td>\n",
       "      <td>2.985875</td>\n",
       "      <td>2.691965</td>\n",
       "      <td>2.645422</td>\n",
       "      <td>1.679538</td>\n",
       "    </tr>\n",
       "    <tr>\n",
       "      <th>7</th>\n",
       "      <td>2.537819</td>\n",
       "      <td>2.206826</td>\n",
       "      <td>2.492760</td>\n",
       "      <td>2.604226</td>\n",
       "      <td>2.969882</td>\n",
       "      <td>2.348305</td>\n",
       "      <td>2.904174</td>\n",
       "      <td>1.597587</td>\n",
       "    </tr>\n",
       "    <tr>\n",
       "      <th>8</th>\n",
       "      <td>2.767156</td>\n",
       "      <td>1.568202</td>\n",
       "      <td>2.629410</td>\n",
       "      <td>2.238046</td>\n",
       "      <td>2.387390</td>\n",
       "      <td>2.488551</td>\n",
       "      <td>2.152288</td>\n",
       "      <td>1.815940</td>\n",
       "    </tr>\n",
       "    <tr>\n",
       "      <th>9</th>\n",
       "      <td>2.758155</td>\n",
       "      <td>2.546543</td>\n",
       "      <td>1.954243</td>\n",
       "      <td>2.474216</td>\n",
       "      <td>2.863917</td>\n",
       "      <td>1.397940</td>\n",
       "      <td>2.960946</td>\n",
       "      <td>1.852252</td>\n",
       "    </tr>\n",
       "    <tr>\n",
       "      <th>10</th>\n",
       "      <td>2.563481</td>\n",
       "      <td>2.745075</td>\n",
       "      <td>2.979093</td>\n",
       "      <td>2.669317</td>\n",
       "      <td>2.813581</td>\n",
       "      <td>2.801404</td>\n",
       "      <td>2.440909</td>\n",
       "      <td>1.886761</td>\n",
       "    </tr>\n",
       "    <tr>\n",
       "      <th>11</th>\n",
       "      <td>2.600973</td>\n",
       "      <td>1.963788</td>\n",
       "      <td>2.301030</td>\n",
       "      <td>1.770852</td>\n",
       "      <td>2.580925</td>\n",
       "      <td>2.110590</td>\n",
       "      <td>2.390935</td>\n",
       "      <td>1.768653</td>\n",
       "    </tr>\n",
       "    <tr>\n",
       "      <th>12</th>\n",
       "      <td>2.695482</td>\n",
       "      <td>2.688420</td>\n",
       "      <td>2.694605</td>\n",
       "      <td>2.385606</td>\n",
       "      <td>2.957128</td>\n",
       "      <td>2.826723</td>\n",
       "      <td>2.625312</td>\n",
       "      <td>1.820652</td>\n",
       "    </tr>\n",
       "    <tr>\n",
       "      <th>13</th>\n",
       "      <td>2.553883</td>\n",
       "      <td>2.984527</td>\n",
       "      <td>2.905256</td>\n",
       "      <td>2.726727</td>\n",
       "      <td>2.301030</td>\n",
       "      <td>2.817565</td>\n",
       "      <td>1.968483</td>\n",
       "      <td>2.406927</td>\n",
       "    </tr>\n",
       "    <tr>\n",
       "      <th>14</th>\n",
       "      <td>2.850033</td>\n",
       "      <td>2.416641</td>\n",
       "      <td>2.637490</td>\n",
       "      <td>2.089905</td>\n",
       "      <td>2.214844</td>\n",
       "      <td>2.045323</td>\n",
       "      <td>2.559907</td>\n",
       "      <td>2.377898</td>\n",
       "    </tr>\n",
       "    <tr>\n",
       "      <th>15</th>\n",
       "      <td>2.977724</td>\n",
       "      <td>2.794488</td>\n",
       "      <td>2.970812</td>\n",
       "      <td>2.426511</td>\n",
       "      <td>2.902547</td>\n",
       "      <td>2.759668</td>\n",
       "      <td>2.895423</td>\n",
       "      <td>1.988671</td>\n",
       "    </tr>\n",
       "    <tr>\n",
       "      <th>16</th>\n",
       "      <td>2.320146</td>\n",
       "      <td>2.778151</td>\n",
       "      <td>2.800029</td>\n",
       "      <td>2.741152</td>\n",
       "      <td>2.881385</td>\n",
       "      <td>2.945469</td>\n",
       "      <td>2.642465</td>\n",
       "      <td>1.769392</td>\n",
       "    </tr>\n",
       "    <tr>\n",
       "      <th>17</th>\n",
       "      <td>2.715167</td>\n",
       "      <td>2.970347</td>\n",
       "      <td>2.788875</td>\n",
       "      <td>2.638489</td>\n",
       "      <td>2.893207</td>\n",
       "      <td>2.760422</td>\n",
       "      <td>2.887617</td>\n",
       "      <td>1.965125</td>\n",
       "    </tr>\n",
       "    <tr>\n",
       "      <th>18</th>\n",
       "      <td>2.475671</td>\n",
       "      <td>2.806858</td>\n",
       "      <td>2.848189</td>\n",
       "      <td>1.724276</td>\n",
       "      <td>2.591065</td>\n",
       "      <td>2.651278</td>\n",
       "      <td>2.765669</td>\n",
       "      <td>2.038749</td>\n",
       "    </tr>\n",
       "    <tr>\n",
       "      <th>19</th>\n",
       "      <td>2.592177</td>\n",
       "      <td>2.896526</td>\n",
       "      <td>1.763428</td>\n",
       "      <td>2.945469</td>\n",
       "      <td>2.914343</td>\n",
       "      <td>2.654177</td>\n",
       "      <td>2.990783</td>\n",
       "      <td>1.883341</td>\n",
       "    </tr>\n",
       "  </tbody>\n",
       "</table>\n",
       "</div>"
      ],
      "text/plain": [
       "          X1        X2        X3        X4        X5        X6        X7  \\\n",
       "0   2.985875  2.328380  2.477121  2.956649  2.997823  2.863917  2.559907   \n",
       "1   2.012837  2.482874  2.686636  2.806180  2.662758  2.669317  2.902547   \n",
       "2   2.324282  2.653213  2.627366  2.981819  2.617000  2.895423  2.898725   \n",
       "3   1.579784  2.434569  2.794488  2.737193  2.957128  2.808886  2.431364   \n",
       "4   1.778151  2.695482  2.514548  2.987219  2.641474  2.955688  2.872156   \n",
       "5   2.666518  2.993436  2.842609  2.509203  2.751279  2.930440  2.828015   \n",
       "6   2.827369  2.187521  2.783189  2.949390  2.985875  2.691965  2.645422   \n",
       "7   2.537819  2.206826  2.492760  2.604226  2.969882  2.348305  2.904174   \n",
       "8   2.767156  1.568202  2.629410  2.238046  2.387390  2.488551  2.152288   \n",
       "9   2.758155  2.546543  1.954243  2.474216  2.863917  1.397940  2.960946   \n",
       "10  2.563481  2.745075  2.979093  2.669317  2.813581  2.801404  2.440909   \n",
       "11  2.600973  1.963788  2.301030  1.770852  2.580925  2.110590  2.390935   \n",
       "12  2.695482  2.688420  2.694605  2.385606  2.957128  2.826723  2.625312   \n",
       "13  2.553883  2.984527  2.905256  2.726727  2.301030  2.817565  1.968483   \n",
       "14  2.850033  2.416641  2.637490  2.089905  2.214844  2.045323  2.559907   \n",
       "15  2.977724  2.794488  2.970812  2.426511  2.902547  2.759668  2.895423   \n",
       "16  2.320146  2.778151  2.800029  2.741152  2.881385  2.945469  2.642465   \n",
       "17  2.715167  2.970347  2.788875  2.638489  2.893207  2.760422  2.887617   \n",
       "18  2.475671  2.806858  2.848189  1.724276  2.591065  2.651278  2.765669   \n",
       "19  2.592177  2.896526  1.763428  2.945469  2.914343  2.654177  2.990783   \n",
       "\n",
       "    (X1 + X2)/X5  \n",
       "0       1.772705  \n",
       "1       1.688366  \n",
       "2       1.901985  \n",
       "3       1.357517  \n",
       "4       1.693612  \n",
       "5       2.057208  \n",
       "6       1.679538  \n",
       "7       1.597587  \n",
       "8       1.815940  \n",
       "9       1.852252  \n",
       "10      1.886761  \n",
       "11      1.768653  \n",
       "12      1.820652  \n",
       "13      2.406927  \n",
       "14      2.377898  \n",
       "15      1.988671  \n",
       "16      1.769392  \n",
       "17      1.965125  \n",
       "18      2.038749  \n",
       "19      1.883341  "
      ]
     },
     "execution_count": 21,
     "metadata": {},
     "output_type": "execute_result"
    }
   ],
   "source": [
    "X.head(20)"
   ]
  },
  {
   "cell_type": "code",
   "execution_count": 22,
   "metadata": {},
   "outputs": [],
   "source": [
    "model = create_new_model()"
   ]
  },
  {
   "cell_type": "code",
   "execution_count": 23,
   "metadata": {},
   "outputs": [
    {
     "name": "stdout",
     "output_type": "stream",
     "text": [
      "Mean of metric: 4.439977007853615e-15, std: 3.33197176539033e-16\n"
     ]
    }
   ],
   "source": [
    "score_model(model, X, Y)"
   ]
  },
  {
   "cell_type": "code",
   "execution_count": 24,
   "metadata": {},
   "outputs": [],
   "source": [
    "X_train, X_test, y_train, y_test = train_test_split(X, Y, test_size=0.3, random_state=77)"
   ]
  },
  {
   "cell_type": "code",
   "execution_count": 25,
   "metadata": {},
   "outputs": [
    {
     "data": {
      "image/png": "[encoded data removed]",
      "text/plain": [
       "<Figure size 432x288 with 2 Axes>"
      ]
     },
     "metadata": {
      "needs_background": "light"
     },
     "output_type": "display_data"
    }
   ],
   "source": [
    "display_residual_plot(model)"
   ]
  },
  {
   "cell_type": "code",
   "execution_count": 26,
   "metadata": {},
   "outputs": [
    {
     "data": {
      "image/png": "[encoded data removed]",
      "text/plain": [
       "<Figure size 432x288 with 1 Axes>"
      ]
     },
     "metadata": {
      "needs_background": "light"
     },
     "output_type": "display_data"
    }
   ],
   "source": [
    "prediction_error_plot(model)"
   ]
  }
 ],
 "metadata": {
  "kernelspec": {
   "display_name": "Python 3",
   "language": "python",
   "name": "python3"
  },
  "language_info": {
   "codemirror_mode": {
    "name": "ipython",
    "version": 3
   },
   "file_extension": ".py",
   "mimetype": "text/x-python",
   "name": "python",
   "nbconvert_exporter": "python",
   "pygments_lexer": "ipython3",
   "version": "3.7.3"
  }
 },
 "nbformat": 4,
 "nbformat_minor": 4
}
