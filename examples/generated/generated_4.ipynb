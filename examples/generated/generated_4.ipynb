{
 "cells": [
  {
   "cell_type": "markdown",
   "metadata": {},
   "source": [
    "# Optimial expression to find"
   ]
  },
  {
   "cell_type": "markdown",
   "metadata": {},
   "source": [
    "$$Y = 0.4X_2^2 + 2X_4 + 2$$"
   ]
  },
  {
   "cell_type": "markdown",
   "metadata": {},
   "source": [
    "# Import packages"
   ]
  },
  {
   "cell_type": "code",
   "execution_count": 1,
   "metadata": {},
   "outputs": [],
   "source": [
    "from atgfe.GeneticFeatureEngineer import GeneticFeatureEngineer\n",
    "import pandas as pd\n",
    "import numpy as np\n",
    "from sklearn.model_selection import train_test_split, cross_val_score\n",
    "from sklearn.linear_model import LinearRegression\n",
    "from sklearn.preprocessing import StandardScaler\n",
    "from sklearn.pipeline import make_pipeline\n",
    "from sklearn.metrics import mean_squared_error, make_scorer\n",
    "from yellowbrick.regressor import ResidualsPlot, PredictionError\n",
    "from lightgbm import LGBMRegressor"
   ]
  },
  {
   "cell_type": "code",
   "execution_count": 2,
   "metadata": {},
   "outputs": [
    {
     "data": {
      "text/html": [
       "<div>\n",
       "<style scoped>\n",
       "    .dataframe tbody tr th:only-of-type {\n",
       "        vertical-align: middle;\n",
       "    }\n",
       "\n",
       "    .dataframe tbody tr th {\n",
       "        vertical-align: top;\n",
       "    }\n",
       "\n",
       "    .dataframe thead th {\n",
       "        text-align: right;\n",
       "    }\n",
       "</style>\n",
       "<table border=\"1\" class=\"dataframe\">\n",
       "  <thead>\n",
       "    <tr style=\"text-align: right;\">\n",
       "      <th></th>\n",
       "      <th>X1</th>\n",
       "      <th>X2</th>\n",
       "      <th>X3</th>\n",
       "      <th>X4</th>\n",
       "      <th>X5</th>\n",
       "      <th>X6</th>\n",
       "      <th>X7</th>\n",
       "      <th>Y</th>\n",
       "    </tr>\n",
       "  </thead>\n",
       "  <tbody>\n",
       "    <tr>\n",
       "      <td>0</td>\n",
       "      <td>2.985875</td>\n",
       "      <td>2.328380</td>\n",
       "      <td>2.477121</td>\n",
       "      <td>2.956649</td>\n",
       "      <td>2.997823</td>\n",
       "      <td>2.863917</td>\n",
       "      <td>2.559907</td>\n",
       "      <td>1.772705</td>\n",
       "    </tr>\n",
       "    <tr>\n",
       "      <td>1</td>\n",
       "      <td>2.012837</td>\n",
       "      <td>2.482874</td>\n",
       "      <td>2.686636</td>\n",
       "      <td>2.806180</td>\n",
       "      <td>2.662758</td>\n",
       "      <td>2.669317</td>\n",
       "      <td>2.902547</td>\n",
       "      <td>1.688366</td>\n",
       "    </tr>\n",
       "    <tr>\n",
       "      <td>2</td>\n",
       "      <td>2.324282</td>\n",
       "      <td>2.653213</td>\n",
       "      <td>2.627366</td>\n",
       "      <td>2.981819</td>\n",
       "      <td>2.617000</td>\n",
       "      <td>2.895423</td>\n",
       "      <td>2.898725</td>\n",
       "      <td>1.901985</td>\n",
       "    </tr>\n",
       "    <tr>\n",
       "      <td>3</td>\n",
       "      <td>1.579784</td>\n",
       "      <td>2.434569</td>\n",
       "      <td>2.794488</td>\n",
       "      <td>2.737193</td>\n",
       "      <td>2.957128</td>\n",
       "      <td>2.808886</td>\n",
       "      <td>2.431364</td>\n",
       "      <td>1.357517</td>\n",
       "    </tr>\n",
       "    <tr>\n",
       "      <td>4</td>\n",
       "      <td>1.778151</td>\n",
       "      <td>2.695482</td>\n",
       "      <td>2.514548</td>\n",
       "      <td>2.987219</td>\n",
       "      <td>2.641474</td>\n",
       "      <td>2.955688</td>\n",
       "      <td>2.872156</td>\n",
       "      <td>1.693612</td>\n",
       "    </tr>\n",
       "  </tbody>\n",
       "</table>\n",
       "</div>"
      ],
      "text/plain": [
       "         X1        X2        X3        X4        X5        X6        X7  \\\n",
       "0  2.985875  2.328380  2.477121  2.956649  2.997823  2.863917  2.559907   \n",
       "1  2.012837  2.482874  2.686636  2.806180  2.662758  2.669317  2.902547   \n",
       "2  2.324282  2.653213  2.627366  2.981819  2.617000  2.895423  2.898725   \n",
       "3  1.579784  2.434569  2.794488  2.737193  2.957128  2.808886  2.431364   \n",
       "4  1.778151  2.695482  2.514548  2.987219  2.641474  2.955688  2.872156   \n",
       "\n",
       "          Y  \n",
       "0  1.772705  \n",
       "1  1.688366  \n",
       "2  1.901985  \n",
       "3  1.357517  \n",
       "4  1.693612  "
      ]
     },
     "execution_count": 2,
     "metadata": {},
     "output_type": "execute_result"
    }
   ],
   "source": [
    "df = pd.read_csv('./data/generated_3.csv')\n",
    "df.head()"
   ]
  },
  {
   "cell_type": "code",
   "execution_count": 3,
   "metadata": {},
   "outputs": [],
   "source": [
    "target = 'Y'\n",
    "columns = df.drop(target, axis=1).columns.tolist()"
   ]
  },
  {
   "cell_type": "code",
   "execution_count": 4,
   "metadata": {},
   "outputs": [],
   "source": [
    "X = df.drop(target, axis=1).copy()\n",
    "Y = df.loc[:, target].copy()\n",
    "X_train, X_test, y_train, y_test = train_test_split(X, Y, test_size=0.3, random_state=77)"
   ]
  },
  {
   "cell_type": "code",
   "execution_count": 5,
   "metadata": {},
   "outputs": [],
   "source": [
    "def display_residual_plot(model):\n",
    "    visualizer = ResidualsPlot(model)\n",
    "    visualizer.fit(X_train, y_train)  \n",
    "    visualizer.score(X_test, y_test)  \n",
    "    visualizer.poof()                 "
   ]
  },
  {
   "cell_type": "code",
   "execution_count": 6,
   "metadata": {},
   "outputs": [],
   "source": [
    "def prediction_error_plot(model):\n",
    "    visualizer = PredictionError(model)\n",
    "    visualizer.fit(X_train, y_train)  \n",
    "    visualizer.score(X_test, y_test)  \n",
    "    visualizer.poof()     "
   ]
  },
  {
   "cell_type": "code",
   "execution_count": 7,
   "metadata": {},
   "outputs": [],
   "source": [
    "def rmse(y_true, y_pred):\n",
    "    return np.sqrt(mean_squared_error(y_true, y_pred))"
   ]
  },
  {
   "cell_type": "code",
   "execution_count": 8,
   "metadata": {},
   "outputs": [],
   "source": [
    "def score_model(model, X, y):\n",
    "    evaluation_metric_scorer = make_scorer(rmse, greater_is_better=True)\n",
    "    scores = cross_val_score(estimator=model, X=X, y=y, cv=10, scoring=evaluation_metric_scorer, n_jobs=-1)\n",
    "    scores_mean = scores.mean()\n",
    "    score_std = scores.std()\n",
    "    print('Mean of metric: {}, std: {}'.format(scores_mean, score_std))"
   ]
  },
  {
   "cell_type": "code",
   "execution_count": 9,
   "metadata": {},
   "outputs": [],
   "source": [
    "def create_new_model():\n",
    "    return make_pipeline(StandardScaler(), LinearRegression())"
   ]
  },
  {
   "cell_type": "markdown",
   "metadata": {},
   "source": [
    "# Using LightGBM"
   ]
  },
  {
   "cell_type": "code",
   "execution_count": 10,
   "metadata": {},
   "outputs": [],
   "source": [
    "lgbm_model = LGBMRegressor(random_state=7)"
   ]
  },
  {
   "cell_type": "code",
   "execution_count": 11,
   "metadata": {},
   "outputs": [
    {
     "name": "stdout",
     "output_type": "stream",
     "text": [
      "Mean of metric: 0.10208948453458995, std: 0.04861021818019637\n"
     ]
    }
   ],
   "source": [
    "score_model(lgbm_model, X, Y)"
   ]
  },
  {
   "cell_type": "code",
   "execution_count": 12,
   "metadata": {},
   "outputs": [
    {
     "data": {
      "image/png": "[encoded data removed]",
      "text/plain": [
       "<Figure size 432x288 with 2 Axes>"
      ]
     },
     "metadata": {
      "needs_background": "light"
     },
     "output_type": "display_data"
    }
   ],
   "source": [
    "display_residual_plot(lgbm_model)"
   ]
  },
  {
   "cell_type": "code",
   "execution_count": 13,
   "metadata": {},
   "outputs": [
    {
     "data": {
      "image/png": "[encoded data removed]",
      "text/plain": [
       "<Figure size 432x288 with 1 Axes>"
      ]
     },
     "metadata": {
      "needs_background": "light"
     },
     "output_type": "display_data"
    }
   ],
   "source": [
    "prediction_error_plot(lgbm_model)"
   ]
  },
  {
   "cell_type": "markdown",
   "metadata": {},
   "source": [
    "# Using Linear Regression"
   ]
  },
  {
   "cell_type": "code",
   "execution_count": 14,
   "metadata": {},
   "outputs": [],
   "source": [
    "model = create_new_model()"
   ]
  },
  {
   "cell_type": "code",
   "execution_count": 15,
   "metadata": {},
   "outputs": [
    {
     "name": "stdout",
     "output_type": "stream",
     "text": [
      "Mean of metric: 0.14059245610479723, std: 0.03965331155573807\n"
     ]
    }
   ],
   "source": [
    "score_model(model, X, Y)"
   ]
  },
  {
   "cell_type": "code",
   "execution_count": 16,
   "metadata": {},
   "outputs": [
    {
     "data": {
      "image/png": "[encoded data removed]",
      "text/plain": [
       "<Figure size 432x288 with 2 Axes>"
      ]
     },
     "metadata": {
      "needs_background": "light"
     },
     "output_type": "display_data"
    }
   ],
   "source": [
    "display_residual_plot(model)"
   ]
  },
  {
   "cell_type": "code",
   "execution_count": 17,
   "metadata": {},
   "outputs": [
    {
     "data": {
      "image/png": "[encoded data removed]",
      "text/plain": [
       "<Figure size 432x288 with 1 Axes>"
      ]
     },
     "metadata": {
      "needs_background": "light"
     },
     "output_type": "display_data"
    }
   ],
   "source": [
    "prediction_error_plot(model)"
   ]
  },
  {
   "cell_type": "markdown",
   "metadata": {},
   "source": [
    "# Using ATgfe"
   ]
  },
  {
   "cell_type": "code",
   "execution_count": 18,
   "metadata": {},
   "outputs": [
    {
     "name": "stderr",
     "output_type": "stream",
     "text": [
      "2019-11-15 22:50:16,933:INFO: New Engineer created with the following parameters: \n",
      "2019-11-15 22:50:16,935:INFO: \n",
      "Model type: <class 'sklearn.pipeline.Pipeline'>\n",
      "Numerical Features: ['X1', 'X2', 'X3', 'X4', 'X5', 'X6', 'X7']\n",
      "Number of candidate features: 1\n",
      "Number of interacting features: 4\n",
      "Evaluation Metric: rmse\n",
      "Minimize metric is True \n"
     ]
    }
   ],
   "source": [
    "gfe = GeneticFeatureEngineer(model, x_train=X_train, y_train=y_train, numerical_features=columns,\n",
    "                             number_of_candidate_features=1,\n",
    "                             number_of_interacting_features=4,\n",
    "                             evaluation_metric=rmse, minimize_metric=True, verbose=True, cv=10,\n",
    "                             fit_wo_original_columns=False, enable_feature_transformation_operations=False, enable_weights=True)"
   ]
  },
  {
   "cell_type": "code",
   "execution_count": 19,
   "metadata": {},
   "outputs": [
    {
     "name": "stderr",
     "output_type": "stream",
     "text": [
      "2019-11-15 22:50:17,020:INFO: Start of evolution \n",
      "2019-11-15 22:50:41,627:INFO:   Evaluated 2000 individuals \n",
      "2019-11-15 22:50:41,629:INFO: -- Generation 1 -- \n",
      "2019-11-15 22:50:56,635:INFO:   Evaluated 1200 individuals \n",
      "2019-11-15 22:50:56,641:INFO:   Min 0.034913746615105365 \n",
      "2019-11-15 22:50:56,642:INFO:   Max 1000000000000.0 \n",
      "2019-11-15 22:50:56,643:INFO:   Avg 51700000000.09186 \n",
      "2019-11-15 22:50:56,644:INFO:   Std 214818784094.85162 \n",
      "2019-11-15 22:50:58,793:INFO: Generation: 1, validation scores: [0.03257055 0.02423836 0.03875517 0.03940688 0.02237302 0.04619992\n",
      " 0.02542971 0.0248634  0.03463594 0.0252763 ], mean_score: 0.0313749247086174 \n",
      "2019-11-15 22:50:58,795:INFO: Generation: 1, best solution features: ['X1', 'X2', 'X3', 'X4', 'X5', 'X6', 'X7', '0.203478260869565*X1/X5**2'] \n",
      "2019-11-15 22:50:58,796:INFO: -- Generation 2 -- \n",
      "2019-11-15 22:51:12,260:INFO:   Evaluated 1144 individuals \n",
      "2019-11-15 22:51:12,267:INFO:   Min 0.004995523108937673 \n",
      "2019-11-15 22:51:12,268:INFO:   Max 1000000000000.0 \n",
      "2019-11-15 22:51:12,268:INFO:   Avg 43800000000.05482 \n",
      "2019-11-15 22:51:12,269:INFO:   Std 198397479822.69125 \n",
      "2019-11-15 22:51:14,373:INFO: Generation: 2, validation scores: [0.00576387 0.00322649 0.00617306 0.00553957 0.00468057 0.00419763\n",
      " 0.00392917 0.00322852 0.00519807 0.0040702 ], mean_score: 0.004600715427276759 \n",
      "2019-11-15 22:51:14,375:INFO: Generation: 2, best solution features: ['X1', 'X2', 'X3', 'X4', 'X5', 'X6', 'X7', '1.78571428571429*(0.58*X1 + 0.45*X2)/X5'] \n",
      "2019-11-15 22:51:14,377:INFO: -- Generation 3 -- \n",
      "2019-11-15 22:51:28,423:INFO:   Evaluated 1193 individuals \n",
      "2019-11-15 22:51:28,428:INFO:   Min 4.278727209443014e-15 \n",
      "2019-11-15 22:51:28,429:INFO:   Max 1000000000000.0 \n",
      "2019-11-15 22:51:28,431:INFO:   Avg 48800000000.04285 \n",
      "2019-11-15 22:51:28,432:INFO:   Std 210590977964.3844 \n",
      "2019-11-15 22:51:30,550:INFO: Generation: 3, validation scores: [3.87047923e-15 4.47588486e-15 4.30756723e-15 4.09962966e-15\n",
      " 3.78156276e-15 5.04220785e-15 4.30036667e-15 4.34120120e-15\n",
      " 4.14856001e-15 4.51224207e-15], mean_score: 4.287970154825518e-15 \n",
      "2019-11-15 22:51:30,554:INFO: Generation: 3, best solution features: ['X1', 'X2', 'X3', 'X4', 'X5', 'X6', 'X7', '1.78571428571429*(0.06*X1 + 0.06*X2)/X5'] \n",
      "2019-11-15 22:51:30,555:INFO: -- Generation 4 -- \n",
      "2019-11-15 22:51:45,525:INFO:   Evaluated 1203 individuals \n",
      "2019-11-15 22:51:45,531:INFO:   Min 4.2241562253769906e-15 \n",
      "2019-11-15 22:51:45,532:INFO:   Max 1000000000000.0 \n",
      "2019-11-15 22:51:45,533:INFO:   Avg 57000000000.03583 \n",
      "2019-11-15 22:51:45,534:INFO:   Std 227927620090.22913 \n",
      "2019-11-15 22:51:47,665:INFO: Generation: 4, validation scores: [3.83381912e-15 4.65681513e-15 4.27490445e-15 4.05488781e-15\n",
      " 3.92863901e-15 4.93311814e-15 4.54327974e-15 4.29635204e-15\n",
      " 4.39225172e-15 4.59688217e-15], mean_score: 4.351094933643785e-15 \n",
      "2019-11-15 22:51:47,667:INFO: Generation: 4, best solution features: ['X1', 'X2', 'X3', 'X4', 'X5', 'X6', 'X7', '1.20481927710843*(0.06*X1 + 0.06*X2)/X5'] \n",
      "2019-11-15 22:51:47,668:INFO: -- Generation 5 -- \n",
      "2019-11-15 22:52:01,987:INFO:   Evaluated 1210 individuals \n",
      "2019-11-15 22:52:01,993:INFO:   Min 4.046478253586262e-15 \n",
      "2019-11-15 22:52:01,995:INFO:   Max 1000000000000.0 \n",
      "2019-11-15 22:52:01,996:INFO:   Avg 55050000000.01506 \n",
      "2019-11-15 22:52:01,996:INFO:   Std 225996675860.50525 \n",
      "2019-11-15 22:52:04,116:INFO: Generation: 5, validation scores: [3.82885554e-15 4.41161257e-15 4.24199018e-15 4.02638746e-15\n",
      " 4.06495001e-15 5.07374872e-15 4.38366408e-15 4.36692203e-15\n",
      " 4.36877647e-15 4.41248249e-15], mean_score: 4.317938956255856e-15 \n",
      "2019-11-15 22:52:04,118:INFO: Generation: 5, best solution features: ['X1', 'X2', 'X3', 'X4', 'X5', 'X6', 'X7', '1.78571428571429*(0.45*X1 + 0.45*X2)/X5'] \n",
      "2019-11-15 22:52:04,119:INFO: -- Generation 6 -- \n",
      "2019-11-15 22:52:18,248:INFO:   Evaluated 1192 individuals \n",
      "2019-11-15 22:52:18,255:INFO:   Min 4.046478253586262e-15 \n",
      "2019-11-15 22:52:18,256:INFO:   Max 1000000000000.0 \n",
      "2019-11-15 22:52:18,258:INFO:   Avg 56450000000.01031 \n",
      "2019-11-15 22:52:18,259:INFO:   Std 228928804434.9133 \n",
      "2019-11-15 22:52:20,387:INFO: Generation: 6, validation scores: [3.82885554e-15 4.41161257e-15 4.24199018e-15 4.02638746e-15\n",
      " 4.06495001e-15 5.07374872e-15 4.38366408e-15 4.36692203e-15\n",
      " 4.36877647e-15 4.41248249e-15], mean_score: 4.317938956255856e-15 \n",
      "2019-11-15 22:52:20,388:INFO: Generation: 6, best solution features: ['X1', 'X2', 'X3', 'X4', 'X5', 'X6', 'X7', '1.78571428571429*(0.45*X1 + 0.45*X2)/X5'] \n",
      "2019-11-15 22:52:20,389:INFO: -- End of (successful) evolution -- \n",
      "2019-11-15 22:52:20,390:INFO: Best validation score: 4.287970154825518e-15 \n"
     ]
    }
   ],
   "source": [
    "gfe.fit(population_size=2000, early_stopping_patience=3)"
   ]
  },
  {
   "cell_type": "markdown",
   "metadata": {},
   "source": [
    "# Use ATgfe"
   ]
  },
  {
   "cell_type": "markdown",
   "metadata": {},
   "source": [
    "# Apply GFE"
   ]
  },
  {
   "cell_type": "code",
   "execution_count": 20,
   "metadata": {},
   "outputs": [],
   "source": [
    "X = gfe.transform(X)"
   ]
  },
  {
   "cell_type": "code",
   "execution_count": 21,
   "metadata": {},
   "outputs": [
    {
     "data": {
      "text/html": [
       "<div>\n",
       "<style scoped>\n",
       "    .dataframe tbody tr th:only-of-type {\n",
       "        vertical-align: middle;\n",
       "    }\n",
       "\n",
       "    .dataframe tbody tr th {\n",
       "        vertical-align: top;\n",
       "    }\n",
       "\n",
       "    .dataframe thead th {\n",
       "        text-align: right;\n",
       "    }\n",
       "</style>\n",
       "<table border=\"1\" class=\"dataframe\">\n",
       "  <thead>\n",
       "    <tr style=\"text-align: right;\">\n",
       "      <th></th>\n",
       "      <th>X1</th>\n",
       "      <th>X2</th>\n",
       "      <th>X3</th>\n",
       "      <th>X4</th>\n",
       "      <th>X5</th>\n",
       "      <th>X6</th>\n",
       "      <th>X7</th>\n",
       "      <th>1.78571428571429*(0.06*X1 + 0.06*X2)/X5</th>\n",
       "    </tr>\n",
       "  </thead>\n",
       "  <tbody>\n",
       "    <tr>\n",
       "      <td>0</td>\n",
       "      <td>2.985875</td>\n",
       "      <td>2.328380</td>\n",
       "      <td>2.477121</td>\n",
       "      <td>2.956649</td>\n",
       "      <td>2.997823</td>\n",
       "      <td>2.863917</td>\n",
       "      <td>2.559907</td>\n",
       "      <td>0.189933</td>\n",
       "    </tr>\n",
       "    <tr>\n",
       "      <td>1</td>\n",
       "      <td>2.012837</td>\n",
       "      <td>2.482874</td>\n",
       "      <td>2.686636</td>\n",
       "      <td>2.806180</td>\n",
       "      <td>2.662758</td>\n",
       "      <td>2.669317</td>\n",
       "      <td>2.902547</td>\n",
       "      <td>0.180896</td>\n",
       "    </tr>\n",
       "    <tr>\n",
       "      <td>2</td>\n",
       "      <td>2.324282</td>\n",
       "      <td>2.653213</td>\n",
       "      <td>2.627366</td>\n",
       "      <td>2.981819</td>\n",
       "      <td>2.617000</td>\n",
       "      <td>2.895423</td>\n",
       "      <td>2.898725</td>\n",
       "      <td>0.203784</td>\n",
       "    </tr>\n",
       "    <tr>\n",
       "      <td>3</td>\n",
       "      <td>1.579784</td>\n",
       "      <td>2.434569</td>\n",
       "      <td>2.794488</td>\n",
       "      <td>2.737193</td>\n",
       "      <td>2.957128</td>\n",
       "      <td>2.808886</td>\n",
       "      <td>2.431364</td>\n",
       "      <td>0.145448</td>\n",
       "    </tr>\n",
       "    <tr>\n",
       "      <td>4</td>\n",
       "      <td>1.778151</td>\n",
       "      <td>2.695482</td>\n",
       "      <td>2.514548</td>\n",
       "      <td>2.987219</td>\n",
       "      <td>2.641474</td>\n",
       "      <td>2.955688</td>\n",
       "      <td>2.872156</td>\n",
       "      <td>0.181458</td>\n",
       "    </tr>\n",
       "    <tr>\n",
       "      <td>5</td>\n",
       "      <td>2.666518</td>\n",
       "      <td>2.993436</td>\n",
       "      <td>2.842609</td>\n",
       "      <td>2.509203</td>\n",
       "      <td>2.751279</td>\n",
       "      <td>2.930440</td>\n",
       "      <td>2.828015</td>\n",
       "      <td>0.220415</td>\n",
       "    </tr>\n",
       "    <tr>\n",
       "      <td>6</td>\n",
       "      <td>2.827369</td>\n",
       "      <td>2.187521</td>\n",
       "      <td>2.783189</td>\n",
       "      <td>2.949390</td>\n",
       "      <td>2.985875</td>\n",
       "      <td>2.691965</td>\n",
       "      <td>2.645422</td>\n",
       "      <td>0.179950</td>\n",
       "    </tr>\n",
       "    <tr>\n",
       "      <td>7</td>\n",
       "      <td>2.537819</td>\n",
       "      <td>2.206826</td>\n",
       "      <td>2.492760</td>\n",
       "      <td>2.604226</td>\n",
       "      <td>2.969882</td>\n",
       "      <td>2.348305</td>\n",
       "      <td>2.904174</td>\n",
       "      <td>0.171170</td>\n",
       "    </tr>\n",
       "    <tr>\n",
       "      <td>8</td>\n",
       "      <td>2.767156</td>\n",
       "      <td>1.568202</td>\n",
       "      <td>2.629410</td>\n",
       "      <td>2.238046</td>\n",
       "      <td>2.387390</td>\n",
       "      <td>2.488551</td>\n",
       "      <td>2.152288</td>\n",
       "      <td>0.194565</td>\n",
       "    </tr>\n",
       "    <tr>\n",
       "      <td>9</td>\n",
       "      <td>2.758155</td>\n",
       "      <td>2.546543</td>\n",
       "      <td>1.954243</td>\n",
       "      <td>2.474216</td>\n",
       "      <td>2.863917</td>\n",
       "      <td>1.397940</td>\n",
       "      <td>2.960946</td>\n",
       "      <td>0.198456</td>\n",
       "    </tr>\n",
       "    <tr>\n",
       "      <td>10</td>\n",
       "      <td>2.563481</td>\n",
       "      <td>2.745075</td>\n",
       "      <td>2.979093</td>\n",
       "      <td>2.669317</td>\n",
       "      <td>2.813581</td>\n",
       "      <td>2.801404</td>\n",
       "      <td>2.440909</td>\n",
       "      <td>0.202153</td>\n",
       "    </tr>\n",
       "    <tr>\n",
       "      <td>11</td>\n",
       "      <td>2.600973</td>\n",
       "      <td>1.963788</td>\n",
       "      <td>2.301030</td>\n",
       "      <td>1.770852</td>\n",
       "      <td>2.580925</td>\n",
       "      <td>2.110590</td>\n",
       "      <td>2.390935</td>\n",
       "      <td>0.189499</td>\n",
       "    </tr>\n",
       "    <tr>\n",
       "      <td>12</td>\n",
       "      <td>2.695482</td>\n",
       "      <td>2.688420</td>\n",
       "      <td>2.694605</td>\n",
       "      <td>2.385606</td>\n",
       "      <td>2.957128</td>\n",
       "      <td>2.826723</td>\n",
       "      <td>2.625312</td>\n",
       "      <td>0.195070</td>\n",
       "    </tr>\n",
       "    <tr>\n",
       "      <td>13</td>\n",
       "      <td>2.553883</td>\n",
       "      <td>2.984527</td>\n",
       "      <td>2.905256</td>\n",
       "      <td>2.726727</td>\n",
       "      <td>2.301030</td>\n",
       "      <td>2.817565</td>\n",
       "      <td>1.968483</td>\n",
       "      <td>0.257885</td>\n",
       "    </tr>\n",
       "    <tr>\n",
       "      <td>14</td>\n",
       "      <td>2.850033</td>\n",
       "      <td>2.416641</td>\n",
       "      <td>2.637490</td>\n",
       "      <td>2.089905</td>\n",
       "      <td>2.214844</td>\n",
       "      <td>2.045323</td>\n",
       "      <td>2.559907</td>\n",
       "      <td>0.254775</td>\n",
       "    </tr>\n",
       "    <tr>\n",
       "      <td>15</td>\n",
       "      <td>2.977724</td>\n",
       "      <td>2.794488</td>\n",
       "      <td>2.970812</td>\n",
       "      <td>2.426511</td>\n",
       "      <td>2.902547</td>\n",
       "      <td>2.759668</td>\n",
       "      <td>2.895423</td>\n",
       "      <td>0.213072</td>\n",
       "    </tr>\n",
       "    <tr>\n",
       "      <td>16</td>\n",
       "      <td>2.320146</td>\n",
       "      <td>2.778151</td>\n",
       "      <td>2.800029</td>\n",
       "      <td>2.741152</td>\n",
       "      <td>2.881385</td>\n",
       "      <td>2.945469</td>\n",
       "      <td>2.642465</td>\n",
       "      <td>0.189578</td>\n",
       "    </tr>\n",
       "    <tr>\n",
       "      <td>17</td>\n",
       "      <td>2.715167</td>\n",
       "      <td>2.970347</td>\n",
       "      <td>2.788875</td>\n",
       "      <td>2.638489</td>\n",
       "      <td>2.893207</td>\n",
       "      <td>2.760422</td>\n",
       "      <td>2.887617</td>\n",
       "      <td>0.210549</td>\n",
       "    </tr>\n",
       "    <tr>\n",
       "      <td>18</td>\n",
       "      <td>2.475671</td>\n",
       "      <td>2.806858</td>\n",
       "      <td>2.848189</td>\n",
       "      <td>1.724276</td>\n",
       "      <td>2.591065</td>\n",
       "      <td>2.651278</td>\n",
       "      <td>2.765669</td>\n",
       "      <td>0.218437</td>\n",
       "    </tr>\n",
       "    <tr>\n",
       "      <td>19</td>\n",
       "      <td>2.592177</td>\n",
       "      <td>2.896526</td>\n",
       "      <td>1.763428</td>\n",
       "      <td>2.945469</td>\n",
       "      <td>2.914343</td>\n",
       "      <td>2.654177</td>\n",
       "      <td>2.990783</td>\n",
       "      <td>0.201787</td>\n",
       "    </tr>\n",
       "  </tbody>\n",
       "</table>\n",
       "</div>"
      ],
      "text/plain": [
       "          X1        X2        X3        X4        X5        X6        X7  \\\n",
       "0   2.985875  2.328380  2.477121  2.956649  2.997823  2.863917  2.559907   \n",
       "1   2.012837  2.482874  2.686636  2.806180  2.662758  2.669317  2.902547   \n",
       "2   2.324282  2.653213  2.627366  2.981819  2.617000  2.895423  2.898725   \n",
       "3   1.579784  2.434569  2.794488  2.737193  2.957128  2.808886  2.431364   \n",
       "4   1.778151  2.695482  2.514548  2.987219  2.641474  2.955688  2.872156   \n",
       "5   2.666518  2.993436  2.842609  2.509203  2.751279  2.930440  2.828015   \n",
       "6   2.827369  2.187521  2.783189  2.949390  2.985875  2.691965  2.645422   \n",
       "7   2.537819  2.206826  2.492760  2.604226  2.969882  2.348305  2.904174   \n",
       "8   2.767156  1.568202  2.629410  2.238046  2.387390  2.488551  2.152288   \n",
       "9   2.758155  2.546543  1.954243  2.474216  2.863917  1.397940  2.960946   \n",
       "10  2.563481  2.745075  2.979093  2.669317  2.813581  2.801404  2.440909   \n",
       "11  2.600973  1.963788  2.301030  1.770852  2.580925  2.110590  2.390935   \n",
       "12  2.695482  2.688420  2.694605  2.385606  2.957128  2.826723  2.625312   \n",
       "13  2.553883  2.984527  2.905256  2.726727  2.301030  2.817565  1.968483   \n",
       "14  2.850033  2.416641  2.637490  2.089905  2.214844  2.045323  2.559907   \n",
       "15  2.977724  2.794488  2.970812  2.426511  2.902547  2.759668  2.895423   \n",
       "16  2.320146  2.778151  2.800029  2.741152  2.881385  2.945469  2.642465   \n",
       "17  2.715167  2.970347  2.788875  2.638489  2.893207  2.760422  2.887617   \n",
       "18  2.475671  2.806858  2.848189  1.724276  2.591065  2.651278  2.765669   \n",
       "19  2.592177  2.896526  1.763428  2.945469  2.914343  2.654177  2.990783   \n",
       "\n",
       "    1.78571428571429*(0.06*X1 + 0.06*X2)/X5  \n",
       "0                                  0.189933  \n",
       "1                                  0.180896  \n",
       "2                                  0.203784  \n",
       "3                                  0.145448  \n",
       "4                                  0.181458  \n",
       "5                                  0.220415  \n",
       "6                                  0.179950  \n",
       "7                                  0.171170  \n",
       "8                                  0.194565  \n",
       "9                                  0.198456  \n",
       "10                                 0.202153  \n",
       "11                                 0.189499  \n",
       "12                                 0.195070  \n",
       "13                                 0.257885  \n",
       "14                                 0.254775  \n",
       "15                                 0.213072  \n",
       "16                                 0.189578  \n",
       "17                                 0.210549  \n",
       "18                                 0.218437  \n",
       "19                                 0.201787  "
      ]
     },
     "execution_count": 21,
     "metadata": {},
     "output_type": "execute_result"
    }
   ],
   "source": [
    "X.head(20)"
   ]
  },
  {
   "cell_type": "code",
   "execution_count": 22,
   "metadata": {},
   "outputs": [],
   "source": [
    "model = create_new_model()"
   ]
  },
  {
   "cell_type": "code",
   "execution_count": 23,
   "metadata": {},
   "outputs": [
    {
     "name": "stdout",
     "output_type": "stream",
     "text": [
      "Mean of metric: 4.451459254717589e-15, std: 3.6653119629626353e-16\n"
     ]
    }
   ],
   "source": [
    "score_model(model, X, Y)"
   ]
  },
  {
   "cell_type": "code",
   "execution_count": 24,
   "metadata": {},
   "outputs": [],
   "source": [
    "X_train, X_test, y_train, y_test = train_test_split(X, Y, test_size=0.3, random_state=77)"
   ]
  },
  {
   "cell_type": "code",
   "execution_count": 25,
   "metadata": {},
   "outputs": [
    {
     "data": {
      "image/png": "[encoded data removed]",
      "text/plain": [
       "<Figure size 432x288 with 2 Axes>"
      ]
     },
     "metadata": {
      "needs_background": "light"
     },
     "output_type": "display_data"
    }
   ],
   "source": [
    "display_residual_plot(model)"
   ]
  },
  {
   "cell_type": "code",
   "execution_count": 26,
   "metadata": {},
   "outputs": [
    {
     "data": {
      "image/png": "[encoded data removed]",
      "text/plain": [
       "<Figure size 432x288 with 1 Axes>"
      ]
     },
     "metadata": {
      "needs_background": "light"
     },
     "output_type": "display_data"
    }
   ],
   "source": [
    "prediction_error_plot(model)"
   ]
  }
 ],
 "metadata": {
  "kernelspec": {
   "display_name": "Python 3",
   "language": "python",
   "name": "python3"
  },
  "language_info": {
   "codemirror_mode": {
    "name": "ipython",
    "version": 3
   },
   "file_extension": ".py",
   "mimetype": "text/x-python",
   "name": "python",
   "nbconvert_exporter": "python",
   "pygments_lexer": "ipython3",
   "version": "3.7.3"
  }
 },
 "nbformat": 4,
 "nbformat_minor": 4
}
