{
 "cells": [
  {
   "cell_type": "markdown",
   "metadata": {},
   "source": [
    "# Comparison between GPlearn SymbolicTransformer, ATGfe and LightGBM"
   ]
  },
  {
   "cell_type": "markdown",
   "metadata": {},
   "source": [
    "## GPlearn SymbolicTransformer"
   ]
  },
  {
   "cell_type": "markdown",
   "metadata": {},
   "source": [
    "https://gplearn.readthedocs.io/en/stable/index.html <br/>\n",
    "https://gplearn.readthedocs.io/en/stable/examples.html#symbolic-transformer"
   ]
  },
  {
   "cell_type": "code",
   "execution_count": 1,
   "metadata": {},
   "outputs": [],
   "source": [
    "import numpy as np\n",
    "from sklearn.datasets import load_boston, load_breast_cancer\n",
    "from sklearn.datasets import make_moons, make_circles, make_classification\n",
    "from sklearn.linear_model import Ridge, LinearRegression\n",
    "from sklearn.model_selection import train_test_split, cross_val_score\n",
    "from sklearn.preprocessing import StandardScaler\n",
    "from sklearn.utils.testing import assert_equal, assert_almost_equal\n",
    "from sklearn.utils.validation import check_random_state\n",
    "from gplearn.genetic import SymbolicClassifier, SymbolicRegressor\n",
    "from gplearn.genetic import SymbolicTransformer\n",
    "from gplearn.functions import make_function\n",
    "from atgfe.GeneticFeatureEngineer import GeneticFeatureEngineer\n",
    "import pandas as pd\n",
    "from sklearn.pipeline import make_pipeline\n",
    "from sklearn.metrics import mean_squared_error, make_scorer, r2_score\n",
    "from yellowbrick.regressor import ResidualsPlot, PredictionError"
   ]
  },
  {
   "cell_type": "code",
   "execution_count": 2,
   "metadata": {},
   "outputs": [],
   "source": [
    "def score_model(model, X, y):\n",
    "    evaluation_metric_scorer = make_scorer(rmse, greater_is_better=True)\n",
    "    scores = cross_val_score(estimator=model, X=X, y=y, cv=10, scoring=evaluation_metric_scorer, n_jobs=-1)\n",
    "    scores_mean = scores.mean()\n",
    "    score_std = scores.std()\n",
    "    print('Mean of metric: {}, std: {}'.format(scores_mean, score_std))"
   ]
  },
  {
   "cell_type": "code",
   "execution_count": 3,
   "metadata": {},
   "outputs": [],
   "source": [
    "def rmse(y_true, y_pred):\n",
    "    return np.sqrt(mean_squared_error(y_true, y_pred))"
   ]
  },
  {
   "cell_type": "code",
   "execution_count": 4,
   "metadata": {},
   "outputs": [],
   "source": [
    "def display_residual_plot(model, X_train, y_train, X_test, y_test):\n",
    "    visualizer = ResidualsPlot(model)\n",
    "    visualizer.fit(X_train, y_train)  \n",
    "    visualizer.score(X_test, y_test)  \n",
    "    visualizer.poof()                 "
   ]
  },
  {
   "cell_type": "code",
   "execution_count": 5,
   "metadata": {},
   "outputs": [],
   "source": [
    "def prediction_error_plot(model, X_train, y_train, X_test, y_test):\n",
    "    visualizer = PredictionError(model)\n",
    "    visualizer.fit(X_train, y_train)  \n",
    "    visualizer.score(X_test, y_test)  \n",
    "    visualizer.poof()     "
   ]
  },
  {
   "cell_type": "code",
   "execution_count": 6,
   "metadata": {},
   "outputs": [],
   "source": [
    "rng = check_random_state(0)\n",
    "boston = load_boston()\n",
    "perm = rng.permutation(boston.target.size)\n",
    "boston.data = boston.data[perm]\n",
    "boston.target = boston.target[perm]"
   ]
  },
  {
   "cell_type": "code",
   "execution_count": 202,
   "metadata": {},
   "outputs": [
    {
     "name": "stdout",
     "output_type": "stream",
     "text": [
      "Number of features: 13\n"
     ]
    }
   ],
   "source": [
    "print('Number of features: {}'.format(boston.data.shape[1]))"
   ]
  },
  {
   "cell_type": "code",
   "execution_count": 7,
   "metadata": {},
   "outputs": [
    {
     "name": "stdout",
     "output_type": "stream",
     "text": [
      "    |   Population Average    |             Best Individual              |\n",
      "---- ------------------------- ------------------------------------------ ----------\n",
      " Gen   Length          Fitness   Length          Fitness      OOB Fitness  Time Left\n",
      "   0    11.04         0.339876        6         0.822502         0.675124     44.86s\n",
      "   1     6.91         0.593562        7         0.836993         0.602468     39.10s\n",
      "   2     5.07         0.730093        8          0.84063         0.704017     39.35s\n",
      "   3     5.22         0.735525        5         0.847019         0.628351     34.98s\n",
      "   4     6.24         0.734679       10         0.856612         0.565138     33.89s\n",
      "   5     8.23         0.721433       18          0.85677         0.728095     34.46s\n",
      "   6    10.20         0.717937       14         0.875233         0.619693     31.62s\n",
      "   7    11.84         0.720667       14         0.875927         0.609363     29.31s\n",
      "   8    12.56         0.733019       27         0.881705         0.390121     27.23s\n",
      "   9    13.61          0.73144       16         0.873285         0.598466     24.68s\n",
      "  10    14.81         0.737687       16         0.873915          0.67127     23.55s\n",
      "  11    14.84          0.73787       21         0.874944         0.467722     20.45s\n",
      "  12    15.40         0.740935       22         0.878053         0.534554     18.05s\n",
      "  13    16.83         0.743265       15         0.874735         0.635764     15.55s\n",
      "  14    17.04         0.741628       13         0.884417         0.493354     13.71s\n",
      "  15    17.02         0.744034       26         0.892236         0.647918     11.12s\n",
      "  16    18.23         0.738467       43         0.879153         0.377872      7.76s\n",
      "  17    18.09         0.722973       16         0.889763         0.508006      5.15s\n",
      "  18    19.58          0.70793       27         0.889402         0.639016      2.67s\n",
      "  19    21.69         0.697116       24         0.888272          0.56025      0.00s\n"
     ]
    },
    {
     "data": {
      "text/plain": [
       "Ridge(alpha=1.0, copy_X=True, fit_intercept=True, max_iter=None,\n",
       "      normalize=False, random_state=None, solver='auto', tol=0.001)"
      ]
     },
     "execution_count": 7,
     "metadata": {},
     "output_type": "execute_result"
    }
   ],
   "source": [
    "est = Ridge()\n",
    "function_set = ['add', 'sub', 'mul', 'div', 'sqrt', 'log',\n",
    "                'abs', 'neg', 'inv', 'max', 'min']\n",
    "gp = SymbolicTransformer(generations=20, population_size=2000,\n",
    "                         hall_of_fame=100, n_components=10,\n",
    "                         function_set=function_set,\n",
    "                         parsimony_coefficient=0.0005,\n",
    "                         max_samples=0.9,\n",
    "                         random_state=0, verbose=1)\n",
    "gp.fit(boston.data[:300, :], boston.target[:300])\n",
    "\n",
    "gp_features = gp.transform(boston.data)\n",
    "new_boston = np.hstack((boston.data, gp_features))\n",
    "\n",
    "est = Ridge()\n",
    "est.fit(new_boston[:300, :], boston.target[:300])"
   ]
  },
  {
   "cell_type": "code",
   "execution_count": 203,
   "metadata": {},
   "outputs": [
    {
     "name": "stdout",
     "output_type": "stream",
     "text": [
      "Number of features: 23\n"
     ]
    }
   ],
   "source": [
    "print('Number of features: {}'.format(new_boston.shape[1]))"
   ]
  },
  {
   "cell_type": "code",
   "execution_count": 8,
   "metadata": {},
   "outputs": [
    {
     "data": {
      "image/png": "[encoded data removed]",
      "text/plain": [
       "<Figure size 432x288 with 2 Axes>"
      ]
     },
     "metadata": {
      "needs_background": "light"
     },
     "output_type": "display_data"
    }
   ],
   "source": [
    "display_residual_plot(est, new_boston[:300, :], boston.target[:300], new_boston[300:, :], boston.target[300:])"
   ]
  },
  {
   "cell_type": "code",
   "execution_count": 9,
   "metadata": {},
   "outputs": [
    {
     "data": {
      "image/png": "[encoded data removed]",
      "text/plain": [
       "<Figure size 432x288 with 1 Axes>"
      ]
     },
     "metadata": {
      "needs_background": "light"
     },
     "output_type": "display_data"
    }
   ],
   "source": [
    "prediction_error_plot(est, new_boston[:300, :], boston.target[:300], new_boston[300:, :], boston.target[300:])"
   ]
  },
  {
   "cell_type": "code",
   "execution_count": 10,
   "metadata": {},
   "outputs": [
    {
     "name": "stdout",
     "output_type": "stream",
     "text": [
      "Mean of metric: 3.910221310780306, std: 1.0984626890507385\n"
     ]
    }
   ],
   "source": [
    "score_model(est, new_boston, boston.target)"
   ]
  },
  {
   "cell_type": "code",
   "execution_count": 11,
   "metadata": {},
   "outputs": [
    {
     "data": {
      "text/plain": [
       "0.8418372105182055"
      ]
     },
     "execution_count": 11,
     "metadata": {},
     "output_type": "execute_result"
    }
   ],
   "source": [
    "est.score(new_boston[300:, :], boston.target[300:])"
   ]
  },
  {
   "cell_type": "markdown",
   "metadata": {},
   "source": [
    "## ATgfe"
   ]
  },
  {
   "cell_type": "code",
   "execution_count": 12,
   "metadata": {},
   "outputs": [
    {
     "data": {
      "text/html": [
       "<div>\n",
       "<style scoped>\n",
       "    .dataframe tbody tr th:only-of-type {\n",
       "        vertical-align: middle;\n",
       "    }\n",
       "\n",
       "    .dataframe tbody tr th {\n",
       "        vertical-align: top;\n",
       "    }\n",
       "\n",
       "    .dataframe thead th {\n",
       "        text-align: right;\n",
       "    }\n",
       "</style>\n",
       "<table border=\"1\" class=\"dataframe\">\n",
       "  <thead>\n",
       "    <tr style=\"text-align: right;\">\n",
       "      <th></th>\n",
       "      <th>CRIM</th>\n",
       "      <th>ZN</th>\n",
       "      <th>INDUS</th>\n",
       "      <th>CHAS</th>\n",
       "      <th>NOX</th>\n",
       "      <th>RM</th>\n",
       "      <th>AGE</th>\n",
       "      <th>DIS</th>\n",
       "      <th>RAD</th>\n",
       "      <th>TAX</th>\n",
       "      <th>PTRATIO</th>\n",
       "      <th>B</th>\n",
       "      <th>LSTAT</th>\n",
       "      <th>Y</th>\n",
       "    </tr>\n",
       "  </thead>\n",
       "  <tbody>\n",
       "    <tr>\n",
       "      <td>0</td>\n",
       "      <td>0.06724</td>\n",
       "      <td>0.0</td>\n",
       "      <td>3.24</td>\n",
       "      <td>0.0</td>\n",
       "      <td>0.460</td>\n",
       "      <td>6.333</td>\n",
       "      <td>17.2</td>\n",
       "      <td>5.2146</td>\n",
       "      <td>4.0</td>\n",
       "      <td>430.0</td>\n",
       "      <td>16.9</td>\n",
       "      <td>375.21</td>\n",
       "      <td>7.34</td>\n",
       "      <td>22.6</td>\n",
       "    </tr>\n",
       "    <tr>\n",
       "      <td>1</td>\n",
       "      <td>9.23230</td>\n",
       "      <td>0.0</td>\n",
       "      <td>18.10</td>\n",
       "      <td>0.0</td>\n",
       "      <td>0.631</td>\n",
       "      <td>6.216</td>\n",
       "      <td>100.0</td>\n",
       "      <td>1.1691</td>\n",
       "      <td>24.0</td>\n",
       "      <td>666.0</td>\n",
       "      <td>20.2</td>\n",
       "      <td>366.15</td>\n",
       "      <td>9.53</td>\n",
       "      <td>50.0</td>\n",
       "    </tr>\n",
       "    <tr>\n",
       "      <td>2</td>\n",
       "      <td>0.11425</td>\n",
       "      <td>0.0</td>\n",
       "      <td>13.89</td>\n",
       "      <td>1.0</td>\n",
       "      <td>0.550</td>\n",
       "      <td>6.373</td>\n",
       "      <td>92.4</td>\n",
       "      <td>3.3633</td>\n",
       "      <td>5.0</td>\n",
       "      <td>276.0</td>\n",
       "      <td>16.4</td>\n",
       "      <td>393.74</td>\n",
       "      <td>10.50</td>\n",
       "      <td>23.0</td>\n",
       "    </tr>\n",
       "    <tr>\n",
       "      <td>3</td>\n",
       "      <td>24.80170</td>\n",
       "      <td>0.0</td>\n",
       "      <td>18.10</td>\n",
       "      <td>0.0</td>\n",
       "      <td>0.693</td>\n",
       "      <td>5.349</td>\n",
       "      <td>96.0</td>\n",
       "      <td>1.7028</td>\n",
       "      <td>24.0</td>\n",
       "      <td>666.0</td>\n",
       "      <td>20.2</td>\n",
       "      <td>396.90</td>\n",
       "      <td>19.77</td>\n",
       "      <td>8.3</td>\n",
       "    </tr>\n",
       "    <tr>\n",
       "      <td>4</td>\n",
       "      <td>0.05646</td>\n",
       "      <td>0.0</td>\n",
       "      <td>12.83</td>\n",
       "      <td>0.0</td>\n",
       "      <td>0.437</td>\n",
       "      <td>6.232</td>\n",
       "      <td>53.7</td>\n",
       "      <td>5.0141</td>\n",
       "      <td>5.0</td>\n",
       "      <td>398.0</td>\n",
       "      <td>18.7</td>\n",
       "      <td>386.40</td>\n",
       "      <td>12.34</td>\n",
       "      <td>21.2</td>\n",
       "    </tr>\n",
       "  </tbody>\n",
       "</table>\n",
       "</div>"
      ],
      "text/plain": [
       "       CRIM   ZN  INDUS  CHAS    NOX     RM    AGE     DIS   RAD    TAX  \\\n",
       "0   0.06724  0.0   3.24   0.0  0.460  6.333   17.2  5.2146   4.0  430.0   \n",
       "1   9.23230  0.0  18.10   0.0  0.631  6.216  100.0  1.1691  24.0  666.0   \n",
       "2   0.11425  0.0  13.89   1.0  0.550  6.373   92.4  3.3633   5.0  276.0   \n",
       "3  24.80170  0.0  18.10   0.0  0.693  5.349   96.0  1.7028  24.0  666.0   \n",
       "4   0.05646  0.0  12.83   0.0  0.437  6.232   53.7  5.0141   5.0  398.0   \n",
       "\n",
       "   PTRATIO       B  LSTAT     Y  \n",
       "0     16.9  375.21   7.34  22.6  \n",
       "1     20.2  366.15   9.53  50.0  \n",
       "2     16.4  393.74  10.50  23.0  \n",
       "3     20.2  396.90  19.77   8.3  \n",
       "4     18.7  386.40  12.34  21.2  "
      ]
     },
     "execution_count": 12,
     "metadata": {},
     "output_type": "execute_result"
    }
   ],
   "source": [
    "df = pd.DataFrame(data=boston.data, columns=boston.feature_names)\n",
    "df['Y'] = boston.target\n",
    "df.head()"
   ]
  },
  {
   "cell_type": "code",
   "execution_count": 13,
   "metadata": {},
   "outputs": [],
   "source": [
    "X = df.drop('Y', axis=1).copy()\n",
    "Y = df.loc[:, 'Y'].copy()\n",
    "columns = X.columns.tolist()\n",
    "X_train, X_test, y_train, y_test = X.iloc[:300, :], X.iloc[300:, :], Y.iloc[:300], Y.iloc[300:]"
   ]
  },
  {
   "cell_type": "code",
   "execution_count": 14,
   "metadata": {},
   "outputs": [],
   "source": [
    "def create_new_model():\n",
    "    return make_pipeline(StandardScaler(), LinearRegression())"
   ]
  },
  {
   "cell_type": "code",
   "execution_count": 15,
   "metadata": {},
   "outputs": [],
   "source": [
    "model = create_new_model()"
   ]
  },
  {
   "cell_type": "code",
   "execution_count": 16,
   "metadata": {},
   "outputs": [
    {
     "name": "stderr",
     "output_type": "stream",
     "text": [
      "2019-11-15 13:24:13,043:INFO: New Engineer created with the following parameters: \n",
      "2019-11-15 13:24:13,045:INFO: \n",
      "Model type: <class 'sklearn.pipeline.Pipeline'>\n",
      "Numerical Features: ['CRIM', 'ZN', 'INDUS', 'CHAS', 'NOX', 'RM', 'AGE', 'DIS', 'RAD', 'TAX', 'PTRATIO', 'B', 'LSTAT']\n",
      "Number of candidate features: 4\n",
      "Number of interacting features: 13\n",
      "Evaluation Metric: rmse\n",
      "Minimize metric is True \n"
     ]
    }
   ],
   "source": [
    "gfe = GeneticFeatureEngineer(model, x_train=X_train, y_train=y_train, numerical_features=columns,\n",
    "                             number_of_candidate_features=4,\n",
    "                             number_of_interacting_features=13,\n",
    "                             evaluation_metric=rmse, minimize_metric=True, verbose=True, cv=10,\n",
    "                            fit_wo_original_columns=False, enable_feature_transformation_operations=False, enable_weights=False)"
   ]
  },
  {
   "cell_type": "code",
   "execution_count": 17,
   "metadata": {},
   "outputs": [
    {
     "name": "stderr",
     "output_type": "stream",
     "text": [
      "2019-11-15 13:24:13,725:INFO: Start of evolution \n",
      "2019-11-15 13:24:38,645:INFO:   Evaluated 2000 individuals \n",
      "2019-11-15 13:24:38,647:INFO: -- Generation 1 -- \n",
      "2019-11-15 13:24:57,967:INFO:   Evaluated 1187 individuals \n",
      "2019-11-15 13:24:57,974:INFO:   Min 4.301380725030778 \n",
      "2019-11-15 13:24:57,976:INFO:   Max 1000000000000.0 \n",
      "2019-11-15 13:24:57,976:INFO:   Avg 136150000004.06557 \n",
      "2019-11-15 13:24:57,978:INFO:   Std 336790999729.6441 \n",
      "2019-11-15 13:25:00,032:INFO: Generation: 1, validation scores: [6.11446939 5.4752214  4.16221006 4.78711105 2.89912007 3.46535319\n",
      " 3.25744103 2.36752292 4.27566265 3.70859234], mean_score: 4.051270410386528 \n",
      "2019-11-15 13:25:00,033:INFO: Generation: 1, best solution features: ['CRIM', 'ZN', 'INDUS', 'CHAS', 'NOX', 'RM', 'AGE', 'DIS', 'RAD', 'TAX', 'PTRATIO', 'B', 'LSTAT', 'LSTAT*PTRATIO*TAX', 'NOX + RM*TAX + RM', 'DIS/(INDUS*LSTAT*PTRATIO*TAX)', 'NOX + ZN*(-INDUS + ZN)/(AGE - INDUS)'] \n",
      "2019-11-15 13:25:00,035:INFO: -- Generation 2 -- \n",
      "2019-11-15 13:25:18,841:INFO:   Evaluated 1180 individuals \n",
      "2019-11-15 13:25:18,848:INFO:   Min 4.123713243232626 \n",
      "2019-11-15 13:25:18,849:INFO:   Max 1000000000000.0 \n",
      "2019-11-15 13:25:18,850:INFO:   Avg 140550000003.7957 \n",
      "2019-11-15 13:25:18,851:INFO:   Std 342272840726.42004 \n",
      "2019-11-15 13:25:20,892:INFO: Generation: 2, validation scores: [5.78194861 5.17232855 3.96698883 4.31509199 3.4267876  3.55048622\n",
      " 3.54730583 2.41789338 4.31998686 3.78759107], mean_score: 4.028640893501186 \n",
      "2019-11-15 13:25:20,893:INFO: Generation: 2, best solution features: ['CRIM', 'ZN', 'INDUS', 'CHAS', 'NOX', 'RM', 'AGE', 'DIS', 'RAD', 'TAX', 'PTRATIO', 'B', 'LSTAT', 'LSTAT*PTRATIO*TAX', 'NOX + RM*TAX + RM', 'LSTAT*PTRATIO*TAX/(DIS*INDUS)', '-INDUS + ZN'] \n",
      "2019-11-15 13:25:20,894:INFO: -- Generation 3 -- \n",
      "2019-11-15 13:25:42,075:INFO:   Evaluated 1249 individuals \n",
      "2019-11-15 13:25:42,086:INFO:   Min 3.9047113083020943 \n",
      "2019-11-15 13:25:42,088:INFO:   Max 1000000000000.0 \n",
      "2019-11-15 13:25:42,088:INFO:   Avg 155950000003.6446 \n",
      "2019-11-15 13:25:42,089:INFO:   Std 359130334974.4542 \n",
      "2019-11-15 13:25:44,200:INFO: Generation: 3, validation scores: [5.79563396 3.57691661 4.00664176 4.6845632  3.56576201 4.17970169\n",
      " 4.00970125 2.72181861 4.99165614 3.91197254], mean_score: 4.144436776864947 \n",
      "2019-11-15 13:25:44,202:INFO: Generation: 3, best solution features: ['CRIM', 'ZN', 'INDUS', 'CHAS', 'NOX', 'RM', 'AGE', 'DIS', 'RAD', 'TAX', 'PTRATIO', 'B', 'LSTAT', 'CHAS*(CHAS - NOX - CHAS/AGE)', '-AGE - CHAS*CRIM*INDUS*NOX*TAX + INDUS/(RM + ZN) + PTRATIO/CRIM', '-NOX*PTRATIO*TAX*(PTRATIO*RM - PTRATIO/DIS) + RAD - ZN/CRIM'] \n",
      "2019-11-15 13:25:44,203:INFO: -- Generation 4 -- \n",
      "2019-11-15 13:26:05,606:INFO:   Evaluated 1240 individuals \n",
      "2019-11-15 13:26:05,615:INFO:   Min 3.770050250460038 \n",
      "2019-11-15 13:26:05,623:INFO:   Max 1000000000000.0 \n",
      "2019-11-15 13:26:05,623:INFO:   Avg 141000000003.5919 \n",
      "2019-11-15 13:26:05,625:INFO:   Std 343466155536.44775 \n",
      "2019-11-15 13:26:07,641:INFO: Generation: 4, validation scores: [5.228092   4.20385296 3.80749031 3.89699294 3.05070239 3.41473163\n",
      " 3.55025905 2.45585897 4.71332508 2.99917599], mean_score: 3.7320481324630626 \n",
      "2019-11-15 13:26:07,643:INFO: Generation: 4, best solution features: ['CRIM', 'ZN', 'INDUS', 'CHAS', 'NOX', 'RM', 'AGE', 'DIS', 'RAD', 'TAX', 'PTRATIO', 'B', 'LSTAT', 'LSTAT*PTRATIO*TAX', 'NOX + RM*TAX + RM', 'INDUS/(DIS*LSTAT)', 'TAX/(DIS*(-NOX + RAD + TAX))'] \n",
      "2019-11-15 13:26:07,644:INFO: -- Generation 5 -- \n",
      "2019-11-15 13:26:27,160:INFO:   Evaluated 1165 individuals \n",
      "2019-11-15 13:26:27,168:INFO:   Min 3.770050250460038 \n",
      "2019-11-15 13:26:27,169:INFO:   Max 1000000000000.0 \n",
      "2019-11-15 13:26:27,170:INFO:   Avg 157800000003.36554 \n",
      "2019-11-15 13:26:27,171:INFO:   Std 361080545029.69055 \n",
      "2019-11-15 13:26:29,271:INFO: Generation: 5, validation scores: [5.228092   4.20385296 3.80749031 3.89699294 3.05070239 3.41473163\n",
      " 3.55025905 2.45585897 4.71332508 2.99917599], mean_score: 3.7320481324630626 \n",
      "2019-11-15 13:26:29,273:INFO: Generation: 5, best solution features: ['CRIM', 'ZN', 'INDUS', 'CHAS', 'NOX', 'RM', 'AGE', 'DIS', 'RAD', 'TAX', 'PTRATIO', 'B', 'LSTAT', 'LSTAT*PTRATIO*TAX', 'NOX + RM*TAX + RM', 'INDUS/(DIS*LSTAT)', 'TAX/(DIS*(-NOX + RAD + TAX))'] \n",
      "2019-11-15 13:26:29,274:INFO: -- Generation 6 -- \n",
      "2019-11-15 13:26:49,969:INFO:   Evaluated 1201 individuals \n",
      "2019-11-15 13:26:49,978:INFO:   Min 3.770050250460038 \n",
      "2019-11-15 13:26:49,979:INFO:   Max 1000000000000.0 \n",
      "2019-11-15 13:26:49,980:INFO:   Avg 150600000003.26437 \n",
      "2019-11-15 13:26:49,981:INFO:   Std 352462253296.7426 \n",
      "2019-11-15 13:26:52,112:INFO: Generation: 6, validation scores: [5.228092   4.20385296 3.80749031 3.89699294 3.05070239 3.41473163\n",
      " 3.55025905 2.45585897 4.71332508 2.99917599], mean_score: 3.7320481324630626 \n",
      "2019-11-15 13:26:52,113:INFO: Generation: 6, best solution features: ['CRIM', 'ZN', 'INDUS', 'CHAS', 'NOX', 'RM', 'AGE', 'DIS', 'RAD', 'TAX', 'PTRATIO', 'B', 'LSTAT', 'LSTAT*PTRATIO*TAX', 'NOX + RM*TAX + RM', 'INDUS/(DIS*LSTAT)', 'TAX/(DIS*(-NOX + RAD + TAX))'] \n",
      "2019-11-15 13:26:52,114:INFO: -- Generation 7 -- \n",
      "2019-11-15 13:27:10,603:INFO:   Evaluated 1167 individuals \n",
      "2019-11-15 13:27:10,612:INFO:   Min 3.759146086291064 \n",
      "2019-11-15 13:27:10,613:INFO:   Max 1000000000000.0 \n",
      "2019-11-15 13:27:10,614:INFO:   Avg 147000000003.20526 \n",
      "2019-11-15 13:27:10,615:INFO:   Std 350272750865.74744 \n",
      "2019-11-15 13:27:12,707:INFO: Generation: 7, validation scores: [5.20180108 4.20626991 3.79841337 3.88584227 2.99242561 3.35797085\n",
      " 3.50958614 2.43199385 4.71838388 2.94828546], mean_score: 3.7050972413108063 \n",
      "2019-11-15 13:27:12,709:INFO: Generation: 7, best solution features: ['CRIM', 'ZN', 'INDUS', 'CHAS', 'NOX', 'RM', 'AGE', 'DIS', 'RAD', 'TAX', 'PTRATIO', 'B', 'LSTAT', 'LSTAT*PTRATIO*TAX', 'LSTAT*(NOX + RM) - NOX + RM*TAX', 'INDUS/(DIS*LSTAT)', 'TAX/(DIS*(-NOX + RAD + TAX))'] \n",
      "2019-11-15 13:27:12,710:INFO: -- Generation 8 -- \n",
      "2019-11-15 13:27:32,739:INFO:   Evaluated 1227 individuals \n",
      "2019-11-15 13:27:32,749:INFO:   Min 3.759146086291064 \n",
      "2019-11-15 13:27:32,750:INFO:   Max 1000000000000.0 \n",
      "2019-11-15 13:27:32,751:INFO:   Avg 134500000003.25275 \n",
      "2019-11-15 13:27:32,752:INFO:   Std 339867253496.31036 \n",
      "2019-11-15 13:27:34,836:INFO: Generation: 8, validation scores: [5.20180108 4.20626991 3.79841337 3.88584227 2.99242561 3.35797085\n",
      " 3.50958614 2.43199385 4.71838388 2.94828546], mean_score: 3.7050972413108063 \n",
      "2019-11-15 13:27:34,837:INFO: Generation: 8, best solution features: ['CRIM', 'ZN', 'INDUS', 'CHAS', 'NOX', 'RM', 'AGE', 'DIS', 'RAD', 'TAX', 'PTRATIO', 'B', 'LSTAT', 'LSTAT*PTRATIO*TAX', 'LSTAT*(NOX + RM) - NOX + RM*TAX', 'INDUS/(DIS*LSTAT)', 'TAX/(DIS*(-NOX + RAD + TAX))'] \n",
      "2019-11-15 13:27:34,838:INFO: -- Generation 9 -- \n",
      "2019-11-15 13:27:53,695:INFO:   Evaluated 1199 individuals \n",
      "2019-11-15 13:27:53,706:INFO:   Min 3.6573037127840773 \n",
      "2019-11-15 13:27:53,708:INFO:   Max 1000000000000.0 \n",
      "2019-11-15 13:27:53,709:INFO:   Avg 146300000003.1817 \n",
      "2019-11-15 13:27:53,710:INFO:   Std 351107262811.622 \n",
      "2019-11-15 13:27:55,763:INFO: Generation: 9, validation scores: [5.12724034 3.65803664 3.92273568 4.13641267 2.93022362 3.47876057\n",
      " 3.65888352 2.26803655 4.84057448 2.9826986 ], mean_score: 3.7003602666468596 \n",
      "2019-11-15 13:27:55,765:INFO: Generation: 9, best solution features: ['CRIM', 'ZN', 'INDUS', 'CHAS', 'NOX', 'RM', 'AGE', 'DIS', 'RAD', 'TAX', 'PTRATIO', 'B', 'LSTAT', 'LSTAT*PTRATIO*TAX', '-CHAS*(AGE*RAD/RM - RM - ZN) + RM*TAX + (NOX + PTRATIO)/B', 'INDUS/(DIS*LSTAT)', 'TAX/(DIS*(-NOX + RAD + TAX))'] \n",
      "2019-11-15 13:27:55,766:INFO: -- Generation 10 -- \n",
      "2019-11-15 13:28:14,822:INFO:   Evaluated 1188 individuals \n",
      "2019-11-15 13:28:14,833:INFO:   Min 3.6573037127840773 \n",
      "2019-11-15 13:28:14,834:INFO:   Max 1000000000000.0 \n",
      "2019-11-15 13:28:14,835:INFO:   Avg 157750000003.13538 \n",
      "2019-11-15 13:28:14,836:INFO:   Std 362959966799.38586 \n",
      "2019-11-15 13:28:16,959:INFO: Generation: 10, validation scores: [5.12724034 3.65803664 3.92273568 4.13641267 2.93022362 3.47876057\n",
      " 3.65888352 2.26803655 4.84057448 2.9826986 ], mean_score: 3.7003602666468596 \n",
      "2019-11-15 13:28:16,961:INFO: Generation: 10, best solution features: ['CRIM', 'ZN', 'INDUS', 'CHAS', 'NOX', 'RM', 'AGE', 'DIS', 'RAD', 'TAX', 'PTRATIO', 'B', 'LSTAT', 'LSTAT*PTRATIO*TAX', '-CHAS*(AGE*RAD/RM - RM - ZN) + RM*TAX + (NOX + PTRATIO)/B', 'INDUS/(DIS*LSTAT)', 'TAX/(DIS*(-NOX + RAD + TAX))'] \n",
      "2019-11-15 13:28:16,963:INFO: -- Generation 11 -- \n",
      "2019-11-15 13:28:36,738:INFO:   Evaluated 1213 individuals \n",
      "2019-11-15 13:28:36,748:INFO:   Min 3.647936494669916 \n",
      "2019-11-15 13:28:36,749:INFO:   Max 1000000000000.0 \n",
      "2019-11-15 13:28:36,751:INFO:   Avg 140600000003.194 \n",
      "2019-11-15 13:28:36,752:INFO:   Std 345530953749.59125 \n",
      "2019-11-15 13:28:38,858:INFO: Generation: 11, validation scores: [5.03927988 3.64840974 3.91859811 4.09411693 2.76584623 3.31715352\n",
      " 3.44898875 2.27448111 4.95791247 2.91317341], mean_score: 3.6377960149412845 \n",
      "2019-11-15 13:28:38,860:INFO: Generation: 11, best solution features: ['CRIM', 'ZN', 'INDUS', 'CHAS', 'NOX', 'RM', 'AGE', 'DIS', 'RAD', 'TAX', 'PTRATIO', 'B', 'LSTAT', 'CHAS - LSTAT*TAX', '-CHAS*(AGE*RAD/RM - RM - ZN) + LSTAT*(NOX + RM) + RM*TAX', 'INDUS/(DIS*LSTAT)', 'TAX/(DIS*(-NOX + RAD + TAX))'] \n",
      "2019-11-15 13:28:38,861:INFO: -- Generation 12 -- \n",
      "2019-11-15 13:28:57,035:INFO:   Evaluated 1140 individuals \n",
      "2019-11-15 13:28:57,045:INFO:   Min 3.5371389711079977 \n",
      "2019-11-15 13:28:57,047:INFO:   Max 1000000000000.0 \n",
      "2019-11-15 13:28:57,048:INFO:   Avg 155450000003.0647 \n",
      "2019-11-15 13:28:57,049:INFO:   Std 359277465893.768 \n",
      "2019-11-15 13:28:59,149:INFO: Generation: 12, validation scores: [5.53445489 3.55193615 3.75601469 3.72798709 3.44792345 3.39009048\n",
      " 3.48847578 2.67706856 4.60180853 2.9655929 ], mean_score: 3.7141352497861555 \n",
      "2019-11-15 13:28:59,151:INFO: Generation: 12, best solution features: ['CRIM', 'ZN', 'INDUS', 'CHAS', 'NOX', 'RM', 'AGE', 'DIS', 'RAD', 'TAX', 'PTRATIO', 'B', 'LSTAT', 'LSTAT*PTRATIO*TAX', '-CHAS*(AGE*CRIM + B - CRIM*PTRATIO - TAX) + RM*TAX + (NOX + PTRATIO)/B', 'INDUS/(DIS*LSTAT)', 'TAX/DIS'] \n",
      "2019-11-15 13:28:59,152:INFO: -- Generation 13 -- \n",
      "2019-11-15 13:29:19,939:INFO:   Evaluated 1183 individuals \n",
      "2019-11-15 13:29:19,947:INFO:   Min 3.511812234236423 \n",
      "2019-11-15 13:29:19,949:INFO:   Max 1000000000000.0 \n",
      "2019-11-15 13:29:19,950:INFO:   Avg 156100000003.05768 \n",
      "2019-11-15 13:29:19,950:INFO:   Std 360960925861.85266 \n",
      "2019-11-15 13:29:22,065:INFO: Generation: 13, validation scores: [5.35820443 3.46655749 3.77513673 3.73831899 3.22599426 3.23211452\n",
      " 3.27608558 2.68327726 4.7323058  2.94942817], mean_score: 3.643742322757306 \n",
      "2019-11-15 13:29:22,066:INFO: Generation: 13, best solution features: ['CRIM', 'ZN', 'INDUS', 'CHAS', 'NOX', 'RM', 'AGE', 'DIS', 'RAD', 'TAX', 'PTRATIO', 'B', 'LSTAT', 'CHAS - LSTAT*TAX', '-CHAS*(AGE*CRIM + B - CRIM*PTRATIO - TAX) + RM*TAX + (NOX + PTRATIO)/B', 'INDUS/(DIS*LSTAT)', 'TAX/DIS'] \n",
      "2019-11-15 13:29:22,067:INFO: -- Generation 14 -- \n",
      "2019-11-15 13:29:43,630:INFO:   Evaluated 1239 individuals \n",
      "2019-11-15 13:29:43,640:INFO:   Min 3.3969138981977145 \n",
      "2019-11-15 13:29:43,641:INFO:   Max 1000000000000.0 \n",
      "2019-11-15 13:29:43,642:INFO:   Avg 156500000003.04083 \n",
      "2019-11-15 13:29:43,643:INFO:   Std 360843109950.9157 \n",
      "2019-11-15 13:29:45,790:INFO: Generation: 14, validation scores: [5.44596778 3.12125454 3.81530526 3.87852742 3.18086078 3.11272296\n",
      " 3.24947212 2.47058338 4.42338862 2.87662112], mean_score: 3.5574703987742473 \n",
      "2019-11-15 13:29:45,792:INFO: Generation: 14, best solution features: ['CRIM', 'ZN', 'INDUS', 'CHAS', 'NOX', 'RM', 'AGE', 'DIS', 'RAD', 'TAX', 'PTRATIO', 'B', 'LSTAT', 'CHAS - LSTAT*TAX', '-CHAS*(AGE*CRIM + B - TAX - ZN) + LSTAT*(NOX + RM) + RM*TAX', 'INDUS/(DIS*LSTAT)', 'TAX/(DIS*(-NOX + RAD + TAX))'] \n",
      "2019-11-15 13:29:45,793:INFO: -- Generation 15 -- \n",
      "2019-11-15 13:30:05,978:INFO:   Evaluated 1194 individuals \n",
      "2019-11-15 13:30:05,988:INFO:   Min 3.396375447111594 \n",
      "2019-11-15 13:30:05,989:INFO:   Max 1000000000000.0 \n",
      "2019-11-15 13:30:05,990:INFO:   Avg 160800000002.95053 \n",
      "2019-11-15 13:30:05,991:INFO:   Std 365750406697.04205 \n",
      "2019-11-15 13:30:08,113:INFO: Generation: 15, validation scores: [5.42825024 3.01779345 3.79301513 3.7350611  3.13172281 3.18106774\n",
      " 3.2384074  2.49143927 4.66031742 2.88320627], mean_score: 3.5560280838713085 \n",
      "2019-11-15 13:30:08,116:INFO: Generation: 15, best solution features: ['CRIM', 'ZN', 'INDUS', 'CHAS', 'NOX', 'RM', 'AGE', 'DIS', 'RAD', 'TAX', 'PTRATIO', 'B', 'LSTAT', 'CHAS - LSTAT*TAX', '-CHAS*(AGE*CRIM + B - TAX - ZN) + LSTAT*(NOX + RM) + RM*TAX', 'INDUS/(DIS*LSTAT)', 'TAX/DIS'] \n",
      "2019-11-15 13:30:08,117:INFO: -- Generation 16 -- \n",
      "2019-11-15 13:30:28,812:INFO:   Evaluated 1197 individuals \n",
      "2019-11-15 13:30:28,820:INFO:   Min 3.3963711659271323 \n",
      "2019-11-15 13:30:28,821:INFO:   Max 1000000000000.0 \n",
      "2019-11-15 13:30:28,822:INFO:   Avg 150800000002.92853 \n",
      "2019-11-15 13:30:28,823:INFO:   Std 356215328136.11096 \n",
      "2019-11-15 13:30:30,930:INFO: Generation: 16, validation scores: [5.44008658 3.10979318 3.81254366 3.87647516 3.18310831 3.11668016\n",
      " 3.24785865 2.47332035 4.42977944 2.88287088], mean_score: 3.5572516377111683 \n",
      "2019-11-15 13:30:30,932:INFO: Generation: 16, best solution features: ['CRIM', 'ZN', 'INDUS', 'CHAS', 'NOX', 'RM', 'AGE', 'DIS', 'RAD', 'TAX', 'PTRATIO', 'B', 'LSTAT', 'CHAS - LSTAT*TAX', '-CHAS*(AGE*CRIM + B - TAX - ZN) + LSTAT*(NOX + RM) + RM*TAX', 'INDUS/(DIS*LSTAT)', 'TAX/(DIS*(CRIM - NOX + TAX))'] \n",
      "2019-11-15 13:30:30,933:INFO: -- Generation 17 -- \n",
      "2019-11-15 13:30:52,265:INFO:   Evaluated 1205 individuals \n",
      "2019-11-15 13:30:52,277:INFO:   Min 3.3963711659271323 \n",
      "2019-11-15 13:30:52,279:INFO:   Max 1000000000000.0 \n",
      "2019-11-15 13:30:52,279:INFO:   Avg 153750000002.89224 \n",
      "2019-11-15 13:30:52,280:INFO:   Std 359772063255.4884 \n",
      "2019-11-15 13:30:54,407:INFO: Generation: 17, validation scores: [5.44008658 3.10979318 3.81254366 3.87647516 3.18310831 3.11668016\n",
      " 3.24785865 2.47332035 4.42977944 2.88287088], mean_score: 3.5572516377111683 \n",
      "2019-11-15 13:30:54,408:INFO: Generation: 17, best solution features: ['CRIM', 'ZN', 'INDUS', 'CHAS', 'NOX', 'RM', 'AGE', 'DIS', 'RAD', 'TAX', 'PTRATIO', 'B', 'LSTAT', 'CHAS - LSTAT*TAX', '-CHAS*(AGE*CRIM + B - TAX - ZN) + LSTAT*(NOX + RM) + RM*TAX', 'INDUS/(DIS*LSTAT)', 'TAX/(DIS*(CRIM - NOX + TAX))'] \n",
      "2019-11-15 13:30:54,409:INFO: -- Generation 18 -- \n",
      "2019-11-15 13:31:16,548:INFO:   Evaluated 1230 individuals \n",
      "2019-11-15 13:31:16,558:INFO:   Min 3.3963711659271323 \n",
      "2019-11-15 13:31:16,559:INFO:   Max 1000000000000.0 \n",
      "2019-11-15 13:31:16,560:INFO:   Avg 146300000002.91495 \n",
      "2019-11-15 13:31:16,561:INFO:   Std 352386591684.68304 \n",
      "2019-11-15 13:31:18,731:INFO: Generation: 18, validation scores: [5.44008658 3.10979318 3.81254366 3.87647516 3.18310831 3.11668016\n",
      " 3.24785865 2.47332035 4.42977944 2.88287088], mean_score: 3.5572516377111683 \n",
      "2019-11-15 13:31:18,733:INFO: Generation: 18, best solution features: ['CRIM', 'ZN', 'INDUS', 'CHAS', 'NOX', 'RM', 'AGE', 'DIS', 'RAD', 'TAX', 'PTRATIO', 'B', 'LSTAT', 'CHAS - LSTAT*TAX', '-CHAS*(AGE*CRIM + B - TAX - ZN) + LSTAT*(NOX + RM) + RM*TAX', 'INDUS/(DIS*LSTAT)', 'TAX/(DIS*(CRIM - NOX + TAX))'] \n",
      "2019-11-15 13:31:18,734:INFO: -- Generation 19 -- \n",
      "2019-11-15 13:31:39,295:INFO:   Evaluated 1158 individuals \n",
      "2019-11-15 13:31:39,306:INFO:   Min 3.3963711659271323 \n",
      "2019-11-15 13:31:39,307:INFO:   Max 1000000000000.0 \n",
      "2019-11-15 13:31:39,308:INFO:   Avg 146350000002.90698 \n",
      "2019-11-15 13:31:39,309:INFO:   Std 352372923901.865 \n",
      "2019-11-15 13:31:41,409:INFO: Generation: 19, validation scores: [5.44008658 3.10979318 3.81254366 3.87647516 3.18310831 3.11668016\n",
      " 3.24785865 2.47332035 4.42977944 2.88287088], mean_score: 3.5572516377111683 \n",
      "2019-11-15 13:31:41,411:INFO: Generation: 19, best solution features: ['CRIM', 'ZN', 'INDUS', 'CHAS', 'NOX', 'RM', 'AGE', 'DIS', 'RAD', 'TAX', 'PTRATIO', 'B', 'LSTAT', 'CHAS - LSTAT*TAX', '-CHAS*(AGE*CRIM + B - TAX - ZN) + LSTAT*(NOX + RM) + RM*TAX', 'INDUS/(DIS*LSTAT)', 'TAX/(DIS*(CRIM - NOX + TAX))'] \n",
      "2019-11-15 13:31:41,412:INFO: -- Generation 20 -- \n",
      "2019-11-15 13:32:03,178:INFO:   Evaluated 1214 individuals \n",
      "2019-11-15 13:32:03,188:INFO:   Min 3.3963630129149007 \n",
      "2019-11-15 13:32:03,189:INFO:   Max 1000000000000.0 \n",
      "2019-11-15 13:32:03,190:INFO:   Avg 167650000002.84412 \n",
      "2019-11-15 13:32:03,191:INFO:   Std 372771347475.9656 \n",
      "2019-11-15 13:32:05,351:INFO: Generation: 20, validation scores: [5.43989059 3.1092717  3.81235732 3.87615772 3.18313563 3.1166949\n",
      " 3.24807784 2.47373899 4.43018314 2.88280875], mean_score: 3.5572316587168933 \n",
      "2019-11-15 13:32:05,353:INFO: Generation: 20, best solution features: ['CRIM', 'ZN', 'INDUS', 'CHAS', 'NOX', 'RM', 'AGE', 'DIS', 'RAD', 'TAX', 'PTRATIO', 'B', 'LSTAT', 'CHAS - LSTAT*TAX', '-CHAS*(AGE*CRIM + B - TAX - ZN) + LSTAT*(NOX + RM) + RM*TAX', 'INDUS/(DIS*LSTAT)', 'TAX/(DIS*(CRIM + TAX))'] \n",
      "2019-11-15 13:32:05,354:INFO: -- Generation 21 -- \n",
      "2019-11-15 13:32:28,053:INFO:   Evaluated 1199 individuals \n",
      "2019-11-15 13:32:28,064:INFO:   Min 3.3963630129149007 \n",
      "2019-11-15 13:32:28,065:INFO:   Max 1000000000000.0 \n",
      "2019-11-15 13:32:28,066:INFO:   Avg 137950000002.93582 \n",
      "2019-11-15 13:32:28,067:INFO:   Std 343605584208.39197 \n",
      "2019-11-15 13:32:30,273:INFO: Generation: 21, validation scores: [5.43989059 3.1092717  3.81235732 3.87615772 3.18313563 3.1166949\n",
      " 3.24807784 2.47373899 4.43018314 2.88280875], mean_score: 3.5572316587168933 \n",
      "2019-11-15 13:32:30,277:INFO: Generation: 21, best solution features: ['CRIM', 'ZN', 'INDUS', 'CHAS', 'NOX', 'RM', 'AGE', 'DIS', 'RAD', 'TAX', 'PTRATIO', 'B', 'LSTAT', 'CHAS - LSTAT*TAX', '-CHAS*(AGE*CRIM + B - TAX - ZN) + LSTAT*(NOX + RM) + RM*TAX', 'INDUS/(DIS*LSTAT)', 'TAX/(DIS*(CRIM + TAX))'] \n",
      "2019-11-15 13:32:30,279:INFO: -- Generation 22 -- \n",
      "2019-11-15 13:32:51,770:INFO:   Evaluated 1236 individuals \n",
      "2019-11-15 13:32:51,778:INFO:   Min 3.3962084786626563 \n",
      "2019-11-15 13:32:51,779:INFO:   Max 1000000000000.0 \n",
      "2019-11-15 13:32:51,780:INFO:   Avg 153750000002.8762 \n",
      "2019-11-15 13:32:51,782:INFO:   Std 359146122767.76154 \n",
      "2019-11-15 13:32:53,845:INFO: Generation: 22, validation scores: [5.43977183 3.11013678 3.812279   3.87667713 3.18516471 3.11676911\n",
      " 3.2487012  2.47346222 4.42847508 2.88205717], mean_score: 3.5573494245781476 \n",
      "2019-11-15 13:32:53,847:INFO: Generation: 22, best solution features: ['CRIM', 'ZN', 'INDUS', 'CHAS', 'NOX', 'RM', 'AGE', 'DIS', 'RAD', 'TAX', 'PTRATIO', 'B', 'LSTAT', 'LSTAT*(CHAS - TAX)', '-CHAS*(AGE*CRIM + B - TAX - ZN) + LSTAT*(NOX + RM) + RM*TAX', 'INDUS/(DIS*LSTAT)', 'TAX/(DIS*(CRIM - NOX + TAX))'] \n",
      "2019-11-15 13:32:53,848:INFO: -- Generation 23 -- \n",
      "2019-11-15 13:33:14,614:INFO:   Evaluated 1199 individuals \n",
      "2019-11-15 13:33:14,624:INFO:   Min 3.384313761396128 \n",
      "2019-11-15 13:33:14,625:INFO:   Max 1000000000000.0 \n",
      "2019-11-15 13:33:14,625:INFO:   Avg 151250000002.8946 \n",
      "2019-11-15 13:33:14,626:INFO:   Std 357349181472.5827 \n",
      "2019-11-15 13:33:16,730:INFO: Generation: 23, validation scores: [5.41051789 3.10545805 3.79945982 3.89006965 3.16607208 3.1282032\n",
      " 3.2365617  2.47401557 4.41735262 2.87823826], mean_score: 3.5505948837709673 \n",
      "2019-11-15 13:33:16,732:INFO: Generation: 23, best solution features: ['CRIM', 'ZN', 'INDUS', 'CHAS', 'NOX', 'RM', 'AGE', 'DIS', 'RAD', 'TAX', 'PTRATIO', 'B', 'LSTAT', 'CHAS - LSTAT*TAX', '-CHAS*(AGE*CRIM + B - TAX - ZN) + LSTAT*(NOX + RM) + RM*TAX', 'INDUS/(DIS*LSTAT)', 'TAX/(DIS*(TAX + ZN))'] \n",
      "2019-11-15 13:33:16,733:INFO: -- Generation 24 -- \n",
      "2019-11-15 13:33:37,770:INFO:   Evaluated 1165 individuals \n",
      "2019-11-15 13:33:37,781:INFO:   Min 3.384313761396128 \n",
      "2019-11-15 13:33:37,782:INFO:   Max 1000000000000.0 \n",
      "2019-11-15 13:33:37,783:INFO:   Avg 137850000002.93576 \n",
      "2019-11-15 13:33:37,784:INFO:   Std 343631164912.60065 \n",
      "2019-11-15 13:33:39,929:INFO: Generation: 24, validation scores: [5.41051789 3.10545805 3.79945982 3.89006965 3.16607208 3.1282032\n",
      " 3.2365617  2.47401557 4.41735262 2.87823826], mean_score: 3.5505948837709673 \n",
      "2019-11-15 13:33:39,932:INFO: Generation: 24, best solution features: ['CRIM', 'ZN', 'INDUS', 'CHAS', 'NOX', 'RM', 'AGE', 'DIS', 'RAD', 'TAX', 'PTRATIO', 'B', 'LSTAT', 'CHAS - LSTAT*TAX', '-CHAS*(AGE*CRIM + B - TAX - ZN) + LSTAT*(NOX + RM) + RM*TAX', 'INDUS/(DIS*LSTAT)', 'TAX/(DIS*(TAX + ZN))'] \n",
      "2019-11-15 13:33:39,946:INFO: -- Generation 25 -- \n",
      "2019-11-15 13:34:00,482:INFO:   Evaluated 1203 individuals \n",
      "2019-11-15 13:34:00,491:INFO:   Min 3.3841520866045443 \n",
      "2019-11-15 13:34:00,493:INFO:   Max 1000000000000.0 \n",
      "2019-11-15 13:34:00,494:INFO:   Avg 167600000002.823 \n",
      "2019-11-15 13:34:00,495:INFO:   Std 372183073230.1704 \n",
      "2019-11-15 13:34:02,596:INFO: Generation: 25, validation scores: [5.4104403  3.1063126  3.79936764 3.89067321 3.16809504 3.12831541\n",
      " 3.23719057 2.47376255 4.41562413 2.8774384 ], mean_score: 3.5507219861376256 \n",
      "2019-11-15 13:34:02,598:INFO: Generation: 25, best solution features: ['CRIM', 'ZN', 'INDUS', 'CHAS', 'NOX', 'RM', 'AGE', 'DIS', 'RAD', 'TAX', 'PTRATIO', 'B', 'LSTAT', 'LSTAT*(CHAS - TAX)', '-CHAS*(AGE*CRIM + B - TAX - ZN) + LSTAT*(NOX + RM) + RM*TAX', 'INDUS/(DIS*LSTAT)', 'TAX/(DIS*(-NOX + TAX + ZN))'] \n",
      "2019-11-15 13:34:02,599:INFO: -- Generation 26 -- \n",
      "2019-11-15 13:34:24,043:INFO:   Evaluated 1197 individuals \n",
      "2019-11-15 13:34:24,051:INFO:   Min 3.3841520866045443 \n",
      "2019-11-15 13:34:24,052:INFO:   Max 1000000000000.0 \n",
      "2019-11-15 13:34:24,052:INFO:   Avg 145350000002.9065 \n",
      "2019-11-15 13:34:24,053:INFO:   Std 351366443331.11194 \n",
      "2019-11-15 13:34:26,181:INFO: Generation: 26, validation scores: [5.4104403  3.1063126  3.79936764 3.89067321 3.16809504 3.12831541\n",
      " 3.23719057 2.47376255 4.41562413 2.8774384 ], mean_score: 3.5507219861376256 \n",
      "2019-11-15 13:34:26,183:INFO: Generation: 26, best solution features: ['CRIM', 'ZN', 'INDUS', 'CHAS', 'NOX', 'RM', 'AGE', 'DIS', 'RAD', 'TAX', 'PTRATIO', 'B', 'LSTAT', 'LSTAT*(CHAS - TAX)', '-CHAS*(AGE*CRIM + B - TAX - ZN) + LSTAT*(NOX + RM) + RM*TAX', 'INDUS/(DIS*LSTAT)', 'TAX/(DIS*(-NOX + TAX + ZN))'] \n",
      "2019-11-15 13:34:26,184:INFO: -- Generation 27 -- \n",
      "2019-11-15 13:34:48,216:INFO:   Evaluated 1202 individuals \n",
      "2019-11-15 13:34:48,228:INFO:   Min 3.3841520866045443 \n",
      "2019-11-15 13:34:48,230:INFO:   Max 1000000000000.0 \n",
      "2019-11-15 13:34:48,231:INFO:   Avg 145450000002.8915 \n",
      "2019-11-15 13:34:48,232:INFO:   Std 351339291140.57153 \n",
      "2019-11-15 13:34:50,352:INFO: Generation: 27, validation scores: [5.4104403  3.1063126  3.79936764 3.89067321 3.16809504 3.12831541\n",
      " 3.23719057 2.47376255 4.41562413 2.8774384 ], mean_score: 3.5507219861376256 \n",
      "2019-11-15 13:34:50,354:INFO: Generation: 27, best solution features: ['CRIM', 'ZN', 'INDUS', 'CHAS', 'NOX', 'RM', 'AGE', 'DIS', 'RAD', 'TAX', 'PTRATIO', 'B', 'LSTAT', 'LSTAT*(CHAS - TAX)', '-CHAS*(AGE*CRIM + B - TAX - ZN) + LSTAT*(NOX + RM) + RM*TAX', 'INDUS/(DIS*LSTAT)', 'TAX/(DIS*(-NOX + TAX + ZN))'] \n",
      "2019-11-15 13:34:50,355:INFO: -- Generation 28 -- \n",
      "2019-11-15 13:35:10,690:INFO:   Evaluated 1193 individuals \n",
      "2019-11-15 13:35:10,699:INFO:   Min 3.3841520866045443 \n",
      "2019-11-15 13:35:10,700:INFO:   Max 1000000000000.0 \n",
      "2019-11-15 13:35:10,701:INFO:   Avg 167500000002.8347 \n",
      "2019-11-15 13:35:10,702:INFO:   Std 372818655647.8244 \n",
      "2019-11-15 13:35:12,844:INFO: Generation: 28, validation scores: [5.4104403  3.1063126  3.79936764 3.89067321 3.16809504 3.12831541\n",
      " 3.23719057 2.47376255 4.41562413 2.8774384 ], mean_score: 3.5507219861376256 \n",
      "2019-11-15 13:35:12,846:INFO: Generation: 28, best solution features: ['CRIM', 'ZN', 'INDUS', 'CHAS', 'NOX', 'RM', 'AGE', 'DIS', 'RAD', 'TAX', 'PTRATIO', 'B', 'LSTAT', 'LSTAT*(CHAS - TAX)', '-CHAS*(AGE*CRIM + B - TAX - ZN) + LSTAT*(NOX + RM) + RM*TAX', 'INDUS/(DIS*LSTAT)', 'TAX/(DIS*(-NOX + TAX + ZN))'] \n",
      "2019-11-15 13:35:12,860:INFO: -- Generation 29 -- \n",
      "2019-11-15 13:35:33,319:INFO:   Evaluated 1159 individuals \n",
      "2019-11-15 13:35:33,330:INFO:   Min 3.3841520866045443 \n",
      "2019-11-15 13:35:33,335:INFO:   Max 1000000000000.0 \n",
      "2019-11-15 13:35:33,336:INFO:   Avg 158950000002.85086 \n",
      "2019-11-15 13:35:33,337:INFO:   Std 364458361818.04675 \n",
      "2019-11-15 13:35:35,471:INFO: Generation: 29, validation scores: [5.4104403  3.1063126  3.79936764 3.89067321 3.16809504 3.12831541\n",
      " 3.23719057 2.47376255 4.41562413 2.8774384 ], mean_score: 3.5507219861376256 \n",
      "2019-11-15 13:35:35,473:INFO: Generation: 29, best solution features: ['CRIM', 'ZN', 'INDUS', 'CHAS', 'NOX', 'RM', 'AGE', 'DIS', 'RAD', 'TAX', 'PTRATIO', 'B', 'LSTAT', 'LSTAT*(CHAS - TAX)', '-CHAS*(AGE*CRIM + B - TAX - ZN) + LSTAT*(NOX + RM) + RM*TAX', 'INDUS/(DIS*LSTAT)', 'TAX/(DIS*(-NOX + TAX + ZN))'] \n",
      "2019-11-15 13:35:35,474:INFO: -- Generation 30 -- \n",
      "2019-11-15 13:35:56,444:INFO:   Evaluated 1156 individuals \n",
      "2019-11-15 13:35:56,451:INFO:   Min 3.3824222571734084 \n",
      "2019-11-15 13:35:56,460:INFO:   Max 1000000000000.0 \n",
      "2019-11-15 13:35:56,460:INFO:   Avg 135800000002.9393 \n",
      "2019-11-15 13:35:56,461:INFO:   Std 341523586299.98315 \n",
      "2019-11-15 13:35:58,580:INFO: Generation: 30, validation scores: [5.40770945 3.11007617 3.79640926 3.88622335 3.1707024  3.12902807\n",
      " 3.23654143 2.47121782 4.41766499 2.87549287], mean_score: 3.5501065827890406 \n",
      "2019-11-15 13:35:58,581:INFO: Generation: 30, best solution features: ['CRIM', 'ZN', 'INDUS', 'CHAS', 'NOX', 'RM', 'AGE', 'DIS', 'RAD', 'TAX', 'PTRATIO', 'B', 'LSTAT', 'LSTAT*(CHAS - TAX)', '-CHAS*(AGE*CRIM + B - TAX - ZN) + LSTAT*(NOX + RM) + RM*TAX', 'INDUS/(DIS*LSTAT)', 'TAX/(DIS*(-CRIM + TAX + ZN))'] \n",
      "2019-11-15 13:35:58,583:INFO: -- Generation 31 -- \n",
      "2019-11-15 13:36:19,885:INFO:   Evaluated 1187 individuals \n",
      "2019-11-15 13:36:19,895:INFO:   Min 3.3824222571734084 \n",
      "2019-11-15 13:36:19,896:INFO:   Max 1000000000000.0 \n",
      "2019-11-15 13:36:19,897:INFO:   Avg 142350000002.91202 \n",
      "2019-11-15 13:36:19,898:INFO:   Std 348312327515.36566 \n",
      "2019-11-15 13:36:21,972:INFO: Generation: 31, validation scores: [5.40770945 3.11007617 3.79640926 3.88622335 3.1707024  3.12902807\n",
      " 3.23654143 2.47121782 4.41766499 2.87549287], mean_score: 3.5501065827890406 \n",
      "2019-11-15 13:36:21,974:INFO: Generation: 31, best solution features: ['CRIM', 'ZN', 'INDUS', 'CHAS', 'NOX', 'RM', 'AGE', 'DIS', 'RAD', 'TAX', 'PTRATIO', 'B', 'LSTAT', 'LSTAT*(CHAS - TAX)', '-CHAS*(AGE*CRIM + B - TAX - ZN) + LSTAT*(NOX + RM) + RM*TAX', 'INDUS/(DIS*LSTAT)', 'TAX/(DIS*(-CRIM + TAX + ZN))'] \n",
      "2019-11-15 13:36:21,975:INFO: -- Generation 32 -- \n",
      "2019-11-15 13:36:42,828:INFO:   Evaluated 1173 individuals \n",
      "2019-11-15 13:36:42,836:INFO:   Min 3.3824222571734084 \n",
      "2019-11-15 13:36:42,837:INFO:   Max 1000000000000.0 \n",
      "2019-11-15 13:36:42,838:INFO:   Avg 149500000002.88336 \n",
      "2019-11-15 13:36:42,839:INFO:   Std 355316408288.6383 \n",
      "2019-11-15 13:36:44,972:INFO: Generation: 32, validation scores: [5.40770945 3.11007617 3.79640926 3.88622335 3.1707024  3.12902807\n",
      " 3.23654143 2.47121782 4.41766499 2.87549287], mean_score: 3.5501065827890406 \n",
      "2019-11-15 13:36:44,974:INFO: Generation: 32, best solution features: ['CRIM', 'ZN', 'INDUS', 'CHAS', 'NOX', 'RM', 'AGE', 'DIS', 'RAD', 'TAX', 'PTRATIO', 'B', 'LSTAT', 'LSTAT*(CHAS - TAX)', '-CHAS*(AGE*CRIM + B - TAX - ZN) + LSTAT*(NOX + RM) + RM*TAX', 'INDUS/(DIS*LSTAT)', 'TAX/(DIS*(-CRIM + TAX + ZN))'] \n",
      "2019-11-15 13:36:44,975:INFO: -- Generation 33 -- \n",
      "2019-11-15 13:37:06,463:INFO:   Evaluated 1178 individuals \n",
      "2019-11-15 13:37:06,472:INFO:   Min 3.3824222571734084 \n",
      "2019-11-15 13:37:06,474:INFO:   Max 1000000000000.0 \n",
      "2019-11-15 13:37:06,475:INFO:   Avg 144900000002.8955 \n",
      "2019-11-15 13:37:06,476:INFO:   Std 350847530986.2694 \n",
      "2019-11-15 13:37:08,616:INFO: Generation: 33, validation scores: [5.40770945 3.11007617 3.79640926 3.88622335 3.1707024  3.12902807\n",
      " 3.23654143 2.47121782 4.41766499 2.87549287], mean_score: 3.5501065827890406 \n",
      "2019-11-15 13:37:08,618:INFO: Generation: 33, best solution features: ['CRIM', 'ZN', 'INDUS', 'CHAS', 'NOX', 'RM', 'AGE', 'DIS', 'RAD', 'TAX', 'PTRATIO', 'B', 'LSTAT', 'LSTAT*(CHAS - TAX)', '-CHAS*(AGE*CRIM + B - TAX - ZN) + LSTAT*(NOX + RM) + RM*TAX', 'INDUS/(DIS*LSTAT)', 'TAX/(DIS*(-CRIM + TAX + ZN))'] \n",
      "2019-11-15 13:37:08,619:INFO: -- Generation 34 -- \n",
      "2019-11-15 13:37:29,892:INFO:   Evaluated 1182 individuals \n",
      "2019-11-15 13:37:29,900:INFO:   Min 3.3824222571734084 \n",
      "2019-11-15 13:37:29,901:INFO:   Max 1000000000000.0 \n",
      "2019-11-15 13:37:29,902:INFO:   Avg 138950000002.90646 \n",
      "2019-11-15 13:37:29,903:INFO:   Std 344656201887.02924 \n",
      "2019-11-15 13:37:32,056:INFO: Generation: 34, validation scores: [5.40770945 3.11007617 3.79640926 3.88622335 3.1707024  3.12902807\n",
      " 3.23654143 2.47121782 4.41766499 2.87549287], mean_score: 3.5501065827890406 \n",
      "2019-11-15 13:37:32,058:INFO: Generation: 34, best solution features: ['CRIM', 'ZN', 'INDUS', 'CHAS', 'NOX', 'RM', 'AGE', 'DIS', 'RAD', 'TAX', 'PTRATIO', 'B', 'LSTAT', 'LSTAT*(CHAS - TAX)', '-CHAS*(AGE*CRIM + B - TAX - ZN) + LSTAT*(NOX + RM) + RM*TAX', 'INDUS/(DIS*LSTAT)', 'TAX/(DIS*(-CRIM + TAX + ZN))'] \n",
      "2019-11-15 13:37:32,059:INFO: -- Generation 35 -- \n",
      "2019-11-15 13:37:53,099:INFO:   Evaluated 1172 individuals \n",
      "2019-11-15 13:37:53,106:INFO:   Min 3.3824222571734084 \n",
      "2019-11-15 13:37:53,108:INFO:   Max 1000000000000.0 \n",
      "2019-11-15 13:37:53,109:INFO:   Avg 157600000002.8617 \n",
      "2019-11-15 13:37:53,110:INFO:   Std 363623761598.5767 \n",
      "2019-11-15 13:37:55,208:INFO: Generation: 35, validation scores: [5.40770945 3.11007617 3.79640926 3.88622335 3.1707024  3.12902807\n",
      " 3.23654143 2.47121782 4.41766499 2.87549287], mean_score: 3.5501065827890406 \n",
      "2019-11-15 13:37:55,210:INFO: Generation: 35, best solution features: ['CRIM', 'ZN', 'INDUS', 'CHAS', 'NOX', 'RM', 'AGE', 'DIS', 'RAD', 'TAX', 'PTRATIO', 'B', 'LSTAT', 'LSTAT*(CHAS - TAX)', '-CHAS*(AGE*CRIM + B - TAX - ZN) + LSTAT*(NOX + RM) + RM*TAX', 'INDUS/(DIS*LSTAT)', 'TAX/(DIS*(-CRIM + TAX + ZN))'] \n",
      "2019-11-15 13:37:55,212:INFO: -- Generation 36 -- \n",
      "2019-11-15 13:38:16,325:INFO:   Evaluated 1181 individuals \n",
      "2019-11-15 13:38:16,335:INFO:   Min 3.3824222571734084 \n",
      "2019-11-15 13:38:16,337:INFO:   Max 1000000000000.0 \n",
      "2019-11-15 13:38:16,337:INFO:   Avg 151600000002.8653 \n",
      "2019-11-15 13:38:16,338:INFO:   Std 357249828550.17816 \n",
      "2019-11-15 13:38:18,403:INFO: Generation: 36, validation scores: [5.40770945 3.11007617 3.79640926 3.88622335 3.1707024  3.12902807\n",
      " 3.23654143 2.47121782 4.41766499 2.87549287], mean_score: 3.5501065827890406 \n",
      "2019-11-15 13:38:18,405:INFO: Generation: 36, best solution features: ['CRIM', 'ZN', 'INDUS', 'CHAS', 'NOX', 'RM', 'AGE', 'DIS', 'RAD', 'TAX', 'PTRATIO', 'B', 'LSTAT', 'LSTAT*(CHAS - TAX)', '-CHAS*(AGE*CRIM + B - TAX - ZN) + LSTAT*(NOX + RM) + RM*TAX', 'INDUS/(DIS*LSTAT)', 'TAX/(DIS*(-CRIM + TAX + ZN))'] \n",
      "2019-11-15 13:38:18,406:INFO: -- Generation 37 -- \n",
      "2019-11-15 13:38:39,989:INFO:   Evaluated 1225 individuals \n",
      "2019-11-15 13:38:40,004:INFO:   Min 3.3824222571734084 \n",
      "2019-11-15 13:38:40,005:INFO:   Max 1000000000000.0 \n",
      "2019-11-15 13:38:40,006:INFO:   Avg 155150000002.8547 \n",
      "2019-11-15 13:38:40,007:INFO:   Std 360615414949.38153 \n",
      "2019-11-15 13:38:42,071:INFO: Generation: 37, validation scores: [5.40770945 3.11007617 3.79640926 3.88622335 3.1707024  3.12902807\n",
      " 3.23654143 2.47121782 4.41766499 2.87549287], mean_score: 3.5501065827890406 \n",
      "2019-11-15 13:38:42,073:INFO: Generation: 37, best solution features: ['CRIM', 'ZN', 'INDUS', 'CHAS', 'NOX', 'RM', 'AGE', 'DIS', 'RAD', 'TAX', 'PTRATIO', 'B', 'LSTAT', 'LSTAT*(CHAS - TAX)', '-CHAS*(AGE*CRIM + B - TAX - ZN) + LSTAT*(NOX + RM) + RM*TAX', 'INDUS/(DIS*LSTAT)', 'TAX/(DIS*(-CRIM + TAX + ZN))'] \n",
      "2019-11-15 13:38:42,075:INFO: -- Generation 38 -- \n",
      "2019-11-15 13:39:02,976:INFO:   Evaluated 1238 individuals \n",
      "2019-11-15 13:39:02,985:INFO:   Min 3.3824222571734084 \n",
      "2019-11-15 13:39:02,986:INFO:   Max 1000000000000.0 \n",
      "2019-11-15 13:39:02,987:INFO:   Avg 176200000002.7855 \n",
      "2019-11-15 13:39:02,988:INFO:   Std 379570230654.3799 \n",
      "2019-11-15 13:39:05,002:INFO: Generation: 38, validation scores: [5.40770945 3.11007617 3.79640926 3.88622335 3.1707024  3.12902807\n",
      " 3.23654143 2.47121782 4.41766499 2.87549287], mean_score: 3.5501065827890406 \n",
      "2019-11-15 13:39:05,003:INFO: Generation: 38, best solution features: ['CRIM', 'ZN', 'INDUS', 'CHAS', 'NOX', 'RM', 'AGE', 'DIS', 'RAD', 'TAX', 'PTRATIO', 'B', 'LSTAT', 'LSTAT*(CHAS - TAX)', '-CHAS*(AGE*CRIM + B - TAX - ZN) + LSTAT*(NOX + RM) + RM*TAX', 'INDUS/(DIS*LSTAT)', 'TAX/(DIS*(-CRIM + TAX + ZN))'] \n",
      "2019-11-15 13:39:05,004:INFO: -- Generation 39 -- \n",
      "2019-11-15 13:39:26,578:INFO:   Evaluated 1235 individuals \n",
      "2019-11-15 13:39:26,587:INFO:   Min 3.3824222571734084 \n",
      "2019-11-15 13:39:26,588:INFO:   Max 1000000000000.0 \n",
      "2019-11-15 13:39:26,589:INFO:   Avg 160450000002.8364 \n",
      "2019-11-15 13:39:26,590:INFO:   Std 365856252507.85364 \n",
      "2019-11-15 13:39:28,681:INFO: Generation: 39, validation scores: [5.40770945 3.11007617 3.79640926 3.88622335 3.1707024  3.12902807\n",
      " 3.23654143 2.47121782 4.41766499 2.87549287], mean_score: 3.5501065827890406 \n",
      "2019-11-15 13:39:28,685:INFO: Generation: 39, best solution features: ['CRIM', 'ZN', 'INDUS', 'CHAS', 'NOX', 'RM', 'AGE', 'DIS', 'RAD', 'TAX', 'PTRATIO', 'B', 'LSTAT', 'LSTAT*(CHAS - TAX)', '-CHAS*(AGE*CRIM + B - TAX - ZN) + LSTAT*(NOX + RM) + RM*TAX', 'INDUS/(DIS*LSTAT)', 'TAX/(DIS*(-CRIM + TAX + ZN))'] \n",
      "2019-11-15 13:39:28,687:INFO: -- Generation 40 -- \n",
      "2019-11-15 13:39:50,571:INFO:   Evaluated 1196 individuals \n",
      "2019-11-15 13:39:50,582:INFO:   Min 3.3824222571734084 \n",
      "2019-11-15 13:39:50,583:INFO:   Max 1000000000000.0 \n",
      "2019-11-15 13:39:50,584:INFO:   Avg 150750000002.88748 \n",
      "2019-11-15 13:39:50,585:INFO:   Std 356860529477.7357 \n",
      "2019-11-15 13:39:52,762:INFO: Generation: 40, validation scores: [5.40770945 3.11007617 3.79640926 3.88622335 3.1707024  3.12902807\n",
      " 3.23654143 2.47121782 4.41766499 2.87549287], mean_score: 3.5501065827890406 \n",
      "2019-11-15 13:39:52,767:INFO: Generation: 40, best solution features: ['CRIM', 'ZN', 'INDUS', 'CHAS', 'NOX', 'RM', 'AGE', 'DIS', 'RAD', 'TAX', 'PTRATIO', 'B', 'LSTAT', 'LSTAT*(CHAS - TAX)', '-CHAS*(AGE*CRIM + B - TAX - ZN) + LSTAT*(NOX + RM) + RM*TAX', 'INDUS/(DIS*LSTAT)', 'TAX/(DIS*(-CRIM + TAX + ZN))'] \n",
      "2019-11-15 13:39:52,768:INFO: -- End of (successful) evolution -- \n",
      "2019-11-15 13:39:52,769:INFO: Best validation score: 3.5501065827890406 \n"
     ]
    }
   ],
   "source": [
    "gfe.fit(population_size=2000, early_stopping_patience=10)"
   ]
  },
  {
   "cell_type": "code",
   "execution_count": 18,
   "metadata": {},
   "outputs": [],
   "source": [
    "X_train = gfe.transform(X_train)\n",
    "X_test = gfe.transform(X_test)\n",
    "X = gfe.transform(X)"
   ]
  },
  {
   "cell_type": "code",
   "execution_count": 19,
   "metadata": {},
   "outputs": [
    {
     "data": {
      "text/html": [
       "<div>\n",
       "<style scoped>\n",
       "    .dataframe tbody tr th:only-of-type {\n",
       "        vertical-align: middle;\n",
       "    }\n",
       "\n",
       "    .dataframe tbody tr th {\n",
       "        vertical-align: top;\n",
       "    }\n",
       "\n",
       "    .dataframe thead th {\n",
       "        text-align: right;\n",
       "    }\n",
       "</style>\n",
       "<table border=\"1\" class=\"dataframe\">\n",
       "  <thead>\n",
       "    <tr style=\"text-align: right;\">\n",
       "      <th></th>\n",
       "      <th>CRIM</th>\n",
       "      <th>ZN</th>\n",
       "      <th>INDUS</th>\n",
       "      <th>CHAS</th>\n",
       "      <th>NOX</th>\n",
       "      <th>RM</th>\n",
       "      <th>AGE</th>\n",
       "      <th>DIS</th>\n",
       "      <th>RAD</th>\n",
       "      <th>TAX</th>\n",
       "      <th>PTRATIO</th>\n",
       "      <th>B</th>\n",
       "      <th>LSTAT</th>\n",
       "      <th>LSTAT*(CHAS - TAX)</th>\n",
       "      <th>-CHAS*(AGE*CRIM + B - TAX - ZN) + LSTAT*(NOX + RM) + RM*TAX</th>\n",
       "      <th>INDUS/(DIS*LSTAT)</th>\n",
       "      <th>TAX/(DIS*(-CRIM + TAX + ZN))</th>\n",
       "    </tr>\n",
       "  </thead>\n",
       "  <tbody>\n",
       "    <tr>\n",
       "      <td>300</td>\n",
       "      <td>0.05644</td>\n",
       "      <td>40.0</td>\n",
       "      <td>6.41</td>\n",
       "      <td>1.0</td>\n",
       "      <td>0.447</td>\n",
       "      <td>6.758</td>\n",
       "      <td>32.9</td>\n",
       "      <td>4.0776</td>\n",
       "      <td>4.0</td>\n",
       "      <td>254.0</td>\n",
       "      <td>17.6</td>\n",
       "      <td>396.90</td>\n",
       "      <td>3.53</td>\n",
       "      <td>-893.09</td>\n",
       "      <td>1637.208774</td>\n",
       "      <td>0.445327</td>\n",
       "      <td>0.211917</td>\n",
       "    </tr>\n",
       "    <tr>\n",
       "      <td>301</td>\n",
       "      <td>3.83684</td>\n",
       "      <td>0.0</td>\n",
       "      <td>18.10</td>\n",
       "      <td>0.0</td>\n",
       "      <td>0.770</td>\n",
       "      <td>6.251</td>\n",
       "      <td>91.1</td>\n",
       "      <td>2.2955</td>\n",
       "      <td>24.0</td>\n",
       "      <td>666.0</td>\n",
       "      <td>20.2</td>\n",
       "      <td>350.65</td>\n",
       "      <td>14.19</td>\n",
       "      <td>-9450.54</td>\n",
       "      <td>4262.793990</td>\n",
       "      <td>0.555672</td>\n",
       "      <td>0.438159</td>\n",
       "    </tr>\n",
       "    <tr>\n",
       "      <td>302</td>\n",
       "      <td>0.08387</td>\n",
       "      <td>0.0</td>\n",
       "      <td>12.83</td>\n",
       "      <td>0.0</td>\n",
       "      <td>0.437</td>\n",
       "      <td>5.874</td>\n",
       "      <td>36.6</td>\n",
       "      <td>4.5026</td>\n",
       "      <td>5.0</td>\n",
       "      <td>398.0</td>\n",
       "      <td>18.7</td>\n",
       "      <td>396.06</td>\n",
       "      <td>9.10</td>\n",
       "      <td>-3621.80</td>\n",
       "      <td>2395.282100</td>\n",
       "      <td>0.313128</td>\n",
       "      <td>0.222141</td>\n",
       "    </tr>\n",
       "    <tr>\n",
       "      <td>303</td>\n",
       "      <td>0.31827</td>\n",
       "      <td>0.0</td>\n",
       "      <td>9.90</td>\n",
       "      <td>0.0</td>\n",
       "      <td>0.544</td>\n",
       "      <td>5.914</td>\n",
       "      <td>83.2</td>\n",
       "      <td>3.9986</td>\n",
       "      <td>4.0</td>\n",
       "      <td>304.0</td>\n",
       "      <td>18.4</td>\n",
       "      <td>390.70</td>\n",
       "      <td>18.33</td>\n",
       "      <td>-5572.32</td>\n",
       "      <td>1916.231140</td>\n",
       "      <td>0.135072</td>\n",
       "      <td>0.250350</td>\n",
       "    </tr>\n",
       "    <tr>\n",
       "      <td>304</td>\n",
       "      <td>0.40202</td>\n",
       "      <td>0.0</td>\n",
       "      <td>9.90</td>\n",
       "      <td>0.0</td>\n",
       "      <td>0.544</td>\n",
       "      <td>6.382</td>\n",
       "      <td>67.2</td>\n",
       "      <td>3.5325</td>\n",
       "      <td>4.0</td>\n",
       "      <td>304.0</td>\n",
       "      <td>18.4</td>\n",
       "      <td>395.21</td>\n",
       "      <td>10.36</td>\n",
       "      <td>-3149.44</td>\n",
       "      <td>2011.881360</td>\n",
       "      <td>0.270516</td>\n",
       "      <td>0.283460</td>\n",
       "    </tr>\n",
       "  </tbody>\n",
       "</table>\n",
       "</div>"
      ],
      "text/plain": [
       "        CRIM    ZN  INDUS  CHAS    NOX     RM   AGE     DIS   RAD    TAX  \\\n",
       "300  0.05644  40.0   6.41   1.0  0.447  6.758  32.9  4.0776   4.0  254.0   \n",
       "301  3.83684   0.0  18.10   0.0  0.770  6.251  91.1  2.2955  24.0  666.0   \n",
       "302  0.08387   0.0  12.83   0.0  0.437  5.874  36.6  4.5026   5.0  398.0   \n",
       "303  0.31827   0.0   9.90   0.0  0.544  5.914  83.2  3.9986   4.0  304.0   \n",
       "304  0.40202   0.0   9.90   0.0  0.544  6.382  67.2  3.5325   4.0  304.0   \n",
       "\n",
       "     PTRATIO       B  LSTAT  LSTAT*(CHAS - TAX)  \\\n",
       "300     17.6  396.90   3.53             -893.09   \n",
       "301     20.2  350.65  14.19            -9450.54   \n",
       "302     18.7  396.06   9.10            -3621.80   \n",
       "303     18.4  390.70  18.33            -5572.32   \n",
       "304     18.4  395.21  10.36            -3149.44   \n",
       "\n",
       "     -CHAS*(AGE*CRIM + B - TAX - ZN) + LSTAT*(NOX + RM) + RM*TAX  \\\n",
       "300                                        1637.208774             \n",
       "301                                        4262.793990             \n",
       "302                                        2395.282100             \n",
       "303                                        1916.231140             \n",
       "304                                        2011.881360             \n",
       "\n",
       "     INDUS/(DIS*LSTAT)  TAX/(DIS*(-CRIM + TAX + ZN))  \n",
       "300           0.445327                      0.211917  \n",
       "301           0.555672                      0.438159  \n",
       "302           0.313128                      0.222141  \n",
       "303           0.135072                      0.250350  \n",
       "304           0.270516                      0.283460  "
      ]
     },
     "execution_count": 19,
     "metadata": {},
     "output_type": "execute_result"
    }
   ],
   "source": [
    "X_test.head()"
   ]
  },
  {
   "cell_type": "code",
   "execution_count": 20,
   "metadata": {},
   "outputs": [],
   "source": [
    "model = create_new_model()"
   ]
  },
  {
   "cell_type": "code",
   "execution_count": 21,
   "metadata": {},
   "outputs": [
    {
     "data": {
      "image/png": "[encoded data removed]",
      "text/plain": [
       "<Figure size 432x288 with 2 Axes>"
      ]
     },
     "metadata": {
      "needs_background": "light"
     },
     "output_type": "display_data"
    }
   ],
   "source": [
    "display_residual_plot(model, X_train, y_train, X_test, y_test)"
   ]
  },
  {
   "cell_type": "code",
   "execution_count": 22,
   "metadata": {},
   "outputs": [
    {
     "data": {
      "image/png": "[encoded data removed]",
      "text/plain": [
       "<Figure size 432x288 with 1 Axes>"
      ]
     },
     "metadata": {
      "needs_background": "light"
     },
     "output_type": "display_data"
    }
   ],
   "source": [
    "prediction_error_plot(model, X_train, y_train, X_test, y_test)"
   ]
  },
  {
   "cell_type": "code",
   "execution_count": 23,
   "metadata": {},
   "outputs": [
    {
     "name": "stdout",
     "output_type": "stream",
     "text": [
      "Mean of metric: 3.3250241865999945, std: 0.5520906215087776\n"
     ]
    }
   ],
   "source": [
    "score_model(model, X, Y)"
   ]
  },
  {
   "cell_type": "code",
   "execution_count": 24,
   "metadata": {},
   "outputs": [],
   "source": [
    "model.fit(X_train, y_train);"
   ]
  },
  {
   "cell_type": "code",
   "execution_count": 25,
   "metadata": {},
   "outputs": [
    {
     "data": {
      "text/plain": [
       "0.8968391382597696"
      ]
     },
     "execution_count": 25,
     "metadata": {},
     "output_type": "execute_result"
    }
   ],
   "source": [
    "r2_score(y_test, model.predict(X_test))"
   ]
  },
  {
   "cell_type": "markdown",
   "metadata": {},
   "source": [
    "# Run ATgfe with operations"
   ]
  },
  {
   "cell_type": "code",
   "execution_count": 26,
   "metadata": {},
   "outputs": [],
   "source": [
    "X = gfe.transform(X)\n",
    "columns = X.columns.tolist()\n",
    "X_train, X_test, y_train, y_test = X.iloc[:300, :], X.iloc[300:, :], Y.iloc[:300], Y.iloc[300:]"
   ]
  },
  {
   "cell_type": "code",
   "execution_count": 27,
   "metadata": {},
   "outputs": [],
   "source": [
    "model = create_new_model()"
   ]
  },
  {
   "cell_type": "code",
   "execution_count": 28,
   "metadata": {},
   "outputs": [
    {
     "name": "stderr",
     "output_type": "stream",
     "text": [
      "2019-11-15 13:39:55,839:INFO: New Engineer created with the following parameters: \n",
      "2019-11-15 13:39:55,841:INFO: \n",
      "Model type: <class 'sklearn.pipeline.Pipeline'>\n",
      "Numerical Features: ['CRIM', 'ZN', 'INDUS', 'CHAS', 'NOX', 'RM', 'AGE', 'DIS', 'RAD', 'TAX', 'PTRATIO', 'B', 'LSTAT', 'LSTAT*(CHAS - TAX)', '-CHAS*(AGE*CRIM + B - TAX - ZN) + LSTAT*(NOX + RM) + RM*TAX', 'INDUS/(DIS*LSTAT)', 'TAX/(DIS*(-CRIM + TAX + ZN))', 'LSTAT*(CHAS - TAX)', '-CHAS*(AGE*CRIM + B - TAX - ZN) + LSTAT*(NOX + RM) + RM*TAX', 'INDUS/(DIS*LSTAT)', 'TAX/(DIS*(-CRIM + TAX + ZN))']\n",
      "Number of candidate features: 4\n",
      "Number of interacting features: 13\n",
      "Evaluation Metric: rmse\n",
      "Minimize metric is True \n"
     ]
    }
   ],
   "source": [
    "gfe = GeneticFeatureEngineer(model, x_train=X_train, y_train=y_train, numerical_features=columns,\n",
    "                             number_of_candidate_features=4,\n",
    "                             number_of_interacting_features=13,\n",
    "                             evaluation_metric=rmse, minimize_metric=True, verbose=True, cv=10,\n",
    "                            fit_wo_original_columns=False, enable_feature_transformation_operations=True, enable_weights=False)"
   ]
  },
  {
   "cell_type": "code",
   "execution_count": 29,
   "metadata": {},
   "outputs": [],
   "source": [
    "np_sqrt = np.sqrt\n",
    "gfe.add_transformation_operation('np_sqrt', np_sqrt)"
   ]
  },
  {
   "cell_type": "code",
   "execution_count": 30,
   "metadata": {},
   "outputs": [
    {
     "name": "stderr",
     "output_type": "stream",
     "text": [
      "2019-11-15 13:39:56,573:INFO: Start of evolution \n",
      "2019-11-15 13:40:05,200:INFO:   Evaluated 2000 individuals \n",
      "2019-11-15 13:40:05,201:INFO: -- Generation 1 -- \n",
      "2019-11-15 13:40:13,162:INFO:   Evaluated 1245 individuals \n",
      "2019-11-15 13:40:13,169:INFO:   Min 3.3140466773011026 \n",
      "2019-11-15 13:40:13,170:INFO:   Max 100000000000.0 \n",
      "2019-11-15 13:40:13,171:INFO:   Avg 5887500000.281165 \n",
      "2019-11-15 13:40:13,171:INFO:   Std 21592240359.599014 \n",
      "2019-11-15 13:40:15,338:INFO: Generation: 1, validation scores: [5.08673992 2.80940626 3.49118728 3.60325174 3.1257606  3.41325357\n",
      " 3.32282606 2.49800253 4.85395671 2.78415367], mean_score: 3.498853834869338 \n",
      "2019-11-15 13:40:15,340:INFO: Generation: 1, best solution features: ['CRIM', 'ZN', 'INDUS', 'CHAS', 'NOX', 'RM', 'AGE', 'DIS', 'RAD', 'TAX', 'PTRATIO', 'B', 'LSTAT', 'LSTAT*(CHAS - TAX)', '-CHAS*(AGE*CRIM + B - TAX - ZN) + LSTAT*(NOX + RM) + RM*TAX', 'INDUS/(DIS*LSTAT)', 'TAX/(DIS*(-CRIM + TAX + ZN))', 'LSTAT*(CHAS - TAX)', '-CHAS*(AGE*CRIM + B - TAX - ZN) + LSTAT*(NOX + RM) + RM*TAX', 'INDUS/(DIS*LSTAT)', 'TAX/(DIS*(-CRIM + TAX + ZN))', 'squared(B) + log(DIS)', 'AGE*log(RAD)', '-RM + TAX**2/(DIS**2*(-CRIM + TAX + ZN)**2)'] \n",
      "2019-11-15 13:40:15,341:INFO: -- Generation 2 -- \n",
      "2019-11-15 13:40:40,963:INFO:   Evaluated 1207 individuals \n",
      "2019-11-15 13:40:40,970:INFO:   Min 3.2693350916345256 \n",
      "2019-11-15 13:40:40,971:INFO:   Max 100000000000.0 \n",
      "2019-11-15 13:40:40,972:INFO:   Avg 4604500002.59672 \n",
      "2019-11-15 13:40:40,973:INFO:   Std 20103558882.100697 \n",
      "2019-11-15 13:40:43,087:INFO: Generation: 2, validation scores: [5.17883033 3.15978784 3.63926429 3.52637681 3.47334885 3.3553321\n",
      " 3.13138786 2.39057451 4.51734565 2.80363748], mean_score: 3.517588573522352 \n",
      "2019-11-15 13:40:43,089:INFO: Generation: 2, best solution features: ['CRIM', 'ZN', 'INDUS', 'CHAS', 'NOX', 'RM', 'AGE', 'DIS', 'RAD', 'TAX', 'PTRATIO', 'B', 'LSTAT', 'LSTAT*(CHAS - TAX)', '-CHAS*(AGE*CRIM + B - TAX - ZN) + LSTAT*(NOX + RM) + RM*TAX', 'INDUS/(DIS*LSTAT)', 'TAX/(DIS*(-CRIM + TAX + ZN))', 'LSTAT*(CHAS - TAX)', '-CHAS*(AGE*CRIM + B - TAX - ZN) + LSTAT*(NOX + RM) + RM*TAX', 'INDUS/(DIS*LSTAT)', 'TAX/(DIS*(-CRIM + TAX + ZN))', 'log_10(TAX)', 'cube(RAD)', 'AGE*log(RAD)', '-RM + TAX**2/(DIS**2*(-CRIM + TAX + ZN)**2)'] \n",
      "2019-11-15 13:40:43,090:INFO: -- Generation 3 -- \n",
      "2019-11-15 13:41:18,111:INFO:   Evaluated 1151 individuals \n",
      "2019-11-15 13:41:18,123:INFO:   Min 3.2445976003732784 \n",
      "2019-11-15 13:41:18,124:INFO:   Max 100000000000.0 \n",
      "2019-11-15 13:41:18,125:INFO:   Avg 2557000003.222475 \n",
      "2019-11-15 13:41:18,127:INFO:   Std 15605087343.027622 \n",
      "2019-11-15 13:41:20,346:INFO: Generation: 3, validation scores: [5.36092785 3.30230576 3.60601604 3.71474171 3.03661905 3.17443139\n",
      " 3.01247852 2.63200494 4.29789633 2.67500298], mean_score: 3.4812424580240497 \n",
      "2019-11-15 13:41:20,348:INFO: Generation: 3, best solution features: ['CRIM', 'ZN', 'INDUS', 'CHAS', 'NOX', 'RM', 'AGE', 'DIS', 'RAD', 'TAX', 'PTRATIO', 'B', 'LSTAT', 'LSTAT*(CHAS - TAX)', '-CHAS*(AGE*CRIM + B - TAX - ZN) + LSTAT*(NOX + RM) + RM*TAX', 'INDUS/(DIS*LSTAT)', 'TAX/(DIS*(-CRIM + TAX + ZN))', 'LSTAT*(CHAS - TAX)', '-CHAS*(AGE*CRIM + B - TAX - ZN) + LSTAT*(NOX + RM) + RM*TAX', 'INDUS/(DIS*LSTAT)', 'TAX/(DIS*(-CRIM + TAX + ZN))', 'squared(ZN)', 'squared(NOX)', 'AGE*log(RAD)', 'log_10(INDUS)/NOX'] \n",
      "2019-11-15 13:41:20,349:INFO: -- Generation 4 -- \n",
      "2019-11-15 13:41:57,521:INFO:   Evaluated 1152 individuals \n",
      "2019-11-15 13:41:57,530:INFO:   Min 3.217641974644015 \n",
      "2019-11-15 13:41:57,531:INFO:   Max 100000000000.0 \n",
      "2019-11-15 13:41:57,532:INFO:   Avg 2266000003.061186 \n",
      "2019-11-15 13:41:57,533:INFO:   Std 14660533550.52698 \n",
      "2019-11-15 13:41:59,806:INFO: Generation: 4, validation scores: [5.16141335 3.02490899 3.61581043 3.5909603  3.00593657 3.21123202\n",
      " 3.08045284 2.62463744 4.45571652 2.75735486], mean_score: 3.4528423335126064 \n",
      "2019-11-15 13:41:59,808:INFO: Generation: 4, best solution features: ['CRIM', 'ZN', 'INDUS', 'CHAS', 'NOX', 'RM', 'AGE', 'DIS', 'RAD', 'TAX', 'PTRATIO', 'B', 'LSTAT', 'LSTAT*(CHAS - TAX)', '-CHAS*(AGE*CRIM + B - TAX - ZN) + LSTAT*(NOX + RM) + RM*TAX', 'INDUS/(DIS*LSTAT)', 'TAX/(DIS*(-CRIM + TAX + ZN))', 'LSTAT*(CHAS - TAX)', '-CHAS*(AGE*CRIM + B - TAX - ZN) + LSTAT*(NOX + RM) + RM*TAX', 'INDUS/(DIS*LSTAT)', 'TAX/(DIS*(-CRIM + TAX + ZN))', 'squared(ZN)', 'squared(NOX)', 'AGE*log(RAD)', 'log_10(AGE)'] \n",
      "2019-11-15 13:41:59,809:INFO: -- Generation 5 -- \n",
      "2019-11-15 13:42:32,890:INFO:   Evaluated 1178 individuals \n",
      "2019-11-15 13:42:32,899:INFO:   Min 3.204025600754644 \n",
      "2019-11-15 13:42:32,900:INFO:   Max 100000000000.0 \n",
      "2019-11-15 13:42:32,901:INFO:   Avg 850500003.0755066 \n",
      "2019-11-15 13:42:32,902:INFO:   Std 8906579014.681704 \n",
      "2019-11-15 13:42:35,077:INFO: Generation: 5, validation scores: [5.21487421 3.20232779 3.56585326 3.60205526 3.02842189 3.21806645\n",
      " 3.07314891 2.64037317 4.3327637  2.87524855], mean_score: 3.4753133196606933 \n",
      "2019-11-15 13:42:35,079:INFO: Generation: 5, best solution features: ['CRIM', 'ZN', 'INDUS', 'CHAS', 'NOX', 'RM', 'AGE', 'DIS', 'RAD', 'TAX', 'PTRATIO', 'B', 'LSTAT', 'LSTAT*(CHAS - TAX)', '-CHAS*(AGE*CRIM + B - TAX - ZN) + LSTAT*(NOX + RM) + RM*TAX', 'INDUS/(DIS*LSTAT)', 'TAX/(DIS*(-CRIM + TAX + ZN))', 'LSTAT*(CHAS - TAX)', '-CHAS*(AGE*CRIM + B - TAX - ZN) + LSTAT*(NOX + RM) + RM*TAX', 'INDUS/(DIS*LSTAT)', 'TAX/(DIS*(-CRIM + TAX + ZN))', 'B + log(DIS)', 'squared(NOX)', 'AGE*log(RAD)', 'log_10(INDUS)/NOX'] \n",
      "2019-11-15 13:42:35,079:INFO: -- Generation 6 -- \n",
      "2019-11-15 13:43:10,462:INFO:   Evaluated 1226 individuals \n",
      "2019-11-15 13:43:10,473:INFO:   Min 3.138809915424324 \n",
      "2019-11-15 13:43:10,474:INFO:   Max 100000000000.0 \n",
      "2019-11-15 13:43:10,475:INFO:   Avg 539000003.1277618 \n",
      "2019-11-15 13:43:10,477:INFO:   Std 7053260167.938525 \n",
      "2019-11-15 13:43:12,641:INFO: Generation: 6, validation scores: [4.98447977 3.6243553  3.54515293 3.43740977 2.56403527 3.28494055\n",
      " 3.21760362 2.26293329 3.87564673 2.81895057], mean_score: 3.361550780311638 \n",
      "2019-11-15 13:43:12,643:INFO: Generation: 6, best solution features: ['CRIM', 'ZN', 'INDUS', 'CHAS', 'NOX', 'RM', 'AGE', 'DIS', 'RAD', 'TAX', 'PTRATIO', 'B', 'LSTAT', 'LSTAT*(CHAS - TAX)', '-CHAS*(AGE*CRIM + B - TAX - ZN) + LSTAT*(NOX + RM) + RM*TAX', 'INDUS/(DIS*LSTAT)', 'TAX/(DIS*(-CRIM + TAX + ZN))', 'LSTAT*(CHAS - TAX)', '-CHAS*(AGE*CRIM + B - TAX - ZN) + LSTAT*(NOX + RM) + RM*TAX', 'INDUS/(DIS*LSTAT)', 'TAX/(DIS*(-CRIM + TAX + ZN))', 'B + log(DIS)', 'squared(NOX)', 'AGE*log(RAD)', 'TAX/(DIS*NOX*(-CRIM + TAX + ZN))'] \n",
      "2019-11-15 13:43:12,644:INFO: -- Generation 7 -- \n",
      "2019-11-15 13:43:45,305:INFO:   Evaluated 1174 individuals \n",
      "2019-11-15 13:43:45,316:INFO:   Min 3.138809915424324 \n",
      "2019-11-15 13:43:45,318:INFO:   Max 100000000000.0 \n",
      "2019-11-15 13:43:45,318:INFO:   Avg 483500003.1119688 \n",
      "2019-11-15 13:43:45,319:INFO:   Std 6693259874.455103 \n",
      "2019-11-15 13:43:47,396:INFO: Generation: 7, validation scores: [4.98447977 3.6243553  3.54515293 3.43740977 2.56403527 3.28494055\n",
      " 3.21760362 2.26293329 3.87564673 2.81895057], mean_score: 3.361550780311638 \n",
      "2019-11-15 13:43:47,398:INFO: Generation: 7, best solution features: ['CRIM', 'ZN', 'INDUS', 'CHAS', 'NOX', 'RM', 'AGE', 'DIS', 'RAD', 'TAX', 'PTRATIO', 'B', 'LSTAT', 'LSTAT*(CHAS - TAX)', '-CHAS*(AGE*CRIM + B - TAX - ZN) + LSTAT*(NOX + RM) + RM*TAX', 'INDUS/(DIS*LSTAT)', 'TAX/(DIS*(-CRIM + TAX + ZN))', 'LSTAT*(CHAS - TAX)', '-CHAS*(AGE*CRIM + B - TAX - ZN) + LSTAT*(NOX + RM) + RM*TAX', 'INDUS/(DIS*LSTAT)', 'TAX/(DIS*(-CRIM + TAX + ZN))', 'B + log(DIS)', 'squared(NOX)', 'AGE*log(RAD)', 'TAX/(DIS*NOX*(-CRIM + TAX + ZN))'] \n",
      "2019-11-15 13:43:47,399:INFO: -- Generation 8 -- \n",
      "2019-11-15 13:44:22,220:INFO:   Evaluated 1175 individuals \n",
      "2019-11-15 13:44:22,229:INFO:   Min 3.1388099154241567 \n",
      "2019-11-15 13:44:22,231:INFO:   Max 100000000000.0 \n",
      "2019-11-15 13:44:22,231:INFO:   Avg 331000003.09835064 \n",
      "2019-11-15 13:44:22,232:INFO:   Std 5470049268.32921 \n",
      "2019-11-15 13:44:24,455:INFO: Generation: 8, validation scores: [4.98447977 3.6243553  3.54515293 3.43740977 2.56403527 3.28494055\n",
      " 3.21760362 2.26293329 3.87564673 2.81895057], mean_score: 3.361550780311852 \n",
      "2019-11-15 13:44:24,457:INFO: Generation: 8, best solution features: ['CRIM', 'ZN', 'INDUS', 'CHAS', 'NOX', 'RM', 'AGE', 'DIS', 'RAD', 'TAX', 'PTRATIO', 'B', 'LSTAT', 'LSTAT*(CHAS - TAX)', '-CHAS*(AGE*CRIM + B - TAX - ZN) + LSTAT*(NOX + RM) + RM*TAX', 'INDUS/(DIS*LSTAT)', 'TAX/(DIS*(-CRIM + TAX + ZN))', 'LSTAT*(CHAS - TAX)', '-CHAS*(AGE*CRIM + B - TAX - ZN) + LSTAT*(NOX + RM) + RM*TAX', 'INDUS/(DIS*LSTAT)', 'TAX/(DIS*(-CRIM + TAX + ZN))', 'CRIM + log(DIS)', 'squared(NOX)', 'AGE*log(RAD)', 'TAX/(DIS*NOX*(-CRIM + TAX + ZN))'] \n",
      "2019-11-15 13:44:24,458:INFO: -- Generation 9 -- \n",
      "2019-11-15 13:44:58,813:INFO:   Evaluated 1195 individuals \n",
      "2019-11-15 13:44:58,823:INFO:   Min 3.1388099154241567 \n",
      "2019-11-15 13:44:58,825:INFO:   Max 100000000000.0 \n",
      "2019-11-15 13:44:58,825:INFO:   Avg 486000003.1725569 \n",
      "2019-11-15 13:44:58,826:INFO:   Std 6693265570.475765 \n",
      "2019-11-15 13:45:01,054:INFO: Generation: 9, validation scores: [4.98447977 3.6243553  3.54515293 3.43740977 2.56403527 3.28494055\n",
      " 3.21760362 2.26293329 3.87564673 2.81895057], mean_score: 3.361550780311852 \n",
      "2019-11-15 13:45:01,056:INFO: Generation: 9, best solution features: ['CRIM', 'ZN', 'INDUS', 'CHAS', 'NOX', 'RM', 'AGE', 'DIS', 'RAD', 'TAX', 'PTRATIO', 'B', 'LSTAT', 'LSTAT*(CHAS - TAX)', '-CHAS*(AGE*CRIM + B - TAX - ZN) + LSTAT*(NOX + RM) + RM*TAX', 'INDUS/(DIS*LSTAT)', 'TAX/(DIS*(-CRIM + TAX + ZN))', 'LSTAT*(CHAS - TAX)', '-CHAS*(AGE*CRIM + B - TAX - ZN) + LSTAT*(NOX + RM) + RM*TAX', 'INDUS/(DIS*LSTAT)', 'TAX/(DIS*(-CRIM + TAX + ZN))', 'CRIM + log(DIS)', 'squared(NOX)', 'AGE*log(RAD)', 'TAX/(DIS*NOX*(-CRIM + TAX + ZN))'] \n",
      "2019-11-15 13:45:01,057:INFO: -- Generation 10 -- \n",
      "2019-11-15 13:45:35,678:INFO:   Evaluated 1193 individuals \n",
      "2019-11-15 13:45:35,688:INFO:   Min 3.1388099154241567 \n",
      "2019-11-15 13:45:35,689:INFO:   Max 100000000000.0 \n",
      "2019-11-15 13:45:35,690:INFO:   Avg 880500003.1331257 \n",
      "2019-11-15 13:45:35,692:INFO:   Std 9179064208.53905 \n",
      "2019-11-15 13:45:37,854:INFO: Generation: 10, validation scores: [4.98447977 3.6243553  3.54515293 3.43740977 2.56403527 3.28494055\n",
      " 3.21760362 2.26293329 3.87564673 2.81895057], mean_score: 3.361550780311852 \n",
      "2019-11-15 13:45:37,856:INFO: Generation: 10, best solution features: ['CRIM', 'ZN', 'INDUS', 'CHAS', 'NOX', 'RM', 'AGE', 'DIS', 'RAD', 'TAX', 'PTRATIO', 'B', 'LSTAT', 'LSTAT*(CHAS - TAX)', '-CHAS*(AGE*CRIM + B - TAX - ZN) + LSTAT*(NOX + RM) + RM*TAX', 'INDUS/(DIS*LSTAT)', 'TAX/(DIS*(-CRIM + TAX + ZN))', 'LSTAT*(CHAS - TAX)', '-CHAS*(AGE*CRIM + B - TAX - ZN) + LSTAT*(NOX + RM) + RM*TAX', 'INDUS/(DIS*LSTAT)', 'TAX/(DIS*(-CRIM + TAX + ZN))', 'CRIM + log(DIS)', 'squared(NOX)', 'AGE*log(RAD)', 'TAX/(DIS*NOX*(-CRIM + TAX + ZN))'] \n",
      "2019-11-15 13:45:37,857:INFO: -- Generation 11 -- \n",
      "2019-11-15 13:46:11,836:INFO:   Evaluated 1185 individuals \n",
      "2019-11-15 13:46:11,844:INFO:   Min 3.1388099154241567 \n",
      "2019-11-15 13:46:11,845:INFO:   Max 100000000000.0 \n",
      "2019-11-15 13:46:11,846:INFO:   Avg 828500003.3968931 \n",
      "2019-11-15 13:46:11,847:INFO:   Std 8907417568.766567 \n",
      "2019-11-15 13:46:14,037:INFO: Generation: 11, validation scores: [4.98447977 3.6243553  3.54515293 3.43740977 2.56403527 3.28494055\n",
      " 3.21760362 2.26293329 3.87564673 2.81895057], mean_score: 3.361550780311852 \n",
      "2019-11-15 13:46:14,039:INFO: Generation: 11, best solution features: ['CRIM', 'ZN', 'INDUS', 'CHAS', 'NOX', 'RM', 'AGE', 'DIS', 'RAD', 'TAX', 'PTRATIO', 'B', 'LSTAT', 'LSTAT*(CHAS - TAX)', '-CHAS*(AGE*CRIM + B - TAX - ZN) + LSTAT*(NOX + RM) + RM*TAX', 'INDUS/(DIS*LSTAT)', 'TAX/(DIS*(-CRIM + TAX + ZN))', 'LSTAT*(CHAS - TAX)', '-CHAS*(AGE*CRIM + B - TAX - ZN) + LSTAT*(NOX + RM) + RM*TAX', 'INDUS/(DIS*LSTAT)', 'TAX/(DIS*(-CRIM + TAX + ZN))', 'CRIM + log(DIS)', 'squared(NOX)', 'AGE*log(RAD)', 'TAX/(DIS*NOX*(-CRIM + TAX + ZN))'] \n",
      "2019-11-15 13:46:14,040:INFO: -- Generation 12 -- \n",
      "2019-11-15 13:46:47,924:INFO:   Evaluated 1173 individuals \n",
      "2019-11-15 13:46:47,932:INFO:   Min 3.1388099154241567 \n",
      "2019-11-15 13:46:47,934:INFO:   Max 100000000000.0 \n",
      "2019-11-15 13:46:47,935:INFO:   Avg 979500003.0352149 \n",
      "2019-11-15 13:46:47,935:INFO:   Std 9698973128.329311 \n",
      "2019-11-15 13:46:50,051:INFO: Generation: 12, validation scores: [4.98447977 3.6243553  3.54515293 3.43740977 2.56403527 3.28494055\n",
      " 3.21760362 2.26293329 3.87564673 2.81895057], mean_score: 3.361550780311852 \n",
      "2019-11-15 13:46:50,053:INFO: Generation: 12, best solution features: ['CRIM', 'ZN', 'INDUS', 'CHAS', 'NOX', 'RM', 'AGE', 'DIS', 'RAD', 'TAX', 'PTRATIO', 'B', 'LSTAT', 'LSTAT*(CHAS - TAX)', '-CHAS*(AGE*CRIM + B - TAX - ZN) + LSTAT*(NOX + RM) + RM*TAX', 'INDUS/(DIS*LSTAT)', 'TAX/(DIS*(-CRIM + TAX + ZN))', 'LSTAT*(CHAS - TAX)', '-CHAS*(AGE*CRIM + B - TAX - ZN) + LSTAT*(NOX + RM) + RM*TAX', 'INDUS/(DIS*LSTAT)', 'TAX/(DIS*(-CRIM + TAX + ZN))', 'CRIM + log(DIS)', 'squared(NOX)', 'AGE*log(RAD)', 'TAX/(DIS*NOX*(-CRIM + TAX + ZN))'] \n",
      "2019-11-15 13:46:50,054:INFO: -- Generation 13 -- \n",
      "2019-11-15 13:47:24,313:INFO:   Evaluated 1191 individuals \n",
      "2019-11-15 13:47:24,322:INFO:   Min 3.1388099154241567 \n",
      "2019-11-15 13:47:24,324:INFO:   Max 100000000000.0 \n",
      "2019-11-15 13:47:24,325:INFO:   Avg 987000003.1739364 \n",
      "2019-11-15 13:47:24,326:INFO:   Std 9698599434.646975 \n",
      "2019-11-15 13:47:26,471:INFO: Generation: 13, validation scores: [4.98447977 3.6243553  3.54515293 3.43740977 2.56403527 3.28494055\n",
      " 3.21760362 2.26293329 3.87564673 2.81895057], mean_score: 3.361550780311852 \n",
      "2019-11-15 13:47:26,473:INFO: Generation: 13, best solution features: ['CRIM', 'ZN', 'INDUS', 'CHAS', 'NOX', 'RM', 'AGE', 'DIS', 'RAD', 'TAX', 'PTRATIO', 'B', 'LSTAT', 'LSTAT*(CHAS - TAX)', '-CHAS*(AGE*CRIM + B - TAX - ZN) + LSTAT*(NOX + RM) + RM*TAX', 'INDUS/(DIS*LSTAT)', 'TAX/(DIS*(-CRIM + TAX + ZN))', 'LSTAT*(CHAS - TAX)', '-CHAS*(AGE*CRIM + B - TAX - ZN) + LSTAT*(NOX + RM) + RM*TAX', 'INDUS/(DIS*LSTAT)', 'TAX/(DIS*(-CRIM + TAX + ZN))', 'CRIM + log(DIS)', 'squared(NOX)', 'AGE*log(RAD)', 'TAX/(DIS*NOX*(-CRIM + TAX + ZN))'] \n",
      "2019-11-15 13:47:26,474:INFO: -- Generation 14 -- \n",
      "2019-11-15 13:48:02,136:INFO:   Evaluated 1227 individuals \n",
      "2019-11-15 13:48:02,144:INFO:   Min 3.1388099154241567 \n",
      "2019-11-15 13:48:02,145:INFO:   Max 100000000000.0 \n",
      "2019-11-15 13:48:02,146:INFO:   Avg 930500003.120975 \n",
      "2019-11-15 13:48:02,147:INFO:   Std 9442704577.831068 \n",
      "2019-11-15 13:48:04,229:INFO: Generation: 14, validation scores: [4.98447977 3.6243553  3.54515293 3.43740977 2.56403527 3.28494055\n",
      " 3.21760362 2.26293329 3.87564673 2.81895057], mean_score: 3.361550780311852 \n",
      "2019-11-15 13:48:04,231:INFO: Generation: 14, best solution features: ['CRIM', 'ZN', 'INDUS', 'CHAS', 'NOX', 'RM', 'AGE', 'DIS', 'RAD', 'TAX', 'PTRATIO', 'B', 'LSTAT', 'LSTAT*(CHAS - TAX)', '-CHAS*(AGE*CRIM + B - TAX - ZN) + LSTAT*(NOX + RM) + RM*TAX', 'INDUS/(DIS*LSTAT)', 'TAX/(DIS*(-CRIM + TAX + ZN))', 'LSTAT*(CHAS - TAX)', '-CHAS*(AGE*CRIM + B - TAX - ZN) + LSTAT*(NOX + RM) + RM*TAX', 'INDUS/(DIS*LSTAT)', 'TAX/(DIS*(-CRIM + TAX + ZN))', 'CRIM + log(DIS)', 'squared(NOX)', 'AGE*log(RAD)', 'TAX/(DIS*NOX*(-CRIM + TAX + ZN))'] \n",
      "2019-11-15 13:48:04,232:INFO: -- Generation 15 -- \n",
      "2019-11-15 13:48:37,700:INFO:   Evaluated 1183 individuals \n",
      "2019-11-15 13:48:37,710:INFO:   Min 3.1388099154241567 \n",
      "2019-11-15 13:48:37,711:INFO:   Max 100000000000.0 \n",
      "2019-11-15 13:48:37,711:INFO:   Avg 1031500003.1454799 \n",
      "2019-11-15 13:48:37,712:INFO:   Std 9948241439.747576 \n",
      "2019-11-15 13:48:39,846:INFO: Generation: 15, validation scores: [4.98447977 3.6243553  3.54515293 3.43740977 2.56403527 3.28494055\n",
      " 3.21760362 2.26293329 3.87564673 2.81895057], mean_score: 3.361550780311852 \n",
      "2019-11-15 13:48:39,848:INFO: Generation: 15, best solution features: ['CRIM', 'ZN', 'INDUS', 'CHAS', 'NOX', 'RM', 'AGE', 'DIS', 'RAD', 'TAX', 'PTRATIO', 'B', 'LSTAT', 'LSTAT*(CHAS - TAX)', '-CHAS*(AGE*CRIM + B - TAX - ZN) + LSTAT*(NOX + RM) + RM*TAX', 'INDUS/(DIS*LSTAT)', 'TAX/(DIS*(-CRIM + TAX + ZN))', 'LSTAT*(CHAS - TAX)', '-CHAS*(AGE*CRIM + B - TAX - ZN) + LSTAT*(NOX + RM) + RM*TAX', 'INDUS/(DIS*LSTAT)', 'TAX/(DIS*(-CRIM + TAX + ZN))', 'CRIM + log(DIS)', 'squared(NOX)', 'AGE*log(RAD)', 'TAX/(DIS*NOX*(-CRIM + TAX + ZN))'] \n",
      "2019-11-15 13:48:39,850:INFO: -- Generation 16 -- \n",
      "2019-11-15 13:49:14,049:INFO:   Evaluated 1201 individuals \n",
      "2019-11-15 13:49:14,057:INFO:   Min 3.1388099154241567 \n",
      "2019-11-15 13:49:14,058:INFO:   Max 100000000000.0 \n",
      "2019-11-15 13:49:14,059:INFO:   Avg 1133000003.1213098 \n",
      "2019-11-15 13:49:14,060:INFO:   Std 10428293771.894188 \n",
      "2019-11-15 13:49:16,312:INFO: Generation: 16, validation scores: [4.98447977 3.6243553  3.54515293 3.43740977 2.56403527 3.28494055\n",
      " 3.21760362 2.26293329 3.87564673 2.81895057], mean_score: 3.361550780311852 \n",
      "2019-11-15 13:49:16,314:INFO: Generation: 16, best solution features: ['CRIM', 'ZN', 'INDUS', 'CHAS', 'NOX', 'RM', 'AGE', 'DIS', 'RAD', 'TAX', 'PTRATIO', 'B', 'LSTAT', 'LSTAT*(CHAS - TAX)', '-CHAS*(AGE*CRIM + B - TAX - ZN) + LSTAT*(NOX + RM) + RM*TAX', 'INDUS/(DIS*LSTAT)', 'TAX/(DIS*(-CRIM + TAX + ZN))', 'LSTAT*(CHAS - TAX)', '-CHAS*(AGE*CRIM + B - TAX - ZN) + LSTAT*(NOX + RM) + RM*TAX', 'INDUS/(DIS*LSTAT)', 'TAX/(DIS*(-CRIM + TAX + ZN))', 'CRIM + log(DIS)', 'squared(NOX)', 'AGE*log(RAD)', 'TAX/(DIS*NOX*(-CRIM + TAX + ZN))'] \n",
      "2019-11-15 13:49:16,315:INFO: -- End of (successful) evolution -- \n",
      "2019-11-15 13:49:16,316:INFO: Best validation score: 3.361550780311638 \n"
     ]
    }
   ],
   "source": [
    "gfe.fit(population_size=2000, early_stopping_patience=10)"
   ]
  },
  {
   "cell_type": "code",
   "execution_count": 31,
   "metadata": {},
   "outputs": [],
   "source": [
    "X_train = gfe.transform(X_train)\n",
    "X_test = gfe.transform(X_test)\n",
    "X = gfe.transform(X)"
   ]
  },
  {
   "cell_type": "code",
   "execution_count": 32,
   "metadata": {},
   "outputs": [
    {
     "data": {
      "text/html": [
       "<div>\n",
       "<style scoped>\n",
       "    .dataframe tbody tr th:only-of-type {\n",
       "        vertical-align: middle;\n",
       "    }\n",
       "\n",
       "    .dataframe tbody tr th {\n",
       "        vertical-align: top;\n",
       "    }\n",
       "\n",
       "    .dataframe thead th {\n",
       "        text-align: right;\n",
       "    }\n",
       "</style>\n",
       "<table border=\"1\" class=\"dataframe\">\n",
       "  <thead>\n",
       "    <tr style=\"text-align: right;\">\n",
       "      <th></th>\n",
       "      <th>CRIM</th>\n",
       "      <th>ZN</th>\n",
       "      <th>INDUS</th>\n",
       "      <th>CHAS</th>\n",
       "      <th>NOX</th>\n",
       "      <th>RM</th>\n",
       "      <th>AGE</th>\n",
       "      <th>DIS</th>\n",
       "      <th>RAD</th>\n",
       "      <th>TAX</th>\n",
       "      <th>...</th>\n",
       "      <th>INDUS/(DIS*LSTAT)</th>\n",
       "      <th>TAX/(DIS*(-CRIM + TAX + ZN))</th>\n",
       "      <th>LSTAT*(CHAS - TAX)</th>\n",
       "      <th>-CHAS*(AGE*CRIM + B - TAX - ZN) + LSTAT*(NOX + RM) + RM*TAX</th>\n",
       "      <th>INDUS/(DIS*LSTAT)</th>\n",
       "      <th>TAX/(DIS*(-CRIM + TAX + ZN))</th>\n",
       "      <th>B + log(DIS)</th>\n",
       "      <th>squared(NOX)</th>\n",
       "      <th>AGE*log(RAD)</th>\n",
       "      <th>TAX/(DIS*NOX*(-CRIM + TAX + ZN))</th>\n",
       "    </tr>\n",
       "  </thead>\n",
       "  <tbody>\n",
       "    <tr>\n",
       "      <td>300</td>\n",
       "      <td>0.05644</td>\n",
       "      <td>40.0</td>\n",
       "      <td>6.41</td>\n",
       "      <td>1.0</td>\n",
       "      <td>0.447</td>\n",
       "      <td>6.758</td>\n",
       "      <td>32.9</td>\n",
       "      <td>4.0776</td>\n",
       "      <td>4.0</td>\n",
       "      <td>254.0</td>\n",
       "      <td>...</td>\n",
       "      <td>0.445327</td>\n",
       "      <td>0.211917</td>\n",
       "      <td>-893.09</td>\n",
       "      <td>1637.208774</td>\n",
       "      <td>0.445327</td>\n",
       "      <td>0.211917</td>\n",
       "      <td>398.305509</td>\n",
       "      <td>0.199809</td>\n",
       "      <td>45.609084</td>\n",
       "      <td>0.474087</td>\n",
       "    </tr>\n",
       "    <tr>\n",
       "      <td>301</td>\n",
       "      <td>3.83684</td>\n",
       "      <td>0.0</td>\n",
       "      <td>18.10</td>\n",
       "      <td>0.0</td>\n",
       "      <td>0.770</td>\n",
       "      <td>6.251</td>\n",
       "      <td>91.1</td>\n",
       "      <td>2.2955</td>\n",
       "      <td>24.0</td>\n",
       "      <td>666.0</td>\n",
       "      <td>...</td>\n",
       "      <td>0.555672</td>\n",
       "      <td>0.438159</td>\n",
       "      <td>-9450.54</td>\n",
       "      <td>4262.793990</td>\n",
       "      <td>0.555672</td>\n",
       "      <td>0.438159</td>\n",
       "      <td>351.480951</td>\n",
       "      <td>0.592900</td>\n",
       "      <td>289.520704</td>\n",
       "      <td>0.569038</td>\n",
       "    </tr>\n",
       "    <tr>\n",
       "      <td>302</td>\n",
       "      <td>0.08387</td>\n",
       "      <td>0.0</td>\n",
       "      <td>12.83</td>\n",
       "      <td>0.0</td>\n",
       "      <td>0.437</td>\n",
       "      <td>5.874</td>\n",
       "      <td>36.6</td>\n",
       "      <td>4.5026</td>\n",
       "      <td>5.0</td>\n",
       "      <td>398.0</td>\n",
       "      <td>...</td>\n",
       "      <td>0.313128</td>\n",
       "      <td>0.222141</td>\n",
       "      <td>-3621.80</td>\n",
       "      <td>2395.282100</td>\n",
       "      <td>0.313128</td>\n",
       "      <td>0.222141</td>\n",
       "      <td>397.564655</td>\n",
       "      <td>0.190969</td>\n",
       "      <td>58.905428</td>\n",
       "      <td>0.508331</td>\n",
       "    </tr>\n",
       "    <tr>\n",
       "      <td>303</td>\n",
       "      <td>0.31827</td>\n",
       "      <td>0.0</td>\n",
       "      <td>9.90</td>\n",
       "      <td>0.0</td>\n",
       "      <td>0.544</td>\n",
       "      <td>5.914</td>\n",
       "      <td>83.2</td>\n",
       "      <td>3.9986</td>\n",
       "      <td>4.0</td>\n",
       "      <td>304.0</td>\n",
       "      <td>...</td>\n",
       "      <td>0.135072</td>\n",
       "      <td>0.250350</td>\n",
       "      <td>-5572.32</td>\n",
       "      <td>1916.231140</td>\n",
       "      <td>0.135072</td>\n",
       "      <td>0.250350</td>\n",
       "      <td>392.085944</td>\n",
       "      <td>0.295936</td>\n",
       "      <td>115.339691</td>\n",
       "      <td>0.460202</td>\n",
       "    </tr>\n",
       "    <tr>\n",
       "      <td>304</td>\n",
       "      <td>0.40202</td>\n",
       "      <td>0.0</td>\n",
       "      <td>9.90</td>\n",
       "      <td>0.0</td>\n",
       "      <td>0.544</td>\n",
       "      <td>6.382</td>\n",
       "      <td>67.2</td>\n",
       "      <td>3.5325</td>\n",
       "      <td>4.0</td>\n",
       "      <td>304.0</td>\n",
       "      <td>...</td>\n",
       "      <td>0.270516</td>\n",
       "      <td>0.283460</td>\n",
       "      <td>-3149.44</td>\n",
       "      <td>2011.881360</td>\n",
       "      <td>0.270516</td>\n",
       "      <td>0.283460</td>\n",
       "      <td>396.472006</td>\n",
       "      <td>0.295936</td>\n",
       "      <td>93.158981</td>\n",
       "      <td>0.521067</td>\n",
       "    </tr>\n",
       "  </tbody>\n",
       "</table>\n",
       "<p>5 rows × 25 columns</p>\n",
       "</div>"
      ],
      "text/plain": [
       "        CRIM    ZN  INDUS  CHAS    NOX     RM   AGE     DIS   RAD    TAX  ...  \\\n",
       "300  0.05644  40.0   6.41   1.0  0.447  6.758  32.9  4.0776   4.0  254.0  ...   \n",
       "301  3.83684   0.0  18.10   0.0  0.770  6.251  91.1  2.2955  24.0  666.0  ...   \n",
       "302  0.08387   0.0  12.83   0.0  0.437  5.874  36.6  4.5026   5.0  398.0  ...   \n",
       "303  0.31827   0.0   9.90   0.0  0.544  5.914  83.2  3.9986   4.0  304.0  ...   \n",
       "304  0.40202   0.0   9.90   0.0  0.544  6.382  67.2  3.5325   4.0  304.0  ...   \n",
       "\n",
       "     INDUS/(DIS*LSTAT)  TAX/(DIS*(-CRIM + TAX + ZN))  LSTAT*(CHAS - TAX)  \\\n",
       "300           0.445327                      0.211917             -893.09   \n",
       "301           0.555672                      0.438159            -9450.54   \n",
       "302           0.313128                      0.222141            -3621.80   \n",
       "303           0.135072                      0.250350            -5572.32   \n",
       "304           0.270516                      0.283460            -3149.44   \n",
       "\n",
       "     -CHAS*(AGE*CRIM + B - TAX - ZN) + LSTAT*(NOX + RM) + RM*TAX  \\\n",
       "300                                        1637.208774             \n",
       "301                                        4262.793990             \n",
       "302                                        2395.282100             \n",
       "303                                        1916.231140             \n",
       "304                                        2011.881360             \n",
       "\n",
       "     INDUS/(DIS*LSTAT)  TAX/(DIS*(-CRIM + TAX + ZN))  B + log(DIS)  \\\n",
       "300           0.445327                      0.211917    398.305509   \n",
       "301           0.555672                      0.438159    351.480951   \n",
       "302           0.313128                      0.222141    397.564655   \n",
       "303           0.135072                      0.250350    392.085944   \n",
       "304           0.270516                      0.283460    396.472006   \n",
       "\n",
       "     squared(NOX)  AGE*log(RAD)  TAX/(DIS*NOX*(-CRIM + TAX + ZN))  \n",
       "300      0.199809     45.609084                          0.474087  \n",
       "301      0.592900    289.520704                          0.569038  \n",
       "302      0.190969     58.905428                          0.508331  \n",
       "303      0.295936    115.339691                          0.460202  \n",
       "304      0.295936     93.158981                          0.521067  \n",
       "\n",
       "[5 rows x 25 columns]"
      ]
     },
     "execution_count": 32,
     "metadata": {},
     "output_type": "execute_result"
    }
   ],
   "source": [
    "X_test.head()"
   ]
  },
  {
   "cell_type": "code",
   "execution_count": 33,
   "metadata": {},
   "outputs": [],
   "source": [
    "model = create_new_model()"
   ]
  },
  {
   "cell_type": "code",
   "execution_count": 34,
   "metadata": {},
   "outputs": [
    {
     "data": {
      "image/png": "[encoded data removed]",
      "text/plain": [
       "<Figure size 432x288 with 2 Axes>"
      ]
     },
     "metadata": {
      "needs_background": "light"
     },
     "output_type": "display_data"
    }
   ],
   "source": [
    "display_residual_plot(model, X_train, y_train, X_test, y_test)"
   ]
  },
  {
   "cell_type": "code",
   "execution_count": 35,
   "metadata": {},
   "outputs": [
    {
     "data": {
      "image/png": "[encoded data removed]",
      "text/plain": [
       "<Figure size 432x288 with 1 Axes>"
      ]
     },
     "metadata": {
      "needs_background": "light"
     },
     "output_type": "display_data"
    }
   ],
   "source": [
    "prediction_error_plot(model, X_train, y_train, X_test, y_test)"
   ]
  },
  {
   "cell_type": "code",
   "execution_count": 36,
   "metadata": {},
   "outputs": [
    {
     "name": "stdout",
     "output_type": "stream",
     "text": [
      "Mean of metric: 3.209043002987033, std: 0.5695992144295353\n"
     ]
    }
   ],
   "source": [
    "score_model(model, X, Y)"
   ]
  },
  {
   "cell_type": "code",
   "execution_count": 37,
   "metadata": {},
   "outputs": [],
   "source": [
    "model.fit(X_train, y_train);"
   ]
  },
  {
   "cell_type": "code",
   "execution_count": 38,
   "metadata": {},
   "outputs": [
    {
     "data": {
      "text/plain": [
       "0.8954945681256954"
      ]
     },
     "execution_count": 38,
     "metadata": {},
     "output_type": "execute_result"
    }
   ],
   "source": [
    "r2_score(y_test, model.predict(X_test))"
   ]
  },
  {
   "cell_type": "markdown",
   "metadata": {},
   "source": [
    "# LGBM"
   ]
  },
  {
   "cell_type": "code",
   "execution_count": 39,
   "metadata": {},
   "outputs": [],
   "source": [
    "from lightgbm import LGBMRegressor"
   ]
  },
  {
   "cell_type": "code",
   "execution_count": 204,
   "metadata": {},
   "outputs": [],
   "source": [
    "light_gbm_model = LGBMRegressor(n_estimators=250, random_state=7, reg_alpha=10)"
   ]
  },
  {
   "cell_type": "code",
   "execution_count": 205,
   "metadata": {},
   "outputs": [],
   "source": [
    "X = df.drop('Y', axis=1).copy()\n",
    "# X = gfe.transform(X)\n",
    "Y = df.loc[:, 'Y'].copy()\n",
    "columns = X.columns.tolist()\n",
    "X_train, X_test, y_train, y_test = X.iloc[:300, :], X.iloc[300:, :], Y.iloc[:300], Y.iloc[300:]"
   ]
  },
  {
   "cell_type": "code",
   "execution_count": 206,
   "metadata": {},
   "outputs": [
    {
     "data": {
      "image/png": "[encoded data removed]",
      "text/plain": [
       "<Figure size 432x288 with 2 Axes>"
      ]
     },
     "metadata": {
      "needs_background": "light"
     },
     "output_type": "display_data"
    }
   ],
   "source": [
    "display_residual_plot(light_gbm_model, X_train, y_train, X_test, y_test)"
   ]
  },
  {
   "cell_type": "code",
   "execution_count": 207,
   "metadata": {},
   "outputs": [
    {
     "data": {
      "image/png": "[encoded data removed]",
      "text/plain": [
       "<Figure size 432x288 with 1 Axes>"
      ]
     },
     "metadata": {
      "needs_background": "light"
     },
     "output_type": "display_data"
    }
   ],
   "source": [
    "prediction_error_plot(light_gbm_model, X_train, y_train, X_test, y_test)"
   ]
  },
  {
   "cell_type": "code",
   "execution_count": 208,
   "metadata": {},
   "outputs": [
    {
     "name": "stdout",
     "output_type": "stream",
     "text": [
      "Mean of metric: 3.3802976793593134, std: 0.8444496604871627\n"
     ]
    }
   ],
   "source": [
    "score_model(light_gbm_model, X, Y)"
   ]
  },
  {
   "cell_type": "code",
   "execution_count": 209,
   "metadata": {},
   "outputs": [],
   "source": [
    "X_train, X_val, y_train, y_val = X.iloc[:250, :], X.iloc[250:300, :], Y.iloc[:250], Y.iloc[250:300]"
   ]
  },
  {
   "cell_type": "code",
   "execution_count": 210,
   "metadata": {},
   "outputs": [
    {
     "name": "stdout",
     "output_type": "stream",
     "text": [
      "[1]\tvalid_0's l2: 72.0908\n",
      "[2]\tvalid_0's l2: 63.3354\n",
      "[3]\tvalid_0's l2: 56.1829\n",
      "[4]\tvalid_0's l2: 50.02\n",
      "[5]\tvalid_0's l2: 45.2083\n",
      "[6]\tvalid_0's l2: 40.915\n",
      "[7]\tvalid_0's l2: 37.0365\n",
      "[8]\tvalid_0's l2: 33.695\n",
      "[9]\tvalid_0's l2: 30.851\n",
      "[10]\tvalid_0's l2: 28.1058\n",
      "[11]\tvalid_0's l2: 26.2033\n",
      "[12]\tvalid_0's l2: 24.5186\n",
      "[13]\tvalid_0's l2: 22.9227\n",
      "[14]\tvalid_0's l2: 21.4935\n",
      "[15]\tvalid_0's l2: 20.1784\n",
      "[16]\tvalid_0's l2: 19.0043\n",
      "[17]\tvalid_0's l2: 18.1695\n",
      "[18]\tvalid_0's l2: 17.3078\n",
      "[19]\tvalid_0's l2: 16.5481\n",
      "[20]\tvalid_0's l2: 15.9497\n",
      "[21]\tvalid_0's l2: 15.5086\n",
      "[22]\tvalid_0's l2: 14.8781\n",
      "[23]\tvalid_0's l2: 14.5453\n",
      "[24]\tvalid_0's l2: 14.1891\n",
      "[25]\tvalid_0's l2: 13.7807\n",
      "[26]\tvalid_0's l2: 13.5971\n",
      "[27]\tvalid_0's l2: 13.3433\n",
      "[28]\tvalid_0's l2: 13.1285\n",
      "[29]\tvalid_0's l2: 12.8266\n",
      "[30]\tvalid_0's l2: 12.4659\n",
      "[31]\tvalid_0's l2: 12.3469\n",
      "[32]\tvalid_0's l2: 12.1974\n",
      "[33]\tvalid_0's l2: 11.9343\n",
      "[34]\tvalid_0's l2: 11.8072\n",
      "[35]\tvalid_0's l2: 11.4855\n",
      "[36]\tvalid_0's l2: 11.2439\n",
      "[37]\tvalid_0's l2: 11.1807\n",
      "[38]\tvalid_0's l2: 10.9187\n",
      "[39]\tvalid_0's l2: 10.7325\n",
      "[40]\tvalid_0's l2: 10.5529\n",
      "[41]\tvalid_0's l2: 10.3427\n",
      "[42]\tvalid_0's l2: 10.2616\n",
      "[43]\tvalid_0's l2: 10.0488\n",
      "[44]\tvalid_0's l2: 10.1007\n",
      "[45]\tvalid_0's l2: 10.1111\n",
      "[46]\tvalid_0's l2: 9.96492\n",
      "[47]\tvalid_0's l2: 9.91024\n",
      "[48]\tvalid_0's l2: 9.9728\n",
      "[49]\tvalid_0's l2: 10.0012\n",
      "[50]\tvalid_0's l2: 10.1538\n",
      "[51]\tvalid_0's l2: 10.1248\n",
      "[52]\tvalid_0's l2: 10.1612\n",
      "[53]\tvalid_0's l2: 10.077\n",
      "[54]\tvalid_0's l2: 10.0903\n",
      "[55]\tvalid_0's l2: 10.0878\n",
      "[56]\tvalid_0's l2: 10.1161\n",
      "[57]\tvalid_0's l2: 10.0125\n",
      "[58]\tvalid_0's l2: 9.95404\n",
      "[59]\tvalid_0's l2: 10.0043\n",
      "[60]\tvalid_0's l2: 10.082\n",
      "[61]\tvalid_0's l2: 10.0381\n",
      "[62]\tvalid_0's l2: 9.99535\n",
      "[63]\tvalid_0's l2: 10.0257\n",
      "[64]\tvalid_0's l2: 10.1139\n",
      "[65]\tvalid_0's l2: 10.0278\n",
      "[66]\tvalid_0's l2: 10.0421\n",
      "[67]\tvalid_0's l2: 9.97476\n",
      "[68]\tvalid_0's l2: 9.92511\n",
      "[69]\tvalid_0's l2: 9.97066\n",
      "[70]\tvalid_0's l2: 9.95288\n",
      "[71]\tvalid_0's l2: 10.0183\n",
      "[72]\tvalid_0's l2: 10.0866\n",
      "[73]\tvalid_0's l2: 10.0919\n",
      "[74]\tvalid_0's l2: 10.1045\n",
      "[75]\tvalid_0's l2: 10.1463\n",
      "[76]\tvalid_0's l2: 10.1069\n",
      "[77]\tvalid_0's l2: 10.0807\n",
      "[78]\tvalid_0's l2: 10.0658\n",
      "[79]\tvalid_0's l2: 10.0232\n",
      "[80]\tvalid_0's l2: 10.0114\n",
      "[81]\tvalid_0's l2: 10.0533\n",
      "[82]\tvalid_0's l2: 10.0604\n",
      "[83]\tvalid_0's l2: 10.0833\n",
      "[84]\tvalid_0's l2: 10.1323\n",
      "[85]\tvalid_0's l2: 10.1153\n",
      "[86]\tvalid_0's l2: 10.1145\n",
      "[87]\tvalid_0's l2: 10.084\n",
      "[88]\tvalid_0's l2: 10.0714\n",
      "[89]\tvalid_0's l2: 10.0995\n",
      "[90]\tvalid_0's l2: 10.0888\n",
      "[91]\tvalid_0's l2: 10.1366\n",
      "[92]\tvalid_0's l2: 10.1883\n",
      "[93]\tvalid_0's l2: 10.1773\n",
      "[94]\tvalid_0's l2: 10.1709\n",
      "[95]\tvalid_0's l2: 10.1819\n",
      "[96]\tvalid_0's l2: 10.2296\n",
      "[97]\tvalid_0's l2: 10.2245\n",
      "[98]\tvalid_0's l2: 10.2604\n",
      "[99]\tvalid_0's l2: 10.2682\n",
      "[100]\tvalid_0's l2: 10.2598\n",
      "[101]\tvalid_0's l2: 10.2488\n",
      "[102]\tvalid_0's l2: 10.2471\n",
      "[103]\tvalid_0's l2: 10.2802\n",
      "[104]\tvalid_0's l2: 10.3152\n",
      "[105]\tvalid_0's l2: 10.3251\n",
      "[106]\tvalid_0's l2: 10.3691\n",
      "[107]\tvalid_0's l2: 10.3844\n",
      "[108]\tvalid_0's l2: 10.39\n",
      "[109]\tvalid_0's l2: 10.3925\n",
      "[110]\tvalid_0's l2: 10.3882\n",
      "[111]\tvalid_0's l2: 10.3821\n",
      "[112]\tvalid_0's l2: 10.4108\n",
      "[113]\tvalid_0's l2: 10.3938\n",
      "[114]\tvalid_0's l2: 10.4427\n",
      "[115]\tvalid_0's l2: 10.4543\n",
      "[116]\tvalid_0's l2: 10.4693\n",
      "[117]\tvalid_0's l2: 10.483\n",
      "[118]\tvalid_0's l2: 10.4989\n",
      "[119]\tvalid_0's l2: 10.4924\n",
      "[120]\tvalid_0's l2: 10.4838\n",
      "[121]\tvalid_0's l2: 10.4807\n",
      "[122]\tvalid_0's l2: 10.4846\n",
      "[123]\tvalid_0's l2: 10.5446\n",
      "[124]\tvalid_0's l2: 10.5418\n",
      "[125]\tvalid_0's l2: 10.5628\n",
      "[126]\tvalid_0's l2: 10.5565\n",
      "[127]\tvalid_0's l2: 10.5486\n",
      "[128]\tvalid_0's l2: 10.5692\n",
      "[129]\tvalid_0's l2: 10.5878\n",
      "[130]\tvalid_0's l2: 10.558\n",
      "[131]\tvalid_0's l2: 10.5819\n",
      "[132]\tvalid_0's l2: 10.5687\n",
      "[133]\tvalid_0's l2: 10.5806\n",
      "[134]\tvalid_0's l2: 10.5761\n",
      "[135]\tvalid_0's l2: 10.5818\n",
      "[136]\tvalid_0's l2: 10.5963\n",
      "[137]\tvalid_0's l2: 10.593\n",
      "[138]\tvalid_0's l2: 10.6171\n",
      "[139]\tvalid_0's l2: 10.6291\n",
      "[140]\tvalid_0's l2: 10.5898\n",
      "[141]\tvalid_0's l2: 10.6059\n",
      "[142]\tvalid_0's l2: 10.5994\n",
      "[143]\tvalid_0's l2: 10.6117\n",
      "[144]\tvalid_0's l2: 10.6129\n",
      "[145]\tvalid_0's l2: 10.6305\n",
      "[146]\tvalid_0's l2: 10.6224\n",
      "[147]\tvalid_0's l2: 10.6301\n",
      "[148]\tvalid_0's l2: 10.5869\n",
      "[149]\tvalid_0's l2: 10.5747\n",
      "[150]\tvalid_0's l2: 10.5671\n",
      "[151]\tvalid_0's l2: 10.5443\n",
      "[152]\tvalid_0's l2: 10.5591\n",
      "[153]\tvalid_0's l2: 10.5402\n",
      "[154]\tvalid_0's l2: 10.5051\n",
      "[155]\tvalid_0's l2: 10.5224\n",
      "[156]\tvalid_0's l2: 10.5191\n",
      "[157]\tvalid_0's l2: 10.5455\n",
      "[158]\tvalid_0's l2: 10.5321\n",
      "[159]\tvalid_0's l2: 10.5048\n",
      "[160]\tvalid_0's l2: 10.5208\n",
      "[161]\tvalid_0's l2: 10.5123\n",
      "[162]\tvalid_0's l2: 10.5105\n",
      "[163]\tvalid_0's l2: 10.4832\n",
      "[164]\tvalid_0's l2: 10.4897\n",
      "[165]\tvalid_0's l2: 10.4666\n",
      "[166]\tvalid_0's l2: 10.5121\n",
      "[167]\tvalid_0's l2: 10.5113\n",
      "[168]\tvalid_0's l2: 10.4872\n",
      "[169]\tvalid_0's l2: 10.498\n",
      "[170]\tvalid_0's l2: 10.4957\n",
      "[171]\tvalid_0's l2: 10.5075\n",
      "[172]\tvalid_0's l2: 10.4762\n",
      "[173]\tvalid_0's l2: 10.4691\n",
      "[174]\tvalid_0's l2: 10.4515\n",
      "[175]\tvalid_0's l2: 10.4306\n",
      "[176]\tvalid_0's l2: 10.4079\n",
      "[177]\tvalid_0's l2: 10.4098\n",
      "[178]\tvalid_0's l2: 10.4389\n",
      "[179]\tvalid_0's l2: 10.4414\n",
      "[180]\tvalid_0's l2: 10.4383\n",
      "[181]\tvalid_0's l2: 10.4252\n",
      "[182]\tvalid_0's l2: 10.4579\n",
      "[183]\tvalid_0's l2: 10.4742\n",
      "[184]\tvalid_0's l2: 10.4471\n",
      "[185]\tvalid_0's l2: 10.4728\n",
      "[186]\tvalid_0's l2: 10.4617\n",
      "[187]\tvalid_0's l2: 10.4584\n",
      "[188]\tvalid_0's l2: 10.5061\n",
      "[189]\tvalid_0's l2: 10.4903\n",
      "[190]\tvalid_0's l2: 10.4707\n",
      "[191]\tvalid_0's l2: 10.4556\n",
      "[192]\tvalid_0's l2: 10.4332\n",
      "[193]\tvalid_0's l2: 10.452\n",
      "[194]\tvalid_0's l2: 10.4264\n",
      "[195]\tvalid_0's l2: 10.4057\n",
      "[196]\tvalid_0's l2: 10.3839\n",
      "[197]\tvalid_0's l2: 10.3994\n",
      "[198]\tvalid_0's l2: 10.4321\n",
      "[199]\tvalid_0's l2: 10.4235\n",
      "[200]\tvalid_0's l2: 10.422\n",
      "[201]\tvalid_0's l2: 10.4182\n",
      "[202]\tvalid_0's l2: 10.3999\n",
      "[203]\tvalid_0's l2: 10.3764\n",
      "[204]\tvalid_0's l2: 10.3693\n",
      "[205]\tvalid_0's l2: 10.363\n",
      "[206]\tvalid_0's l2: 10.3571\n",
      "[207]\tvalid_0's l2: 10.3842\n",
      "[208]\tvalid_0's l2: 10.3717\n",
      "[209]\tvalid_0's l2: 10.3667\n",
      "[210]\tvalid_0's l2: 10.3699\n",
      "[211]\tvalid_0's l2: 10.4058\n",
      "[212]\tvalid_0's l2: 10.4217\n",
      "[213]\tvalid_0's l2: 10.4513\n",
      "[214]\tvalid_0's l2: 10.4429\n",
      "[215]\tvalid_0's l2: 10.4761\n",
      "[216]\tvalid_0's l2: 10.5045\n",
      "[217]\tvalid_0's l2: 10.5087\n",
      "[218]\tvalid_0's l2: 10.5058\n",
      "[219]\tvalid_0's l2: 10.4952\n",
      "[220]\tvalid_0's l2: 10.4692\n",
      "[221]\tvalid_0's l2: 10.4543\n",
      "[222]\tvalid_0's l2: 10.4582\n",
      "[223]\tvalid_0's l2: 10.4864\n",
      "[224]\tvalid_0's l2: 10.4839\n",
      "[225]\tvalid_0's l2: 10.48\n",
      "[226]\tvalid_0's l2: 10.5058\n",
      "[227]\tvalid_0's l2: 10.5097\n",
      "[228]\tvalid_0's l2: 10.537\n",
      "[229]\tvalid_0's l2: 10.5509\n",
      "[230]\tvalid_0's l2: 10.5483\n",
      "[231]\tvalid_0's l2: 10.539\n",
      "[232]\tvalid_0's l2: 10.5217\n",
      "[233]\tvalid_0's l2: 10.4967\n",
      "[234]\tvalid_0's l2: 10.4971\n",
      "[235]\tvalid_0's l2: 10.4814\n",
      "[236]\tvalid_0's l2: 10.4831\n",
      "[237]\tvalid_0's l2: 10.487\n",
      "[238]\tvalid_0's l2: 10.5209\n",
      "[239]\tvalid_0's l2: 10.5243\n",
      "[240]\tvalid_0's l2: 10.5438\n",
      "[241]\tvalid_0's l2: 10.5787\n",
      "[242]\tvalid_0's l2: 10.5804\n",
      "[243]\tvalid_0's l2: 10.5804\n",
      "[244]\tvalid_0's l2: 10.5811\n",
      "[245]\tvalid_0's l2: 10.5804\n",
      "[246]\tvalid_0's l2: 10.5794\n",
      "[247]\tvalid_0's l2: 10.5874\n",
      "[248]\tvalid_0's l2: 10.5791\n",
      "[249]\tvalid_0's l2: 10.5916\n",
      "[250]\tvalid_0's l2: 10.6002\n"
     ]
    },
    {
     "data": {
      "text/plain": [
       "LGBMRegressor(boosting_type='gbdt', class_weight=None, colsample_bytree=1.0,\n",
       "              importance_type='split', learning_rate=0.1, max_depth=-1,\n",
       "              min_child_samples=20, min_child_weight=0.001, min_split_gain=0.0,\n",
       "              n_estimators=250, n_jobs=-1, num_leaves=31, objective=None,\n",
       "              random_state=7, reg_alpha=10, reg_lambda=0.0, silent=True,\n",
       "              subsample=1.0, subsample_for_bin=200000, subsample_freq=0)"
      ]
     },
     "execution_count": 210,
     "metadata": {},
     "output_type": "execute_result"
    }
   ],
   "source": [
    "light_gbm_model.fit(X_train, y_train, eval_set=[(X_val, y_val)])"
   ]
  },
  {
   "cell_type": "code",
   "execution_count": 211,
   "metadata": {},
   "outputs": [
    {
     "data": {
      "text/plain": [
       "0.8597914119448169"
      ]
     },
     "execution_count": 211,
     "metadata": {},
     "output_type": "execute_result"
    }
   ],
   "source": [
    "r2_score(y_test, light_gbm_model.predict(X_test))"
   ]
  }
 ],
 "metadata": {
  "kernelspec": {
   "display_name": "Python 3",
   "language": "python",
   "name": "python3"
  },
  "language_info": {
   "codemirror_mode": {
    "name": "ipython",
    "version": 3
   },
   "file_extension": ".py",
   "mimetype": "text/x-python",
   "name": "python",
   "nbconvert_exporter": "python",
   "pygments_lexer": "ipython3",
   "version": "3.7.3"
  }
 },
 "nbformat": 4,
 "nbformat_minor": 4
}
